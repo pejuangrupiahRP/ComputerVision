{
  "nbformat": 4,
  "nbformat_minor": 0,
  "metadata": {
    "colab": {
      "provenance": [],
      "gpuType": "T4"
    },
    "kernelspec": {
      "name": "python3",
      "display_name": "Python 3"
    },
    "language_info": {
      "name": "python"
    },
    "accelerator": "GPU"
  },
  "cells": [
    {
      "cell_type": "code",
      "source": [
        "pip install ultralytics roboflow opendatasets duckduckgo_search tqdm\n"
      ],
      "metadata": {
        "colab": {
          "base_uri": "https://localhost:8080/"
        },
        "id": "-T5VCDJA6AGl",
        "outputId": "91a9947a-f237-4533-bf98-bcbcc43ff5ed"
      },
      "execution_count": null,
      "outputs": [
        {
          "output_type": "stream",
          "name": "stdout",
          "text": [
            "Collecting ultralytics\n",
            "  Downloading ultralytics-8.3.158-py3-none-any.whl.metadata (37 kB)\n",
            "Collecting roboflow\n",
            "  Downloading roboflow-1.1.66-py3-none-any.whl.metadata (9.7 kB)\n",
            "Collecting opendatasets\n",
            "  Downloading opendatasets-0.1.22-py3-none-any.whl.metadata (9.2 kB)\n",
            "Collecting duckduckgo_search\n",
            "  Downloading duckduckgo_search-8.0.4-py3-none-any.whl.metadata (16 kB)\n",
            "Requirement already satisfied: tqdm in /usr/local/lib/python3.11/dist-packages (4.67.1)\n",
            "Requirement already satisfied: numpy>=1.23.0 in /usr/local/lib/python3.11/dist-packages (from ultralytics) (2.0.2)\n",
            "Requirement already satisfied: matplotlib>=3.3.0 in /usr/local/lib/python3.11/dist-packages (from ultralytics) (3.10.0)\n",
            "Requirement already satisfied: opencv-python>=4.6.0 in /usr/local/lib/python3.11/dist-packages (from ultralytics) (4.11.0.86)\n",
            "Requirement already satisfied: pillow>=7.1.2 in /usr/local/lib/python3.11/dist-packages (from ultralytics) (11.2.1)\n",
            "Requirement already satisfied: pyyaml>=5.3.1 in /usr/local/lib/python3.11/dist-packages (from ultralytics) (6.0.2)\n",
            "Requirement already satisfied: requests>=2.23.0 in /usr/local/lib/python3.11/dist-packages (from ultralytics) (2.32.3)\n",
            "Requirement already satisfied: scipy>=1.4.1 in /usr/local/lib/python3.11/dist-packages (from ultralytics) (1.15.3)\n",
            "Requirement already satisfied: torch>=1.8.0 in /usr/local/lib/python3.11/dist-packages (from ultralytics) (2.6.0+cu124)\n",
            "Requirement already satisfied: torchvision>=0.9.0 in /usr/local/lib/python3.11/dist-packages (from ultralytics) (0.21.0+cu124)\n",
            "Requirement already satisfied: psutil in /usr/local/lib/python3.11/dist-packages (from ultralytics) (5.9.5)\n",
            "Requirement already satisfied: py-cpuinfo in /usr/local/lib/python3.11/dist-packages (from ultralytics) (9.0.0)\n",
            "Requirement already satisfied: pandas>=1.1.4 in /usr/local/lib/python3.11/dist-packages (from ultralytics) (2.2.2)\n",
            "Collecting ultralytics-thop>=2.0.0 (from ultralytics)\n",
            "  Downloading ultralytics_thop-2.0.14-py3-none-any.whl.metadata (9.4 kB)\n",
            "Requirement already satisfied: certifi in /usr/local/lib/python3.11/dist-packages (from roboflow) (2025.6.15)\n",
            "Collecting idna==3.7 (from roboflow)\n",
            "  Downloading idna-3.7-py3-none-any.whl.metadata (9.9 kB)\n",
            "Requirement already satisfied: cycler in /usr/local/lib/python3.11/dist-packages (from roboflow) (0.12.1)\n",
            "Requirement already satisfied: kiwisolver>=1.3.1 in /usr/local/lib/python3.11/dist-packages (from roboflow) (1.4.8)\n",
            "Collecting opencv-python-headless==4.10.0.84 (from roboflow)\n",
            "  Downloading opencv_python_headless-4.10.0.84-cp37-abi3-manylinux_2_17_x86_64.manylinux2014_x86_64.whl.metadata (20 kB)\n",
            "Collecting pillow-heif>=0.18.0 (from roboflow)\n",
            "  Downloading pillow_heif-0.22.0-cp311-cp311-manylinux_2_17_x86_64.manylinux2014_x86_64.whl.metadata (9.6 kB)\n",
            "Requirement already satisfied: python-dateutil in /usr/local/lib/python3.11/dist-packages (from roboflow) (2.9.0.post0)\n",
            "Collecting python-dotenv (from roboflow)\n",
            "  Downloading python_dotenv-1.1.0-py3-none-any.whl.metadata (24 kB)\n",
            "Requirement already satisfied: six in /usr/local/lib/python3.11/dist-packages (from roboflow) (1.17.0)\n",
            "Requirement already satisfied: urllib3>=1.26.6 in /usr/local/lib/python3.11/dist-packages (from roboflow) (2.4.0)\n",
            "Requirement already satisfied: requests-toolbelt in /usr/local/lib/python3.11/dist-packages (from roboflow) (1.0.0)\n",
            "Collecting filetype (from roboflow)\n",
            "  Downloading filetype-1.2.0-py2.py3-none-any.whl.metadata (6.5 kB)\n",
            "Requirement already satisfied: kaggle in /usr/local/lib/python3.11/dist-packages (from opendatasets) (1.7.4.5)\n",
            "Requirement already satisfied: click in /usr/local/lib/python3.11/dist-packages (from opendatasets) (8.2.1)\n",
            "Collecting primp>=0.15.0 (from duckduckgo_search)\n",
            "  Downloading primp-0.15.0-cp38-abi3-manylinux_2_17_x86_64.manylinux2014_x86_64.whl.metadata (13 kB)\n",
            "Requirement already satisfied: lxml>=5.3.0 in /usr/local/lib/python3.11/dist-packages (from duckduckgo_search) (5.4.0)\n",
            "Requirement already satisfied: contourpy>=1.0.1 in /usr/local/lib/python3.11/dist-packages (from matplotlib>=3.3.0->ultralytics) (1.3.2)\n",
            "Requirement already satisfied: fonttools>=4.22.0 in /usr/local/lib/python3.11/dist-packages (from matplotlib>=3.3.0->ultralytics) (4.58.4)\n",
            "Requirement already satisfied: packaging>=20.0 in /usr/local/lib/python3.11/dist-packages (from matplotlib>=3.3.0->ultralytics) (24.2)\n",
            "Requirement already satisfied: pyparsing>=2.3.1 in /usr/local/lib/python3.11/dist-packages (from matplotlib>=3.3.0->ultralytics) (3.2.3)\n",
            "Requirement already satisfied: pytz>=2020.1 in /usr/local/lib/python3.11/dist-packages (from pandas>=1.1.4->ultralytics) (2025.2)\n",
            "Requirement already satisfied: tzdata>=2022.7 in /usr/local/lib/python3.11/dist-packages (from pandas>=1.1.4->ultralytics) (2025.2)\n",
            "Requirement already satisfied: charset-normalizer<4,>=2 in /usr/local/lib/python3.11/dist-packages (from requests>=2.23.0->ultralytics) (3.4.2)\n",
            "Requirement already satisfied: filelock in /usr/local/lib/python3.11/dist-packages (from torch>=1.8.0->ultralytics) (3.18.0)\n",
            "Requirement already satisfied: typing-extensions>=4.10.0 in /usr/local/lib/python3.11/dist-packages (from torch>=1.8.0->ultralytics) (4.14.0)\n",
            "Requirement already satisfied: networkx in /usr/local/lib/python3.11/dist-packages (from torch>=1.8.0->ultralytics) (3.5)\n",
            "Requirement already satisfied: jinja2 in /usr/local/lib/python3.11/dist-packages (from torch>=1.8.0->ultralytics) (3.1.6)\n",
            "Requirement already satisfied: fsspec in /usr/local/lib/python3.11/dist-packages (from torch>=1.8.0->ultralytics) (2025.3.2)\n",
            "Collecting nvidia-cuda-nvrtc-cu12==12.4.127 (from torch>=1.8.0->ultralytics)\n",
            "  Downloading nvidia_cuda_nvrtc_cu12-12.4.127-py3-none-manylinux2014_x86_64.whl.metadata (1.5 kB)\n",
            "Collecting nvidia-cuda-runtime-cu12==12.4.127 (from torch>=1.8.0->ultralytics)\n",
            "  Downloading nvidia_cuda_runtime_cu12-12.4.127-py3-none-manylinux2014_x86_64.whl.metadata (1.5 kB)\n",
            "Collecting nvidia-cuda-cupti-cu12==12.4.127 (from torch>=1.8.0->ultralytics)\n",
            "  Downloading nvidia_cuda_cupti_cu12-12.4.127-py3-none-manylinux2014_x86_64.whl.metadata (1.6 kB)\n",
            "Collecting nvidia-cudnn-cu12==9.1.0.70 (from torch>=1.8.0->ultralytics)\n",
            "  Downloading nvidia_cudnn_cu12-9.1.0.70-py3-none-manylinux2014_x86_64.whl.metadata (1.6 kB)\n",
            "Collecting nvidia-cublas-cu12==12.4.5.8 (from torch>=1.8.0->ultralytics)\n",
            "  Downloading nvidia_cublas_cu12-12.4.5.8-py3-none-manylinux2014_x86_64.whl.metadata (1.5 kB)\n",
            "Collecting nvidia-cufft-cu12==11.2.1.3 (from torch>=1.8.0->ultralytics)\n",
            "  Downloading nvidia_cufft_cu12-11.2.1.3-py3-none-manylinux2014_x86_64.whl.metadata (1.5 kB)\n",
            "Collecting nvidia-curand-cu12==10.3.5.147 (from torch>=1.8.0->ultralytics)\n",
            "  Downloading nvidia_curand_cu12-10.3.5.147-py3-none-manylinux2014_x86_64.whl.metadata (1.5 kB)\n",
            "Collecting nvidia-cusolver-cu12==11.6.1.9 (from torch>=1.8.0->ultralytics)\n",
            "  Downloading nvidia_cusolver_cu12-11.6.1.9-py3-none-manylinux2014_x86_64.whl.metadata (1.6 kB)\n",
            "Collecting nvidia-cusparse-cu12==12.3.1.170 (from torch>=1.8.0->ultralytics)\n",
            "  Downloading nvidia_cusparse_cu12-12.3.1.170-py3-none-manylinux2014_x86_64.whl.metadata (1.6 kB)\n",
            "Requirement already satisfied: nvidia-cusparselt-cu12==0.6.2 in /usr/local/lib/python3.11/dist-packages (from torch>=1.8.0->ultralytics) (0.6.2)\n",
            "Requirement already satisfied: nvidia-nccl-cu12==2.21.5 in /usr/local/lib/python3.11/dist-packages (from torch>=1.8.0->ultralytics) (2.21.5)\n",
            "Requirement already satisfied: nvidia-nvtx-cu12==12.4.127 in /usr/local/lib/python3.11/dist-packages (from torch>=1.8.0->ultralytics) (12.4.127)\n",
            "Collecting nvidia-nvjitlink-cu12==12.4.127 (from torch>=1.8.0->ultralytics)\n",
            "  Downloading nvidia_nvjitlink_cu12-12.4.127-py3-none-manylinux2014_x86_64.whl.metadata (1.5 kB)\n",
            "Requirement already satisfied: triton==3.2.0 in /usr/local/lib/python3.11/dist-packages (from torch>=1.8.0->ultralytics) (3.2.0)\n",
            "Requirement already satisfied: sympy==1.13.1 in /usr/local/lib/python3.11/dist-packages (from torch>=1.8.0->ultralytics) (1.13.1)\n",
            "Requirement already satisfied: mpmath<1.4,>=1.1.0 in /usr/local/lib/python3.11/dist-packages (from sympy==1.13.1->torch>=1.8.0->ultralytics) (1.3.0)\n",
            "Requirement already satisfied: bleach in /usr/local/lib/python3.11/dist-packages (from kaggle->opendatasets) (6.2.0)\n",
            "Requirement already satisfied: protobuf in /usr/local/lib/python3.11/dist-packages (from kaggle->opendatasets) (5.29.5)\n",
            "Requirement already satisfied: python-slugify in /usr/local/lib/python3.11/dist-packages (from kaggle->opendatasets) (8.0.4)\n",
            "Requirement already satisfied: setuptools>=21.0.0 in /usr/local/lib/python3.11/dist-packages (from kaggle->opendatasets) (75.2.0)\n",
            "Requirement already satisfied: text-unidecode in /usr/local/lib/python3.11/dist-packages (from kaggle->opendatasets) (1.3)\n",
            "Requirement already satisfied: webencodings in /usr/local/lib/python3.11/dist-packages (from kaggle->opendatasets) (0.5.1)\n",
            "Requirement already satisfied: MarkupSafe>=2.0 in /usr/local/lib/python3.11/dist-packages (from jinja2->torch>=1.8.0->ultralytics) (3.0.2)\n",
            "Downloading ultralytics-8.3.158-py3-none-any.whl (1.0 MB)\n",
            "\u001b[2K   \u001b[90m━━━━━━━━━━━━━━━━━━━━━━━━━━━━━━━━━━━━━━━━\u001b[0m \u001b[32m1.0/1.0 MB\u001b[0m \u001b[31m23.9 MB/s\u001b[0m eta \u001b[36m0:00:00\u001b[0m\n",
            "\u001b[?25hDownloading roboflow-1.1.66-py3-none-any.whl (86 kB)\n",
            "\u001b[2K   \u001b[90m━━━━━━━━━━━━━━━━━━━━━━━━━━━━━━━━━━━━━━━━\u001b[0m \u001b[32m86.7/86.7 kB\u001b[0m \u001b[31m8.4 MB/s\u001b[0m eta \u001b[36m0:00:00\u001b[0m\n",
            "\u001b[?25hDownloading idna-3.7-py3-none-any.whl (66 kB)\n",
            "\u001b[2K   \u001b[90m━━━━━━━━━━━━━━━━━━━━━━━━━━━━━━━━━━━━━━━━\u001b[0m \u001b[32m66.8/66.8 kB\u001b[0m \u001b[31m6.6 MB/s\u001b[0m eta \u001b[36m0:00:00\u001b[0m\n",
            "\u001b[?25hDownloading opencv_python_headless-4.10.0.84-cp37-abi3-manylinux_2_17_x86_64.manylinux2014_x86_64.whl (49.9 MB)\n",
            "\u001b[2K   \u001b[90m━━━━━━━━━━━━━━━━━━━━━━━━━━━━━━━━━━━━━━━━\u001b[0m \u001b[32m49.9/49.9 MB\u001b[0m \u001b[31m21.1 MB/s\u001b[0m eta \u001b[36m0:00:00\u001b[0m\n",
            "\u001b[?25hDownloading opendatasets-0.1.22-py3-none-any.whl (15 kB)\n",
            "Downloading duckduckgo_search-8.0.4-py3-none-any.whl (18 kB)\n",
            "Downloading pillow_heif-0.22.0-cp311-cp311-manylinux_2_17_x86_64.manylinux2014_x86_64.whl (7.8 MB)\n",
            "\u001b[2K   \u001b[90m━━━━━━━━━━━━━━━━━━━━━━━━━━━━━━━━━━━━━━━━\u001b[0m \u001b[32m7.8/7.8 MB\u001b[0m \u001b[31m102.0 MB/s\u001b[0m eta \u001b[36m0:00:00\u001b[0m\n",
            "\u001b[?25hDownloading primp-0.15.0-cp38-abi3-manylinux_2_17_x86_64.manylinux2014_x86_64.whl (3.3 MB)\n",
            "\u001b[2K   \u001b[90m━━━━━━━━━━━━━━━━━━━━━━━━━━━━━━━━━━━━━━━━\u001b[0m \u001b[32m3.3/3.3 MB\u001b[0m \u001b[31m107.2 MB/s\u001b[0m eta \u001b[36m0:00:00\u001b[0m\n",
            "\u001b[?25hDownloading nvidia_cublas_cu12-12.4.5.8-py3-none-manylinux2014_x86_64.whl (363.4 MB)\n",
            "\u001b[2K   \u001b[90m━━━━━━━━━━━━━━━━━━━━━━━━━━━━━━━━━━━━━━━━\u001b[0m \u001b[32m363.4/363.4 MB\u001b[0m \u001b[31m4.9 MB/s\u001b[0m eta \u001b[36m0:00:00\u001b[0m\n",
            "\u001b[?25hDownloading nvidia_cuda_cupti_cu12-12.4.127-py3-none-manylinux2014_x86_64.whl (13.8 MB)\n",
            "\u001b[2K   \u001b[90m━━━━━━━━━━━━━━━━━━━━━━━━━━━━━━━━━━━━━━━━\u001b[0m \u001b[32m13.8/13.8 MB\u001b[0m \u001b[31m107.5 MB/s\u001b[0m eta \u001b[36m0:00:00\u001b[0m\n",
            "\u001b[?25hDownloading nvidia_cuda_nvrtc_cu12-12.4.127-py3-none-manylinux2014_x86_64.whl (24.6 MB)\n",
            "\u001b[2K   \u001b[90m━━━━━━━━━━━━━━━━━━━━━━━━━━━━━━━━━━━━━━━━\u001b[0m \u001b[32m24.6/24.6 MB\u001b[0m \u001b[31m84.3 MB/s\u001b[0m eta \u001b[36m0:00:00\u001b[0m\n",
            "\u001b[?25hDownloading nvidia_cuda_runtime_cu12-12.4.127-py3-none-manylinux2014_x86_64.whl (883 kB)\n",
            "\u001b[2K   \u001b[90m━━━━━━━━━━━━━━━━━━━━━━━━━━━━━━━━━━━━━━━━\u001b[0m \u001b[32m883.7/883.7 kB\u001b[0m \u001b[31m47.0 MB/s\u001b[0m eta \u001b[36m0:00:00\u001b[0m\n",
            "\u001b[?25hDownloading nvidia_cudnn_cu12-9.1.0.70-py3-none-manylinux2014_x86_64.whl (664.8 MB)\n",
            "\u001b[2K   \u001b[90m━━━━━━━━━━━━━━━━━━━━━━━━━━━━━━━━━━━━━━━━\u001b[0m \u001b[32m664.8/664.8 MB\u001b[0m \u001b[31m2.1 MB/s\u001b[0m eta \u001b[36m0:00:00\u001b[0m\n",
            "\u001b[?25hDownloading nvidia_cufft_cu12-11.2.1.3-py3-none-manylinux2014_x86_64.whl (211.5 MB)\n",
            "\u001b[2K   \u001b[90m━━━━━━━━━━━━━━━━━━━━━━━━━━━━━━━━━━━━━━━━\u001b[0m \u001b[32m211.5/211.5 MB\u001b[0m \u001b[31m6.2 MB/s\u001b[0m eta \u001b[36m0:00:00\u001b[0m\n",
            "\u001b[?25hDownloading nvidia_curand_cu12-10.3.5.147-py3-none-manylinux2014_x86_64.whl (56.3 MB)\n",
            "\u001b[2K   \u001b[90m━━━━━━━━━━━━━━━━━━━━━━━━━━━━━━━━━━━━━━━━\u001b[0m \u001b[32m56.3/56.3 MB\u001b[0m \u001b[31m12.8 MB/s\u001b[0m eta \u001b[36m0:00:00\u001b[0m\n",
            "\u001b[?25hDownloading nvidia_cusolver_cu12-11.6.1.9-py3-none-manylinux2014_x86_64.whl (127.9 MB)\n",
            "\u001b[2K   \u001b[90m━━━━━━━━━━━━━━━━━━━━━━━━━━━━━━━━━━━━━━━━\u001b[0m \u001b[32m127.9/127.9 MB\u001b[0m \u001b[31m7.4 MB/s\u001b[0m eta \u001b[36m0:00:00\u001b[0m\n",
            "\u001b[?25hDownloading nvidia_cusparse_cu12-12.3.1.170-py3-none-manylinux2014_x86_64.whl (207.5 MB)\n",
            "\u001b[2K   \u001b[90m━━━━━━━━━━━━━━━━━━━━━━━━━━━━━━━━━━━━━━━━\u001b[0m \u001b[32m207.5/207.5 MB\u001b[0m \u001b[31m5.1 MB/s\u001b[0m eta \u001b[36m0:00:00\u001b[0m\n",
            "\u001b[?25hDownloading nvidia_nvjitlink_cu12-12.4.127-py3-none-manylinux2014_x86_64.whl (21.1 MB)\n",
            "\u001b[2K   \u001b[90m━━━━━━━━━━━━━━━━━━━━━━━━━━━━━━━━━━━━━━━━\u001b[0m \u001b[32m21.1/21.1 MB\u001b[0m \u001b[31m85.9 MB/s\u001b[0m eta \u001b[36m0:00:00\u001b[0m\n",
            "\u001b[?25hDownloading ultralytics_thop-2.0.14-py3-none-any.whl (26 kB)\n",
            "Downloading filetype-1.2.0-py2.py3-none-any.whl (19 kB)\n",
            "Downloading python_dotenv-1.1.0-py3-none-any.whl (20 kB)\n",
            "Installing collected packages: filetype, python-dotenv, primp, pillow-heif, opencv-python-headless, nvidia-nvjitlink-cu12, nvidia-curand-cu12, nvidia-cufft-cu12, nvidia-cuda-runtime-cu12, nvidia-cuda-nvrtc-cu12, nvidia-cuda-cupti-cu12, nvidia-cublas-cu12, idna, nvidia-cusparse-cu12, nvidia-cudnn-cu12, duckduckgo_search, nvidia-cusolver-cu12, roboflow, opendatasets, ultralytics-thop, ultralytics\n",
            "  Attempting uninstall: opencv-python-headless\n",
            "    Found existing installation: opencv-python-headless 4.11.0.86\n",
            "    Uninstalling opencv-python-headless-4.11.0.86:\n",
            "      Successfully uninstalled opencv-python-headless-4.11.0.86\n",
            "  Attempting uninstall: nvidia-nvjitlink-cu12\n",
            "    Found existing installation: nvidia-nvjitlink-cu12 12.5.82\n",
            "    Uninstalling nvidia-nvjitlink-cu12-12.5.82:\n",
            "      Successfully uninstalled nvidia-nvjitlink-cu12-12.5.82\n",
            "  Attempting uninstall: nvidia-curand-cu12\n",
            "    Found existing installation: nvidia-curand-cu12 10.3.6.82\n",
            "    Uninstalling nvidia-curand-cu12-10.3.6.82:\n",
            "      Successfully uninstalled nvidia-curand-cu12-10.3.6.82\n",
            "  Attempting uninstall: nvidia-cufft-cu12\n",
            "    Found existing installation: nvidia-cufft-cu12 11.2.3.61\n",
            "    Uninstalling nvidia-cufft-cu12-11.2.3.61:\n",
            "      Successfully uninstalled nvidia-cufft-cu12-11.2.3.61\n",
            "  Attempting uninstall: nvidia-cuda-runtime-cu12\n",
            "    Found existing installation: nvidia-cuda-runtime-cu12 12.5.82\n",
            "    Uninstalling nvidia-cuda-runtime-cu12-12.5.82:\n",
            "      Successfully uninstalled nvidia-cuda-runtime-cu12-12.5.82\n",
            "  Attempting uninstall: nvidia-cuda-nvrtc-cu12\n",
            "    Found existing installation: nvidia-cuda-nvrtc-cu12 12.5.82\n",
            "    Uninstalling nvidia-cuda-nvrtc-cu12-12.5.82:\n",
            "      Successfully uninstalled nvidia-cuda-nvrtc-cu12-12.5.82\n",
            "  Attempting uninstall: nvidia-cuda-cupti-cu12\n",
            "    Found existing installation: nvidia-cuda-cupti-cu12 12.5.82\n",
            "    Uninstalling nvidia-cuda-cupti-cu12-12.5.82:\n",
            "      Successfully uninstalled nvidia-cuda-cupti-cu12-12.5.82\n",
            "  Attempting uninstall: nvidia-cublas-cu12\n",
            "    Found existing installation: nvidia-cublas-cu12 12.5.3.2\n",
            "    Uninstalling nvidia-cublas-cu12-12.5.3.2:\n",
            "      Successfully uninstalled nvidia-cublas-cu12-12.5.3.2\n",
            "  Attempting uninstall: idna\n",
            "    Found existing installation: idna 3.10\n",
            "    Uninstalling idna-3.10:\n",
            "      Successfully uninstalled idna-3.10\n",
            "  Attempting uninstall: nvidia-cusparse-cu12\n",
            "    Found existing installation: nvidia-cusparse-cu12 12.5.1.3\n",
            "    Uninstalling nvidia-cusparse-cu12-12.5.1.3:\n",
            "      Successfully uninstalled nvidia-cusparse-cu12-12.5.1.3\n",
            "  Attempting uninstall: nvidia-cudnn-cu12\n",
            "    Found existing installation: nvidia-cudnn-cu12 9.3.0.75\n",
            "    Uninstalling nvidia-cudnn-cu12-9.3.0.75:\n",
            "      Successfully uninstalled nvidia-cudnn-cu12-9.3.0.75\n",
            "  Attempting uninstall: nvidia-cusolver-cu12\n",
            "    Found existing installation: nvidia-cusolver-cu12 11.6.3.83\n",
            "    Uninstalling nvidia-cusolver-cu12-11.6.3.83:\n",
            "      Successfully uninstalled nvidia-cusolver-cu12-11.6.3.83\n",
            "Successfully installed duckduckgo_search-8.0.4 filetype-1.2.0 idna-3.7 nvidia-cublas-cu12-12.4.5.8 nvidia-cuda-cupti-cu12-12.4.127 nvidia-cuda-nvrtc-cu12-12.4.127 nvidia-cuda-runtime-cu12-12.4.127 nvidia-cudnn-cu12-9.1.0.70 nvidia-cufft-cu12-11.2.1.3 nvidia-curand-cu12-10.3.5.147 nvidia-cusolver-cu12-11.6.1.9 nvidia-cusparse-cu12-12.3.1.170 nvidia-nvjitlink-cu12-12.4.127 opencv-python-headless-4.10.0.84 opendatasets-0.1.22 pillow-heif-0.22.0 primp-0.15.0 python-dotenv-1.1.0 roboflow-1.1.66 ultralytics-8.3.158 ultralytics-thop-2.0.14\n"
          ]
        }
      ]
    },
    {
      "cell_type": "code",
      "execution_count": null,
      "metadata": {
        "colab": {
          "base_uri": "https://localhost:8080/"
        },
        "id": "rK512qWI5pGz",
        "outputId": "43c27da4-55ae-40c4-e141-fe17ab3f2c6b"
      },
      "outputs": [
        {
          "output_type": "stream",
          "name": "stdout",
          "text": [
            "Creating new Ultralytics Settings v0.0.6 file ✅ \n",
            "View Ultralytics Settings with 'yolo settings' or at '/root/.config/Ultralytics/settings.json'\n",
            "Update Settings with 'yolo settings key=value', i.e. 'yolo settings runs_dir=path/to/dir'. For help see https://docs.ultralytics.com/quickstart/#ultralytics-settings.\n",
            "Mengunduh gambar...\n"
          ]
        },
        {
          "output_type": "stream",
          "name": "stderr",
          "text": [
            "Downloading Laptop: 100%|██████████| 200/200 [01:18<00:00,  2.54it/s]\n",
            "Downloading Keyboard: 100%|██████████| 200/200 [01:28<00:00,  2.25it/s]\n",
            "Downloading Mouse: 100%|██████████| 200/200 [01:03<00:00,  3.16it/s]\n",
            "Downloading Phone: 100%|██████████| 200/200 [00:55<00:00,  3.62it/s]\n",
            "Downloading Pen: 100%|██████████| 200/200 [01:05<00:00,  3.07it/s]\n",
            "Downloading Chair: 100%|██████████| 200/200 [01:22<00:00,  2.42it/s]\n",
            "Downloading Table: 100%|██████████| 200/200 [01:29<00:00,  2.24it/s]\n",
            "Downloading Book: 100%|██████████| 200/200 [01:32<00:00,  2.15it/s]\n",
            "Downloading Watch: 100%|██████████| 200/200 [01:50<00:00,  1.80it/s]\n",
            "Downloading Bottle: 100%|██████████| 200/200 [01:30<00:00,  2.22it/s]\n"
          ]
        },
        {
          "output_type": "stream",
          "name": "stdout",
          "text": [
            "Anotasi otomatis dengan YOLOv8 pre-trained...\n",
            "Downloading https://github.com/ultralytics/assets/releases/download/v8.3.0/yolov8n.pt to 'yolov8n.pt'...\n"
          ]
        },
        {
          "output_type": "stream",
          "name": "stderr",
          "text": [
            "100%|██████████| 6.25M/6.25M [00:00<00:00, 101MB/s]\n",
            "Menyalin & Menganotasi: 100%|██████████| 1979/1979 [00:03<00:00, 569.78it/s]"
          ]
        },
        {
          "output_type": "stream",
          "name": "stdout",
          "text": [
            "Membagi ke train/val/test...\n",
            "✅ Dataset siap digunakan untuk training YOLOv8!\n"
          ]
        },
        {
          "output_type": "stream",
          "name": "stderr",
          "text": [
            "\n"
          ]
        }
      ],
      "source": [
        "import os\n",
        "from duckduckgo_search import DDGS\n",
        "import requests\n",
        "from tqdm import tqdm\n",
        "import random\n",
        "from sklearn.model_selection import train_test_split\n",
        "from ultralytics import YOLO\n",
        "\n",
        "# Daftar kelas\n",
        "classes = ['Laptop', 'Keyboard', 'Mouse', 'Phone', 'Pen', 'Chair', 'Table', 'Book', 'Watch', 'Bottle']\n",
        "images_per_class = 200\n",
        "base_dir = 'custom_dataset_yolo'\n",
        "\n",
        "# Membuat direktori\n",
        "os.makedirs(base_dir, exist_ok=True)\n",
        "img_dir = os.path.join(base_dir, 'images')\n",
        "os.makedirs(img_dir, exist_ok=True)\n",
        "\n",
        "# Langkah 1: Download gambar\n",
        "print(\"Mengunduh gambar...\")\n",
        "with DDGS() as ddgs:\n",
        "    for label in classes:\n",
        "        label_dir = os.path.join(img_dir, label)\n",
        "        os.makedirs(label_dir, exist_ok=True)\n",
        "        results = [r for r in ddgs.images(label, max_results=images_per_class)]\n",
        "        for i, res in enumerate(tqdm(results, desc=f\"Downloading {label}\")):\n",
        "            try:\n",
        "                img_data = requests.get(res['image'], timeout=5).content\n",
        "                with open(os.path.join(label_dir, f\"{label}_{i}.jpg\"), 'wb') as f:\n",
        "                    f.write(img_data)\n",
        "            except:\n",
        "                continue\n",
        "\n",
        "# Langkah 2: Flatten dan anotasi dengan YOLOv8 pre-trained (opsional)\n",
        "print(\"Anotasi otomatis dengan YOLOv8 pre-trained...\")\n",
        "model = YOLO(\"yolov8n.pt\")\n",
        "\n",
        "# Tempat anotasi\n",
        "yolo_images = os.path.join(base_dir, 'yolo/images')\n",
        "yolo_labels = os.path.join(base_dir, 'yolo/labels')\n",
        "os.makedirs(yolo_images, exist_ok=True)\n",
        "os.makedirs(yolo_labels, exist_ok=True)\n",
        "\n",
        "image_paths = []\n",
        "labels_txt = []\n",
        "\n",
        "for label in classes:\n",
        "    path = os.path.join(img_dir, label)\n",
        "    files = os.listdir(path)\n",
        "    for file in files:\n",
        "        if file.endswith('.jpg'):\n",
        "            image_path = os.path.join(path, file)\n",
        "            image_paths.append((image_path, classes.index(label)))\n",
        "\n",
        "# Copy gambar dan anotasi\n",
        "for src, class_id in tqdm(image_paths, desc=\"Menyalin & Menganotasi\"):\n",
        "    filename = os.path.basename(src)\n",
        "    dst_img = os.path.join(yolo_images, filename)\n",
        "    dst_label = os.path.join(yolo_labels, filename.replace('.jpg', '.txt'))\n",
        "    try:\n",
        "        img = requests.get(src, timeout=5).content if src.startswith('http') else open(src, 'rb').read()\n",
        "        with open(dst_img, 'wb') as f:\n",
        "            f.write(img)\n",
        "        # Dummy label (jika YOLO anotasi tidak digunakan)\n",
        "        with open(dst_label, 'w') as f:\n",
        "            f.write(f\"{class_id} 0.5 0.5 1.0 1.0\\n\")  # anotasi penuh gambar\n",
        "    except:\n",
        "        continue\n",
        "\n",
        "# Langkah 3: Split Train/Val/Test\n",
        "print(\"Membagi ke train/val/test...\")\n",
        "all_imgs = os.listdir(yolo_images)\n",
        "trainval, test = train_test_split(all_imgs, test_size=0.1, random_state=42)\n",
        "train, val = train_test_split(trainval, test_size=0.2, random_state=42)\n",
        "\n",
        "for split_name, split_data in zip(['train', 'valid', 'test'], [train, val, test]):\n",
        "    for subfolder in ['images', 'labels']:\n",
        "        os.makedirs(os.path.join(base_dir, split_name, subfolder), exist_ok=True)\n",
        "    for file in split_data:\n",
        "        img_src = os.path.join(yolo_images, file)\n",
        "        lbl_src = os.path.join(yolo_labels, file.replace('.jpg', '.txt'))\n",
        "\n",
        "        img_dst = os.path.join(base_dir, split_name, 'images', file)\n",
        "        lbl_dst = os.path.join(base_dir, split_name, 'labels', file.replace('.jpg', '.txt'))\n",
        "\n",
        "        os.rename(img_src, img_dst)\n",
        "        os.rename(lbl_src, lbl_dst)\n",
        "\n",
        "# Langkah 4: Buat YAML untuk YOLO\n",
        "yaml_path = os.path.join(base_dir, 'dataset.yaml')\n",
        "with open(yaml_path, 'w') as f:\n",
        "    f.write(f\"\"\"path: {base_dir}\n",
        "train: train/images\n",
        "val: valid/images\n",
        "test: test/images\n",
        "\n",
        "nc: {len(classes)}\n",
        "names: {classes}\n",
        "\"\"\")\n",
        "\n",
        "print(\"✅ Dataset siap digunakan untuk training YOLOv8!\")"
      ]
    },
    {
      "cell_type": "code",
      "source": [
        "pip install ultralytics matplotlib\n"
      ],
      "metadata": {
        "colab": {
          "base_uri": "https://localhost:8080/"
        },
        "id": "cgjiBlVQ7p6m",
        "outputId": "867c35d5-4a8d-494d-b2e5-43c637452023"
      },
      "execution_count": null,
      "outputs": [
        {
          "output_type": "stream",
          "name": "stdout",
          "text": [
            "Requirement already satisfied: ultralytics in /usr/local/lib/python3.11/dist-packages (8.3.158)\n",
            "Requirement already satisfied: matplotlib in /usr/local/lib/python3.11/dist-packages (3.10.0)\n",
            "Requirement already satisfied: numpy>=1.23.0 in /usr/local/lib/python3.11/dist-packages (from ultralytics) (2.0.2)\n",
            "Requirement already satisfied: opencv-python>=4.6.0 in /usr/local/lib/python3.11/dist-packages (from ultralytics) (4.11.0.86)\n",
            "Requirement already satisfied: pillow>=7.1.2 in /usr/local/lib/python3.11/dist-packages (from ultralytics) (11.2.1)\n",
            "Requirement already satisfied: pyyaml>=5.3.1 in /usr/local/lib/python3.11/dist-packages (from ultralytics) (6.0.2)\n",
            "Requirement already satisfied: requests>=2.23.0 in /usr/local/lib/python3.11/dist-packages (from ultralytics) (2.32.3)\n",
            "Requirement already satisfied: scipy>=1.4.1 in /usr/local/lib/python3.11/dist-packages (from ultralytics) (1.15.3)\n",
            "Requirement already satisfied: torch>=1.8.0 in /usr/local/lib/python3.11/dist-packages (from ultralytics) (2.6.0+cu124)\n",
            "Requirement already satisfied: torchvision>=0.9.0 in /usr/local/lib/python3.11/dist-packages (from ultralytics) (0.21.0+cu124)\n",
            "Requirement already satisfied: tqdm>=4.64.0 in /usr/local/lib/python3.11/dist-packages (from ultralytics) (4.67.1)\n",
            "Requirement already satisfied: psutil in /usr/local/lib/python3.11/dist-packages (from ultralytics) (5.9.5)\n",
            "Requirement already satisfied: py-cpuinfo in /usr/local/lib/python3.11/dist-packages (from ultralytics) (9.0.0)\n",
            "Requirement already satisfied: pandas>=1.1.4 in /usr/local/lib/python3.11/dist-packages (from ultralytics) (2.2.2)\n",
            "Requirement already satisfied: ultralytics-thop>=2.0.0 in /usr/local/lib/python3.11/dist-packages (from ultralytics) (2.0.14)\n",
            "Requirement already satisfied: contourpy>=1.0.1 in /usr/local/lib/python3.11/dist-packages (from matplotlib) (1.3.2)\n",
            "Requirement already satisfied: cycler>=0.10 in /usr/local/lib/python3.11/dist-packages (from matplotlib) (0.12.1)\n",
            "Requirement already satisfied: fonttools>=4.22.0 in /usr/local/lib/python3.11/dist-packages (from matplotlib) (4.58.4)\n",
            "Requirement already satisfied: kiwisolver>=1.3.1 in /usr/local/lib/python3.11/dist-packages (from matplotlib) (1.4.8)\n",
            "Requirement already satisfied: packaging>=20.0 in /usr/local/lib/python3.11/dist-packages (from matplotlib) (24.2)\n",
            "Requirement already satisfied: pyparsing>=2.3.1 in /usr/local/lib/python3.11/dist-packages (from matplotlib) (3.2.3)\n",
            "Requirement already satisfied: python-dateutil>=2.7 in /usr/local/lib/python3.11/dist-packages (from matplotlib) (2.9.0.post0)\n",
            "Requirement already satisfied: pytz>=2020.1 in /usr/local/lib/python3.11/dist-packages (from pandas>=1.1.4->ultralytics) (2025.2)\n",
            "Requirement already satisfied: tzdata>=2022.7 in /usr/local/lib/python3.11/dist-packages (from pandas>=1.1.4->ultralytics) (2025.2)\n",
            "Requirement already satisfied: six>=1.5 in /usr/local/lib/python3.11/dist-packages (from python-dateutil>=2.7->matplotlib) (1.17.0)\n",
            "Requirement already satisfied: charset-normalizer<4,>=2 in /usr/local/lib/python3.11/dist-packages (from requests>=2.23.0->ultralytics) (3.4.2)\n",
            "Requirement already satisfied: idna<4,>=2.5 in /usr/local/lib/python3.11/dist-packages (from requests>=2.23.0->ultralytics) (3.7)\n",
            "Requirement already satisfied: urllib3<3,>=1.21.1 in /usr/local/lib/python3.11/dist-packages (from requests>=2.23.0->ultralytics) (2.4.0)\n",
            "Requirement already satisfied: certifi>=2017.4.17 in /usr/local/lib/python3.11/dist-packages (from requests>=2.23.0->ultralytics) (2025.6.15)\n",
            "Requirement already satisfied: filelock in /usr/local/lib/python3.11/dist-packages (from torch>=1.8.0->ultralytics) (3.18.0)\n",
            "Requirement already satisfied: typing-extensions>=4.10.0 in /usr/local/lib/python3.11/dist-packages (from torch>=1.8.0->ultralytics) (4.14.0)\n",
            "Requirement already satisfied: networkx in /usr/local/lib/python3.11/dist-packages (from torch>=1.8.0->ultralytics) (3.5)\n",
            "Requirement already satisfied: jinja2 in /usr/local/lib/python3.11/dist-packages (from torch>=1.8.0->ultralytics) (3.1.6)\n",
            "Requirement already satisfied: fsspec in /usr/local/lib/python3.11/dist-packages (from torch>=1.8.0->ultralytics) (2025.3.2)\n",
            "Requirement already satisfied: nvidia-cuda-nvrtc-cu12==12.4.127 in /usr/local/lib/python3.11/dist-packages (from torch>=1.8.0->ultralytics) (12.4.127)\n",
            "Requirement already satisfied: nvidia-cuda-runtime-cu12==12.4.127 in /usr/local/lib/python3.11/dist-packages (from torch>=1.8.0->ultralytics) (12.4.127)\n",
            "Requirement already satisfied: nvidia-cuda-cupti-cu12==12.4.127 in /usr/local/lib/python3.11/dist-packages (from torch>=1.8.0->ultralytics) (12.4.127)\n",
            "Requirement already satisfied: nvidia-cudnn-cu12==9.1.0.70 in /usr/local/lib/python3.11/dist-packages (from torch>=1.8.0->ultralytics) (9.1.0.70)\n",
            "Requirement already satisfied: nvidia-cublas-cu12==12.4.5.8 in /usr/local/lib/python3.11/dist-packages (from torch>=1.8.0->ultralytics) (12.4.5.8)\n",
            "Requirement already satisfied: nvidia-cufft-cu12==11.2.1.3 in /usr/local/lib/python3.11/dist-packages (from torch>=1.8.0->ultralytics) (11.2.1.3)\n",
            "Requirement already satisfied: nvidia-curand-cu12==10.3.5.147 in /usr/local/lib/python3.11/dist-packages (from torch>=1.8.0->ultralytics) (10.3.5.147)\n",
            "Requirement already satisfied: nvidia-cusolver-cu12==11.6.1.9 in /usr/local/lib/python3.11/dist-packages (from torch>=1.8.0->ultralytics) (11.6.1.9)\n",
            "Requirement already satisfied: nvidia-cusparse-cu12==12.3.1.170 in /usr/local/lib/python3.11/dist-packages (from torch>=1.8.0->ultralytics) (12.3.1.170)\n",
            "Requirement already satisfied: nvidia-cusparselt-cu12==0.6.2 in /usr/local/lib/python3.11/dist-packages (from torch>=1.8.0->ultralytics) (0.6.2)\n",
            "Requirement already satisfied: nvidia-nccl-cu12==2.21.5 in /usr/local/lib/python3.11/dist-packages (from torch>=1.8.0->ultralytics) (2.21.5)\n",
            "Requirement already satisfied: nvidia-nvtx-cu12==12.4.127 in /usr/local/lib/python3.11/dist-packages (from torch>=1.8.0->ultralytics) (12.4.127)\n",
            "Requirement already satisfied: nvidia-nvjitlink-cu12==12.4.127 in /usr/local/lib/python3.11/dist-packages (from torch>=1.8.0->ultralytics) (12.4.127)\n",
            "Requirement already satisfied: triton==3.2.0 in /usr/local/lib/python3.11/dist-packages (from torch>=1.8.0->ultralytics) (3.2.0)\n",
            "Requirement already satisfied: sympy==1.13.1 in /usr/local/lib/python3.11/dist-packages (from torch>=1.8.0->ultralytics) (1.13.1)\n",
            "Requirement already satisfied: mpmath<1.4,>=1.1.0 in /usr/local/lib/python3.11/dist-packages (from sympy==1.13.1->torch>=1.8.0->ultralytics) (1.3.0)\n",
            "Requirement already satisfied: MarkupSafe>=2.0 in /usr/local/lib/python3.11/dist-packages (from jinja2->torch>=1.8.0->ultralytics) (3.0.2)\n"
          ]
        }
      ]
    },
    {
      "cell_type": "code",
      "source": [
        "from ultralytics import YOLO\n",
        "import yaml\n",
        "import os\n",
        "import pandas as pd # Import pandas\n",
        "\n",
        "# Path ke file dataset YAML\n",
        "dataset_path = 'custom_dataset_yolo/dataset.yaml'\n",
        "\n",
        "# ✅ Langkah 1: Load dan Latih Model YOLOv8\n",
        "model = YOLO('yolov8n.pt')  # Bisa juga 'yolov8s.pt' untuk model lebih besar\n",
        "\n",
        "results = model.train(\n",
        "    data=dataset_path,\n",
        "    epochs=30,\n",
        "    imgsz=640,\n",
        "    batch=16,\n",
        "    project='runs/train',\n",
        "    name='custom_yolo_objects',\n",
        "    verbose=True\n",
        ")\n",
        "\n",
        "# ✅ Langkah 2: Evaluasi Model (Validation set)\n",
        "metrics = model.val()\n",
        "print(\"📊 Metrics:\")\n",
        "print(metrics)"
      ],
      "metadata": {
        "colab": {
          "base_uri": "https://localhost:8080/"
        },
        "id": "g9xP261_7qi0",
        "outputId": "acc93ae0-ad84-4052-853f-8ff9c460fbae"
      },
      "execution_count": null,
      "outputs": [
        {
          "output_type": "stream",
          "name": "stdout",
          "text": [
            "Ultralytics 8.3.158 🚀 Python-3.11.13 torch-2.6.0+cu124 CUDA:0 (Tesla T4, 15095MiB)\n",
            "\u001b[34m\u001b[1mengine/trainer: \u001b[0magnostic_nms=False, amp=True, augment=False, auto_augment=randaugment, batch=16, bgr=0.0, box=7.5, cache=False, cfg=None, classes=None, close_mosaic=10, cls=0.5, conf=None, copy_paste=0.0, copy_paste_mode=flip, cos_lr=False, cutmix=0.0, data=custom_dataset_yolo/dataset.yaml, degrees=0.0, deterministic=True, device=None, dfl=1.5, dnn=False, dropout=0.0, dynamic=False, embed=None, epochs=30, erasing=0.4, exist_ok=False, fliplr=0.5, flipud=0.0, format=torchscript, fraction=1.0, freeze=None, half=False, hsv_h=0.015, hsv_s=0.7, hsv_v=0.4, imgsz=640, int8=False, iou=0.7, keras=False, kobj=1.0, line_width=None, lr0=0.01, lrf=0.01, mask_ratio=4, max_det=300, mixup=0.0, mode=train, model=yolov8n.pt, momentum=0.937, mosaic=1.0, multi_scale=False, name=custom_yolo_objects4, nbs=64, nms=False, opset=None, optimize=False, optimizer=auto, overlap_mask=True, patience=100, perspective=0.0, plots=True, pose=12.0, pretrained=True, profile=False, project=runs/train, rect=False, resume=False, retina_masks=False, save=True, save_conf=False, save_crop=False, save_dir=runs/train/custom_yolo_objects4, save_frames=False, save_json=False, save_period=-1, save_txt=False, scale=0.5, seed=0, shear=0.0, show=False, show_boxes=True, show_conf=True, show_labels=True, simplify=True, single_cls=False, source=None, split=val, stream_buffer=False, task=detect, time=None, tracker=botsort.yaml, translate=0.1, val=True, verbose=True, vid_stride=1, visualize=False, warmup_bias_lr=0.1, warmup_epochs=3.0, warmup_momentum=0.8, weight_decay=0.0005, workers=8, workspace=None\n",
            "Overriding model.yaml nc=80 with nc=10\n",
            "\n",
            "                   from  n    params  module                                       arguments                     \n",
            "  0                  -1  1       464  ultralytics.nn.modules.conv.Conv             [3, 16, 3, 2]                 \n",
            "  1                  -1  1      4672  ultralytics.nn.modules.conv.Conv             [16, 32, 3, 2]                \n",
            "  2                  -1  1      7360  ultralytics.nn.modules.block.C2f             [32, 32, 1, True]             \n",
            "  3                  -1  1     18560  ultralytics.nn.modules.conv.Conv             [32, 64, 3, 2]                \n",
            "  4                  -1  2     49664  ultralytics.nn.modules.block.C2f             [64, 64, 2, True]             \n",
            "  5                  -1  1     73984  ultralytics.nn.modules.conv.Conv             [64, 128, 3, 2]               \n",
            "  6                  -1  2    197632  ultralytics.nn.modules.block.C2f             [128, 128, 2, True]           \n",
            "  7                  -1  1    295424  ultralytics.nn.modules.conv.Conv             [128, 256, 3, 2]              \n",
            "  8                  -1  1    460288  ultralytics.nn.modules.block.C2f             [256, 256, 1, True]           \n",
            "  9                  -1  1    164608  ultralytics.nn.modules.block.SPPF            [256, 256, 5]                 \n",
            " 10                  -1  1         0  torch.nn.modules.upsampling.Upsample         [None, 2, 'nearest']          \n",
            " 11             [-1, 6]  1         0  ultralytics.nn.modules.conv.Concat           [1]                           \n",
            " 12                  -1  1    148224  ultralytics.nn.modules.block.C2f             [384, 128, 1]                 \n",
            " 13                  -1  1         0  torch.nn.modules.upsampling.Upsample         [None, 2, 'nearest']          \n",
            " 14             [-1, 4]  1         0  ultralytics.nn.modules.conv.Concat           [1]                           \n",
            " 15                  -1  1     37248  ultralytics.nn.modules.block.C2f             [192, 64, 1]                  \n",
            " 16                  -1  1     36992  ultralytics.nn.modules.conv.Conv             [64, 64, 3, 2]                \n",
            " 17            [-1, 12]  1         0  ultralytics.nn.modules.conv.Concat           [1]                           \n",
            " 18                  -1  1    123648  ultralytics.nn.modules.block.C2f             [192, 128, 1]                 \n",
            " 19                  -1  1    147712  ultralytics.nn.modules.conv.Conv             [128, 128, 3, 2]              \n",
            " 20             [-1, 9]  1         0  ultralytics.nn.modules.conv.Concat           [1]                           \n",
            " 21                  -1  1    493056  ultralytics.nn.modules.block.C2f             [384, 256, 1]                 \n",
            " 22        [15, 18, 21]  1    753262  ultralytics.nn.modules.head.Detect           [10, [64, 128, 256]]          \n",
            "Model summary: 129 layers, 3,012,798 parameters, 3,012,782 gradients, 8.2 GFLOPs\n",
            "\n",
            "Transferred 319/355 items from pretrained weights\n",
            "Freezing layer 'model.22.dfl.conv.weight'\n",
            "\u001b[34m\u001b[1mAMP: \u001b[0mrunning Automatic Mixed Precision (AMP) checks...\n",
            "\u001b[34m\u001b[1mAMP: \u001b[0mchecks passed ✅\n",
            "\u001b[34m\u001b[1mtrain: \u001b[0mFast image access ✅ (ping: 0.0±0.0 ms, read: 2176.6±1100.5 MB/s, size: 422.7 KB)\n"
          ]
        },
        {
          "output_type": "stream",
          "name": "stderr",
          "text": [
            "\u001b[34m\u001b[1mtrain: \u001b[0mScanning /content/custom_dataset_yolo/train/labels.cache... 1156 images, 0 backgrounds, 268 corrupt: 100%|██████████| 1424/1424 [00:00<?, ?it/s]"
          ]
        },
        {
          "output_type": "stream",
          "name": "stdout",
          "text": [
            "\u001b[34m\u001b[1mtrain: \u001b[0m/content/custom_dataset_yolo/train/images/Book_0.jpg: ignoring corrupt image/label: cannot identify image file '/content/custom_dataset_yolo/train/images/Book_0.jpg'\n",
            "\u001b[34m\u001b[1mtrain: \u001b[0m/content/custom_dataset_yolo/train/images/Book_119.jpg: ignoring corrupt image/label: cannot identify image file '/content/custom_dataset_yolo/train/images/Book_119.jpg'\n",
            "\u001b[34m\u001b[1mtrain: \u001b[0m/content/custom_dataset_yolo/train/images/Book_120.jpg: ignoring corrupt image/label: invalid image format GIF. Supported formats are:\n",
            "images: {'mpo', 'heic', 'jpeg', 'tiff', 'jpg', 'bmp', 'pfm', 'dng', 'tif', 'webp', 'png'}\n",
            "videos: {'avi', 'ts', 'wmv', 'gif', 'mov', 'asf', 'mp4', 'mpeg', 'webm', 'mkv', 'm4v', 'mpg'}\n",
            "\u001b[34m\u001b[1mtrain: \u001b[0m/content/custom_dataset_yolo/train/images/Book_123.jpg: ignoring corrupt image/label: cannot identify image file '/content/custom_dataset_yolo/train/images/Book_123.jpg'\n",
            "\u001b[34m\u001b[1mtrain: \u001b[0m/content/custom_dataset_yolo/train/images/Book_126.jpg: ignoring corrupt image/label: cannot identify image file '/content/custom_dataset_yolo/train/images/Book_126.jpg'\n",
            "\u001b[34m\u001b[1mtrain: \u001b[0m/content/custom_dataset_yolo/train/images/Book_128.jpg: ignoring corrupt image/label: cannot identify image file '/content/custom_dataset_yolo/train/images/Book_128.jpg'\n",
            "\u001b[34m\u001b[1mtrain: \u001b[0m/content/custom_dataset_yolo/train/images/Book_131.jpg: ignoring corrupt image/label: cannot identify image file '/content/custom_dataset_yolo/train/images/Book_131.jpg'\n",
            "\u001b[34m\u001b[1mtrain: \u001b[0m/content/custom_dataset_yolo/train/images/Book_133.jpg: ignoring corrupt image/label: cannot identify image file '/content/custom_dataset_yolo/train/images/Book_133.jpg'\n",
            "\u001b[34m\u001b[1mtrain: \u001b[0m/content/custom_dataset_yolo/train/images/Book_135.jpg: ignoring corrupt image/label: cannot identify image file '/content/custom_dataset_yolo/train/images/Book_135.jpg'\n",
            "\u001b[34m\u001b[1mtrain: \u001b[0m/content/custom_dataset_yolo/train/images/Book_136.jpg: ignoring corrupt image/label: cannot identify image file '/content/custom_dataset_yolo/train/images/Book_136.jpg'\n",
            "\u001b[34m\u001b[1mtrain: \u001b[0m/content/custom_dataset_yolo/train/images/Book_137.jpg: ignoring corrupt image/label: cannot identify image file '/content/custom_dataset_yolo/train/images/Book_137.jpg'\n",
            "\u001b[34m\u001b[1mtrain: \u001b[0m/content/custom_dataset_yolo/train/images/Book_138.jpg: ignoring corrupt image/label: cannot identify image file '/content/custom_dataset_yolo/train/images/Book_138.jpg'\n",
            "\u001b[34m\u001b[1mtrain: \u001b[0m/content/custom_dataset_yolo/train/images/Book_147.jpg: ignoring corrupt image/label: cannot identify image file '/content/custom_dataset_yolo/train/images/Book_147.jpg'\n",
            "\u001b[34m\u001b[1mtrain: \u001b[0m/content/custom_dataset_yolo/train/images/Book_149.jpg: ignoring corrupt image/label: cannot identify image file '/content/custom_dataset_yolo/train/images/Book_149.jpg'\n",
            "\u001b[34m\u001b[1mtrain: \u001b[0m/content/custom_dataset_yolo/train/images/Book_155.jpg: ignoring corrupt image/label: cannot identify image file '/content/custom_dataset_yolo/train/images/Book_155.jpg'\n",
            "\u001b[34m\u001b[1mtrain: \u001b[0m/content/custom_dataset_yolo/train/images/Book_16.jpg: ignoring corrupt image/label: cannot identify image file '/content/custom_dataset_yolo/train/images/Book_16.jpg'\n",
            "\u001b[34m\u001b[1mtrain: \u001b[0m/content/custom_dataset_yolo/train/images/Book_160.jpg: ignoring corrupt image/label: cannot identify image file '/content/custom_dataset_yolo/train/images/Book_160.jpg'\n",
            "\u001b[34m\u001b[1mtrain: \u001b[0m/content/custom_dataset_yolo/train/images/Book_169.jpg: ignoring corrupt image/label: cannot identify image file '/content/custom_dataset_yolo/train/images/Book_169.jpg'\n",
            "\u001b[34m\u001b[1mtrain: \u001b[0m/content/custom_dataset_yolo/train/images/Book_183.jpg: ignoring corrupt image/label: cannot identify image file '/content/custom_dataset_yolo/train/images/Book_183.jpg'\n",
            "\u001b[34m\u001b[1mtrain: \u001b[0m/content/custom_dataset_yolo/train/images/Book_185.jpg: ignoring corrupt image/label: cannot identify image file '/content/custom_dataset_yolo/train/images/Book_185.jpg'\n",
            "\u001b[34m\u001b[1mtrain: \u001b[0m/content/custom_dataset_yolo/train/images/Book_190.jpg: ignoring corrupt image/label: cannot identify image file '/content/custom_dataset_yolo/train/images/Book_190.jpg'\n",
            "\u001b[34m\u001b[1mtrain: \u001b[0m/content/custom_dataset_yolo/train/images/Book_191.jpg: ignoring corrupt image/label: cannot identify image file '/content/custom_dataset_yolo/train/images/Book_191.jpg'\n",
            "\u001b[34m\u001b[1mtrain: \u001b[0m/content/custom_dataset_yolo/train/images/Book_194.jpg: ignoring corrupt image/label: cannot identify image file '/content/custom_dataset_yolo/train/images/Book_194.jpg'\n",
            "\u001b[34m\u001b[1mtrain: \u001b[0m/content/custom_dataset_yolo/train/images/Book_196.jpg: ignoring corrupt image/label: cannot identify image file '/content/custom_dataset_yolo/train/images/Book_196.jpg'\n",
            "\u001b[34m\u001b[1mtrain: \u001b[0m/content/custom_dataset_yolo/train/images/Book_23.jpg: ignoring corrupt image/label: cannot identify image file '/content/custom_dataset_yolo/train/images/Book_23.jpg'\n",
            "\u001b[34m\u001b[1mtrain: \u001b[0m/content/custom_dataset_yolo/train/images/Book_25.jpg: ignoring corrupt image/label: cannot identify image file '/content/custom_dataset_yolo/train/images/Book_25.jpg'\n",
            "\u001b[34m\u001b[1mtrain: \u001b[0m/content/custom_dataset_yolo/train/images/Book_28.jpg: ignoring corrupt image/label: cannot identify image file '/content/custom_dataset_yolo/train/images/Book_28.jpg'\n",
            "\u001b[34m\u001b[1mtrain: \u001b[0m/content/custom_dataset_yolo/train/images/Book_36.jpg: ignoring corrupt image/label: cannot identify image file '/content/custom_dataset_yolo/train/images/Book_36.jpg'\n",
            "\u001b[34m\u001b[1mtrain: \u001b[0m/content/custom_dataset_yolo/train/images/Book_37.jpg: ignoring corrupt image/label: cannot identify image file '/content/custom_dataset_yolo/train/images/Book_37.jpg'\n",
            "\u001b[34m\u001b[1mtrain: \u001b[0m/content/custom_dataset_yolo/train/images/Book_38.jpg: ignoring corrupt image/label: cannot identify image file '/content/custom_dataset_yolo/train/images/Book_38.jpg'\n",
            "\u001b[34m\u001b[1mtrain: \u001b[0m/content/custom_dataset_yolo/train/images/Book_60.jpg: ignoring corrupt image/label: cannot identify image file '/content/custom_dataset_yolo/train/images/Book_60.jpg'\n",
            "\u001b[34m\u001b[1mtrain: \u001b[0m/content/custom_dataset_yolo/train/images/Book_61.jpg: corrupt JPEG restored and saved\n",
            "\u001b[34m\u001b[1mtrain: \u001b[0m/content/custom_dataset_yolo/train/images/Book_68.jpg: ignoring corrupt image/label: cannot identify image file '/content/custom_dataset_yolo/train/images/Book_68.jpg'\n",
            "\u001b[34m\u001b[1mtrain: \u001b[0m/content/custom_dataset_yolo/train/images/Book_80.jpg: ignoring corrupt image/label: cannot identify image file '/content/custom_dataset_yolo/train/images/Book_80.jpg'\n",
            "\u001b[34m\u001b[1mtrain: \u001b[0m/content/custom_dataset_yolo/train/images/Book_93.jpg: ignoring corrupt image/label: cannot identify image file '/content/custom_dataset_yolo/train/images/Book_93.jpg'\n",
            "\u001b[34m\u001b[1mtrain: \u001b[0m/content/custom_dataset_yolo/train/images/Book_95.jpg: ignoring corrupt image/label: cannot identify image file '/content/custom_dataset_yolo/train/images/Book_95.jpg'\n",
            "\u001b[34m\u001b[1mtrain: \u001b[0m/content/custom_dataset_yolo/train/images/Bottle_110.jpg: ignoring corrupt image/label: cannot identify image file '/content/custom_dataset_yolo/train/images/Bottle_110.jpg'\n",
            "\u001b[34m\u001b[1mtrain: \u001b[0m/content/custom_dataset_yolo/train/images/Bottle_123.jpg: ignoring corrupt image/label: cannot identify image file '/content/custom_dataset_yolo/train/images/Bottle_123.jpg'\n",
            "\u001b[34m\u001b[1mtrain: \u001b[0m/content/custom_dataset_yolo/train/images/Bottle_128.jpg: ignoring corrupt image/label: cannot identify image file '/content/custom_dataset_yolo/train/images/Bottle_128.jpg'\n",
            "\u001b[34m\u001b[1mtrain: \u001b[0m/content/custom_dataset_yolo/train/images/Bottle_129.jpg: ignoring corrupt image/label: cannot identify image file '/content/custom_dataset_yolo/train/images/Bottle_129.jpg'\n",
            "\u001b[34m\u001b[1mtrain: \u001b[0m/content/custom_dataset_yolo/train/images/Bottle_130.jpg: ignoring corrupt image/label: cannot identify image file '/content/custom_dataset_yolo/train/images/Bottle_130.jpg'\n",
            "\u001b[34m\u001b[1mtrain: \u001b[0m/content/custom_dataset_yolo/train/images/Bottle_132.jpg: ignoring corrupt image/label: cannot identify image file '/content/custom_dataset_yolo/train/images/Bottle_132.jpg'\n",
            "\u001b[34m\u001b[1mtrain: \u001b[0m/content/custom_dataset_yolo/train/images/Bottle_144.jpg: ignoring corrupt image/label: cannot identify image file '/content/custom_dataset_yolo/train/images/Bottle_144.jpg'\n",
            "\u001b[34m\u001b[1mtrain: \u001b[0m/content/custom_dataset_yolo/train/images/Bottle_15.jpg: ignoring corrupt image/label: cannot identify image file '/content/custom_dataset_yolo/train/images/Bottle_15.jpg'\n",
            "\u001b[34m\u001b[1mtrain: \u001b[0m/content/custom_dataset_yolo/train/images/Bottle_161.jpg: ignoring corrupt image/label: cannot identify image file '/content/custom_dataset_yolo/train/images/Bottle_161.jpg'\n",
            "\u001b[34m\u001b[1mtrain: \u001b[0m/content/custom_dataset_yolo/train/images/Bottle_162.jpg: ignoring corrupt image/label: cannot identify image file '/content/custom_dataset_yolo/train/images/Bottle_162.jpg'\n",
            "\u001b[34m\u001b[1mtrain: \u001b[0m/content/custom_dataset_yolo/train/images/Bottle_174.jpg: ignoring corrupt image/label: cannot identify image file '/content/custom_dataset_yolo/train/images/Bottle_174.jpg'\n",
            "\u001b[34m\u001b[1mtrain: \u001b[0m/content/custom_dataset_yolo/train/images/Bottle_176.jpg: ignoring corrupt image/label: cannot identify image file '/content/custom_dataset_yolo/train/images/Bottle_176.jpg'\n",
            "\u001b[34m\u001b[1mtrain: \u001b[0m/content/custom_dataset_yolo/train/images/Bottle_197.jpg: ignoring corrupt image/label: cannot identify image file '/content/custom_dataset_yolo/train/images/Bottle_197.jpg'\n",
            "\u001b[34m\u001b[1mtrain: \u001b[0m/content/custom_dataset_yolo/train/images/Bottle_27.jpg: ignoring corrupt image/label: cannot identify image file '/content/custom_dataset_yolo/train/images/Bottle_27.jpg'\n",
            "\u001b[34m\u001b[1mtrain: \u001b[0m/content/custom_dataset_yolo/train/images/Bottle_30.jpg: ignoring corrupt image/label: cannot identify image file '/content/custom_dataset_yolo/train/images/Bottle_30.jpg'\n",
            "\u001b[34m\u001b[1mtrain: \u001b[0m/content/custom_dataset_yolo/train/images/Bottle_36.jpg: ignoring corrupt image/label: cannot identify image file '/content/custom_dataset_yolo/train/images/Bottle_36.jpg'\n",
            "\u001b[34m\u001b[1mtrain: \u001b[0m/content/custom_dataset_yolo/train/images/Bottle_52.jpg: ignoring corrupt image/label: cannot identify image file '/content/custom_dataset_yolo/train/images/Bottle_52.jpg'\n",
            "\u001b[34m\u001b[1mtrain: \u001b[0m/content/custom_dataset_yolo/train/images/Bottle_60.jpg: ignoring corrupt image/label: cannot identify image file '/content/custom_dataset_yolo/train/images/Bottle_60.jpg'\n",
            "\u001b[34m\u001b[1mtrain: \u001b[0m/content/custom_dataset_yolo/train/images/Bottle_7.jpg: ignoring corrupt image/label: cannot identify image file '/content/custom_dataset_yolo/train/images/Bottle_7.jpg'\n",
            "\u001b[34m\u001b[1mtrain: \u001b[0m/content/custom_dataset_yolo/train/images/Bottle_74.jpg: ignoring corrupt image/label: cannot identify image file '/content/custom_dataset_yolo/train/images/Bottle_74.jpg'\n",
            "\u001b[34m\u001b[1mtrain: \u001b[0m/content/custom_dataset_yolo/train/images/Bottle_75.jpg: ignoring corrupt image/label: cannot identify image file '/content/custom_dataset_yolo/train/images/Bottle_75.jpg'\n",
            "\u001b[34m\u001b[1mtrain: \u001b[0m/content/custom_dataset_yolo/train/images/Bottle_82.jpg: ignoring corrupt image/label: cannot identify image file '/content/custom_dataset_yolo/train/images/Bottle_82.jpg'\n",
            "\u001b[34m\u001b[1mtrain: \u001b[0m/content/custom_dataset_yolo/train/images/Bottle_83.jpg: ignoring corrupt image/label: cannot identify image file '/content/custom_dataset_yolo/train/images/Bottle_83.jpg'\n",
            "\u001b[34m\u001b[1mtrain: \u001b[0m/content/custom_dataset_yolo/train/images/Bottle_90.jpg: ignoring corrupt image/label: cannot identify image file '/content/custom_dataset_yolo/train/images/Bottle_90.jpg'\n",
            "\u001b[34m\u001b[1mtrain: \u001b[0m/content/custom_dataset_yolo/train/images/Bottle_94.jpg: ignoring corrupt image/label: cannot identify image file '/content/custom_dataset_yolo/train/images/Bottle_94.jpg'\n",
            "\u001b[34m\u001b[1mtrain: \u001b[0m/content/custom_dataset_yolo/train/images/Chair_112.jpg: ignoring corrupt image/label: cannot identify image file '/content/custom_dataset_yolo/train/images/Chair_112.jpg'\n",
            "\u001b[34m\u001b[1mtrain: \u001b[0m/content/custom_dataset_yolo/train/images/Chair_117.jpg: ignoring corrupt image/label: cannot identify image file '/content/custom_dataset_yolo/train/images/Chair_117.jpg'\n",
            "\u001b[34m\u001b[1mtrain: \u001b[0m/content/custom_dataset_yolo/train/images/Chair_120.jpg: ignoring corrupt image/label: cannot identify image file '/content/custom_dataset_yolo/train/images/Chair_120.jpg'\n",
            "\u001b[34m\u001b[1mtrain: \u001b[0m/content/custom_dataset_yolo/train/images/Chair_131.jpg: ignoring corrupt image/label: cannot identify image file '/content/custom_dataset_yolo/train/images/Chair_131.jpg'\n",
            "\u001b[34m\u001b[1mtrain: \u001b[0m/content/custom_dataset_yolo/train/images/Chair_146.jpg: ignoring corrupt image/label: cannot identify image file '/content/custom_dataset_yolo/train/images/Chair_146.jpg'\n",
            "\u001b[34m\u001b[1mtrain: \u001b[0m/content/custom_dataset_yolo/train/images/Chair_150.jpg: ignoring corrupt image/label: cannot identify image file '/content/custom_dataset_yolo/train/images/Chair_150.jpg'\n",
            "\u001b[34m\u001b[1mtrain: \u001b[0m/content/custom_dataset_yolo/train/images/Chair_199.jpg: ignoring corrupt image/label: cannot identify image file '/content/custom_dataset_yolo/train/images/Chair_199.jpg'\n",
            "\u001b[34m\u001b[1mtrain: \u001b[0m/content/custom_dataset_yolo/train/images/Chair_24.jpg: ignoring corrupt image/label: cannot identify image file '/content/custom_dataset_yolo/train/images/Chair_24.jpg'\n",
            "\u001b[34m\u001b[1mtrain: \u001b[0m/content/custom_dataset_yolo/train/images/Chair_28.jpg: ignoring corrupt image/label: cannot identify image file '/content/custom_dataset_yolo/train/images/Chair_28.jpg'\n",
            "\u001b[34m\u001b[1mtrain: \u001b[0m/content/custom_dataset_yolo/train/images/Chair_49.jpg: ignoring corrupt image/label: cannot identify image file '/content/custom_dataset_yolo/train/images/Chair_49.jpg'\n",
            "\u001b[34m\u001b[1mtrain: \u001b[0m/content/custom_dataset_yolo/train/images/Chair_82.jpg: ignoring corrupt image/label: cannot identify image file '/content/custom_dataset_yolo/train/images/Chair_82.jpg'\n",
            "\u001b[34m\u001b[1mtrain: \u001b[0m/content/custom_dataset_yolo/train/images/Chair_88.jpg: ignoring corrupt image/label: cannot identify image file '/content/custom_dataset_yolo/train/images/Chair_88.jpg'\n",
            "\u001b[34m\u001b[1mtrain: \u001b[0m/content/custom_dataset_yolo/train/images/Chair_89.jpg: ignoring corrupt image/label: cannot identify image file '/content/custom_dataset_yolo/train/images/Chair_89.jpg'\n",
            "\u001b[34m\u001b[1mtrain: \u001b[0m/content/custom_dataset_yolo/train/images/Chair_97.jpg: ignoring corrupt image/label: cannot identify image file '/content/custom_dataset_yolo/train/images/Chair_97.jpg'\n",
            "\u001b[34m\u001b[1mtrain: \u001b[0m/content/custom_dataset_yolo/train/images/Chair_99.jpg: ignoring corrupt image/label: cannot identify image file '/content/custom_dataset_yolo/train/images/Chair_99.jpg'\n",
            "\u001b[34m\u001b[1mtrain: \u001b[0m/content/custom_dataset_yolo/train/images/Keyboard_106.jpg: ignoring corrupt image/label: cannot identify image file '/content/custom_dataset_yolo/train/images/Keyboard_106.jpg'\n",
            "\u001b[34m\u001b[1mtrain: \u001b[0m/content/custom_dataset_yolo/train/images/Keyboard_107.jpg: ignoring corrupt image/label: cannot identify image file '/content/custom_dataset_yolo/train/images/Keyboard_107.jpg'\n",
            "\u001b[34m\u001b[1mtrain: \u001b[0m/content/custom_dataset_yolo/train/images/Keyboard_11.jpg: corrupt JPEG restored and saved\n",
            "\u001b[34m\u001b[1mtrain: \u001b[0m/content/custom_dataset_yolo/train/images/Keyboard_12.jpg: ignoring corrupt image/label: cannot identify image file '/content/custom_dataset_yolo/train/images/Keyboard_12.jpg'\n",
            "\u001b[34m\u001b[1mtrain: \u001b[0m/content/custom_dataset_yolo/train/images/Keyboard_139.jpg: ignoring corrupt image/label: cannot identify image file '/content/custom_dataset_yolo/train/images/Keyboard_139.jpg'\n",
            "\u001b[34m\u001b[1mtrain: \u001b[0m/content/custom_dataset_yolo/train/images/Keyboard_149.jpg: ignoring corrupt image/label: cannot identify image file '/content/custom_dataset_yolo/train/images/Keyboard_149.jpg'\n",
            "\u001b[34m\u001b[1mtrain: \u001b[0m/content/custom_dataset_yolo/train/images/Keyboard_171.jpg: ignoring corrupt image/label: cannot identify image file '/content/custom_dataset_yolo/train/images/Keyboard_171.jpg'\n",
            "\u001b[34m\u001b[1mtrain: \u001b[0m/content/custom_dataset_yolo/train/images/Keyboard_177.jpg: ignoring corrupt image/label: cannot identify image file '/content/custom_dataset_yolo/train/images/Keyboard_177.jpg'\n",
            "\u001b[34m\u001b[1mtrain: \u001b[0m/content/custom_dataset_yolo/train/images/Keyboard_187.jpg: ignoring corrupt image/label: cannot identify image file '/content/custom_dataset_yolo/train/images/Keyboard_187.jpg'\n",
            "\u001b[34m\u001b[1mtrain: \u001b[0m/content/custom_dataset_yolo/train/images/Keyboard_21.jpg: ignoring corrupt image/label: cannot identify image file '/content/custom_dataset_yolo/train/images/Keyboard_21.jpg'\n",
            "\u001b[34m\u001b[1mtrain: \u001b[0m/content/custom_dataset_yolo/train/images/Keyboard_38.jpg: ignoring corrupt image/label: cannot identify image file '/content/custom_dataset_yolo/train/images/Keyboard_38.jpg'\n",
            "\u001b[34m\u001b[1mtrain: \u001b[0m/content/custom_dataset_yolo/train/images/Keyboard_45.jpg: ignoring corrupt image/label: cannot identify image file '/content/custom_dataset_yolo/train/images/Keyboard_45.jpg'\n",
            "\u001b[34m\u001b[1mtrain: \u001b[0m/content/custom_dataset_yolo/train/images/Keyboard_46.jpg: ignoring corrupt image/label: cannot identify image file '/content/custom_dataset_yolo/train/images/Keyboard_46.jpg'\n",
            "\u001b[34m\u001b[1mtrain: \u001b[0m/content/custom_dataset_yolo/train/images/Keyboard_50.jpg: ignoring corrupt image/label: cannot identify image file '/content/custom_dataset_yolo/train/images/Keyboard_50.jpg'\n",
            "\u001b[34m\u001b[1mtrain: \u001b[0m/content/custom_dataset_yolo/train/images/Keyboard_52.jpg: ignoring corrupt image/label: cannot identify image file '/content/custom_dataset_yolo/train/images/Keyboard_52.jpg'\n",
            "\u001b[34m\u001b[1mtrain: \u001b[0m/content/custom_dataset_yolo/train/images/Keyboard_58.jpg: ignoring corrupt image/label: cannot identify image file '/content/custom_dataset_yolo/train/images/Keyboard_58.jpg'\n",
            "\u001b[34m\u001b[1mtrain: \u001b[0m/content/custom_dataset_yolo/train/images/Keyboard_60.jpg: ignoring corrupt image/label: cannot identify image file '/content/custom_dataset_yolo/train/images/Keyboard_60.jpg'\n",
            "\u001b[34m\u001b[1mtrain: \u001b[0m/content/custom_dataset_yolo/train/images/Keyboard_69.jpg: ignoring corrupt image/label: cannot identify image file '/content/custom_dataset_yolo/train/images/Keyboard_69.jpg'\n",
            "\u001b[34m\u001b[1mtrain: \u001b[0m/content/custom_dataset_yolo/train/images/Keyboard_86.jpg: ignoring corrupt image/label: cannot identify image file '/content/custom_dataset_yolo/train/images/Keyboard_86.jpg'\n",
            "\u001b[34m\u001b[1mtrain: \u001b[0m/content/custom_dataset_yolo/train/images/Keyboard_96.jpg: ignoring corrupt image/label: cannot identify image file '/content/custom_dataset_yolo/train/images/Keyboard_96.jpg'\n",
            "\u001b[34m\u001b[1mtrain: \u001b[0m/content/custom_dataset_yolo/train/images/Laptop_105.jpg: ignoring corrupt image/label: cannot identify image file '/content/custom_dataset_yolo/train/images/Laptop_105.jpg'\n",
            "\u001b[34m\u001b[1mtrain: \u001b[0m/content/custom_dataset_yolo/train/images/Laptop_108.jpg: ignoring corrupt image/label: cannot identify image file '/content/custom_dataset_yolo/train/images/Laptop_108.jpg'\n",
            "\u001b[34m\u001b[1mtrain: \u001b[0m/content/custom_dataset_yolo/train/images/Laptop_109.jpg: ignoring corrupt image/label: cannot identify image file '/content/custom_dataset_yolo/train/images/Laptop_109.jpg'\n",
            "\u001b[34m\u001b[1mtrain: \u001b[0m/content/custom_dataset_yolo/train/images/Laptop_110.jpg: ignoring corrupt image/label: cannot identify image file '/content/custom_dataset_yolo/train/images/Laptop_110.jpg'\n",
            "\u001b[34m\u001b[1mtrain: \u001b[0m/content/custom_dataset_yolo/train/images/Laptop_112.jpg: ignoring corrupt image/label: cannot identify image file '/content/custom_dataset_yolo/train/images/Laptop_112.jpg'\n",
            "\u001b[34m\u001b[1mtrain: \u001b[0m/content/custom_dataset_yolo/train/images/Laptop_113.jpg: ignoring corrupt image/label: cannot identify image file '/content/custom_dataset_yolo/train/images/Laptop_113.jpg'\n",
            "\u001b[34m\u001b[1mtrain: \u001b[0m/content/custom_dataset_yolo/train/images/Laptop_114.jpg: ignoring corrupt image/label: cannot identify image file '/content/custom_dataset_yolo/train/images/Laptop_114.jpg'\n",
            "\u001b[34m\u001b[1mtrain: \u001b[0m/content/custom_dataset_yolo/train/images/Laptop_118.jpg: ignoring corrupt image/label: cannot identify image file '/content/custom_dataset_yolo/train/images/Laptop_118.jpg'\n",
            "\u001b[34m\u001b[1mtrain: \u001b[0m/content/custom_dataset_yolo/train/images/Laptop_12.jpg: ignoring corrupt image/label: cannot identify image file '/content/custom_dataset_yolo/train/images/Laptop_12.jpg'\n",
            "\u001b[34m\u001b[1mtrain: \u001b[0m/content/custom_dataset_yolo/train/images/Laptop_125.jpg: ignoring corrupt image/label: cannot identify image file '/content/custom_dataset_yolo/train/images/Laptop_125.jpg'\n",
            "\u001b[34m\u001b[1mtrain: \u001b[0m/content/custom_dataset_yolo/train/images/Laptop_126.jpg: ignoring corrupt image/label: cannot identify image file '/content/custom_dataset_yolo/train/images/Laptop_126.jpg'\n",
            "\u001b[34m\u001b[1mtrain: \u001b[0m/content/custom_dataset_yolo/train/images/Laptop_13.jpg: ignoring corrupt image/label: cannot identify image file '/content/custom_dataset_yolo/train/images/Laptop_13.jpg'\n",
            "\u001b[34m\u001b[1mtrain: \u001b[0m/content/custom_dataset_yolo/train/images/Laptop_134.jpg: ignoring corrupt image/label: cannot identify image file '/content/custom_dataset_yolo/train/images/Laptop_134.jpg'\n",
            "\u001b[34m\u001b[1mtrain: \u001b[0m/content/custom_dataset_yolo/train/images/Laptop_14.jpg: ignoring corrupt image/label: cannot identify image file '/content/custom_dataset_yolo/train/images/Laptop_14.jpg'\n",
            "\u001b[34m\u001b[1mtrain: \u001b[0m/content/custom_dataset_yolo/train/images/Laptop_140.jpg: ignoring corrupt image/label: cannot identify image file '/content/custom_dataset_yolo/train/images/Laptop_140.jpg'\n",
            "\u001b[34m\u001b[1mtrain: \u001b[0m/content/custom_dataset_yolo/train/images/Laptop_143.jpg: ignoring corrupt image/label: cannot identify image file '/content/custom_dataset_yolo/train/images/Laptop_143.jpg'\n",
            "\u001b[34m\u001b[1mtrain: \u001b[0m/content/custom_dataset_yolo/train/images/Laptop_144.jpg: ignoring corrupt image/label: cannot identify image file '/content/custom_dataset_yolo/train/images/Laptop_144.jpg'\n",
            "\u001b[34m\u001b[1mtrain: \u001b[0m/content/custom_dataset_yolo/train/images/Laptop_147.jpg: ignoring corrupt image/label: cannot identify image file '/content/custom_dataset_yolo/train/images/Laptop_147.jpg'\n",
            "\u001b[34m\u001b[1mtrain: \u001b[0m/content/custom_dataset_yolo/train/images/Laptop_15.jpg: ignoring corrupt image/label: cannot identify image file '/content/custom_dataset_yolo/train/images/Laptop_15.jpg'\n",
            "\u001b[34m\u001b[1mtrain: \u001b[0m/content/custom_dataset_yolo/train/images/Laptop_150.jpg: ignoring corrupt image/label: cannot identify image file '/content/custom_dataset_yolo/train/images/Laptop_150.jpg'\n",
            "\u001b[34m\u001b[1mtrain: \u001b[0m/content/custom_dataset_yolo/train/images/Laptop_151.jpg: ignoring corrupt image/label: cannot identify image file '/content/custom_dataset_yolo/train/images/Laptop_151.jpg'\n",
            "\u001b[34m\u001b[1mtrain: \u001b[0m/content/custom_dataset_yolo/train/images/Laptop_155.jpg: ignoring corrupt image/label: cannot identify image file '/content/custom_dataset_yolo/train/images/Laptop_155.jpg'\n",
            "\u001b[34m\u001b[1mtrain: \u001b[0m/content/custom_dataset_yolo/train/images/Laptop_156.jpg: ignoring corrupt image/label: cannot identify image file '/content/custom_dataset_yolo/train/images/Laptop_156.jpg'\n",
            "\u001b[34m\u001b[1mtrain: \u001b[0m/content/custom_dataset_yolo/train/images/Laptop_157.jpg: ignoring corrupt image/label: cannot identify image file '/content/custom_dataset_yolo/train/images/Laptop_157.jpg'\n",
            "\u001b[34m\u001b[1mtrain: \u001b[0m/content/custom_dataset_yolo/train/images/Laptop_159.jpg: ignoring corrupt image/label: cannot identify image file '/content/custom_dataset_yolo/train/images/Laptop_159.jpg'\n",
            "\u001b[34m\u001b[1mtrain: \u001b[0m/content/custom_dataset_yolo/train/images/Laptop_164.jpg: ignoring corrupt image/label: cannot identify image file '/content/custom_dataset_yolo/train/images/Laptop_164.jpg'\n",
            "\u001b[34m\u001b[1mtrain: \u001b[0m/content/custom_dataset_yolo/train/images/Laptop_167.jpg: ignoring corrupt image/label: cannot identify image file '/content/custom_dataset_yolo/train/images/Laptop_167.jpg'\n",
            "\u001b[34m\u001b[1mtrain: \u001b[0m/content/custom_dataset_yolo/train/images/Laptop_17.jpg: ignoring corrupt image/label: cannot identify image file '/content/custom_dataset_yolo/train/images/Laptop_17.jpg'\n",
            "\u001b[34m\u001b[1mtrain: \u001b[0m/content/custom_dataset_yolo/train/images/Laptop_170.jpg: ignoring corrupt image/label: cannot identify image file '/content/custom_dataset_yolo/train/images/Laptop_170.jpg'\n",
            "\u001b[34m\u001b[1mtrain: \u001b[0m/content/custom_dataset_yolo/train/images/Laptop_172.jpg: ignoring corrupt image/label: cannot identify image file '/content/custom_dataset_yolo/train/images/Laptop_172.jpg'\n",
            "\u001b[34m\u001b[1mtrain: \u001b[0m/content/custom_dataset_yolo/train/images/Laptop_174.jpg: ignoring corrupt image/label: cannot identify image file '/content/custom_dataset_yolo/train/images/Laptop_174.jpg'\n",
            "\u001b[34m\u001b[1mtrain: \u001b[0m/content/custom_dataset_yolo/train/images/Laptop_178.jpg: ignoring corrupt image/label: cannot identify image file '/content/custom_dataset_yolo/train/images/Laptop_178.jpg'\n",
            "\u001b[34m\u001b[1mtrain: \u001b[0m/content/custom_dataset_yolo/train/images/Laptop_180.jpg: ignoring corrupt image/label: cannot identify image file '/content/custom_dataset_yolo/train/images/Laptop_180.jpg'\n",
            "\u001b[34m\u001b[1mtrain: \u001b[0m/content/custom_dataset_yolo/train/images/Laptop_181.jpg: ignoring corrupt image/label: cannot identify image file '/content/custom_dataset_yolo/train/images/Laptop_181.jpg'\n",
            "\u001b[34m\u001b[1mtrain: \u001b[0m/content/custom_dataset_yolo/train/images/Laptop_182.jpg: ignoring corrupt image/label: cannot identify image file '/content/custom_dataset_yolo/train/images/Laptop_182.jpg'\n",
            "\u001b[34m\u001b[1mtrain: \u001b[0m/content/custom_dataset_yolo/train/images/Laptop_189.jpg: ignoring corrupt image/label: cannot identify image file '/content/custom_dataset_yolo/train/images/Laptop_189.jpg'\n",
            "\u001b[34m\u001b[1mtrain: \u001b[0m/content/custom_dataset_yolo/train/images/Laptop_190.jpg: ignoring corrupt image/label: cannot identify image file '/content/custom_dataset_yolo/train/images/Laptop_190.jpg'\n",
            "\u001b[34m\u001b[1mtrain: \u001b[0m/content/custom_dataset_yolo/train/images/Laptop_192.jpg: ignoring corrupt image/label: cannot identify image file '/content/custom_dataset_yolo/train/images/Laptop_192.jpg'\n",
            "\u001b[34m\u001b[1mtrain: \u001b[0m/content/custom_dataset_yolo/train/images/Laptop_23.jpg: ignoring corrupt image/label: cannot identify image file '/content/custom_dataset_yolo/train/images/Laptop_23.jpg'\n",
            "\u001b[34m\u001b[1mtrain: \u001b[0m/content/custom_dataset_yolo/train/images/Laptop_25.jpg: ignoring corrupt image/label: cannot identify image file '/content/custom_dataset_yolo/train/images/Laptop_25.jpg'\n",
            "\u001b[34m\u001b[1mtrain: \u001b[0m/content/custom_dataset_yolo/train/images/Laptop_28.jpg: ignoring corrupt image/label: cannot identify image file '/content/custom_dataset_yolo/train/images/Laptop_28.jpg'\n",
            "\u001b[34m\u001b[1mtrain: \u001b[0m/content/custom_dataset_yolo/train/images/Laptop_4.jpg: ignoring corrupt image/label: cannot identify image file '/content/custom_dataset_yolo/train/images/Laptop_4.jpg'\n",
            "\u001b[34m\u001b[1mtrain: \u001b[0m/content/custom_dataset_yolo/train/images/Laptop_42.jpg: ignoring corrupt image/label: cannot identify image file '/content/custom_dataset_yolo/train/images/Laptop_42.jpg'\n",
            "\u001b[34m\u001b[1mtrain: \u001b[0m/content/custom_dataset_yolo/train/images/Laptop_49.jpg: ignoring corrupt image/label: cannot identify image file '/content/custom_dataset_yolo/train/images/Laptop_49.jpg'\n",
            "\u001b[34m\u001b[1mtrain: \u001b[0m/content/custom_dataset_yolo/train/images/Laptop_56.jpg: ignoring corrupt image/label: cannot identify image file '/content/custom_dataset_yolo/train/images/Laptop_56.jpg'\n",
            "\u001b[34m\u001b[1mtrain: \u001b[0m/content/custom_dataset_yolo/train/images/Laptop_61.jpg: ignoring corrupt image/label: cannot identify image file '/content/custom_dataset_yolo/train/images/Laptop_61.jpg'\n",
            "\u001b[34m\u001b[1mtrain: \u001b[0m/content/custom_dataset_yolo/train/images/Laptop_69.jpg: ignoring corrupt image/label: cannot identify image file '/content/custom_dataset_yolo/train/images/Laptop_69.jpg'\n",
            "\u001b[34m\u001b[1mtrain: \u001b[0m/content/custom_dataset_yolo/train/images/Laptop_7.jpg: ignoring corrupt image/label: cannot identify image file '/content/custom_dataset_yolo/train/images/Laptop_7.jpg'\n",
            "\u001b[34m\u001b[1mtrain: \u001b[0m/content/custom_dataset_yolo/train/images/Laptop_75.jpg: ignoring corrupt image/label: cannot identify image file '/content/custom_dataset_yolo/train/images/Laptop_75.jpg'\n",
            "\u001b[34m\u001b[1mtrain: \u001b[0m/content/custom_dataset_yolo/train/images/Laptop_8.jpg: ignoring corrupt image/label: cannot identify image file '/content/custom_dataset_yolo/train/images/Laptop_8.jpg'\n",
            "\u001b[34m\u001b[1mtrain: \u001b[0m/content/custom_dataset_yolo/train/images/Laptop_9.jpg: ignoring corrupt image/label: cannot identify image file '/content/custom_dataset_yolo/train/images/Laptop_9.jpg'\n",
            "\u001b[34m\u001b[1mtrain: \u001b[0m/content/custom_dataset_yolo/train/images/Laptop_93.jpg: ignoring corrupt image/label: cannot identify image file '/content/custom_dataset_yolo/train/images/Laptop_93.jpg'\n",
            "\u001b[34m\u001b[1mtrain: \u001b[0m/content/custom_dataset_yolo/train/images/Laptop_97.jpg: ignoring corrupt image/label: cannot identify image file '/content/custom_dataset_yolo/train/images/Laptop_97.jpg'\n",
            "\u001b[34m\u001b[1mtrain: \u001b[0m/content/custom_dataset_yolo/train/images/Laptop_99.jpg: ignoring corrupt image/label: cannot identify image file '/content/custom_dataset_yolo/train/images/Laptop_99.jpg'\n",
            "\u001b[34m\u001b[1mtrain: \u001b[0m/content/custom_dataset_yolo/train/images/Mouse_126.jpg: ignoring corrupt image/label: cannot identify image file '/content/custom_dataset_yolo/train/images/Mouse_126.jpg'\n",
            "\u001b[34m\u001b[1mtrain: \u001b[0m/content/custom_dataset_yolo/train/images/Mouse_127.jpg: ignoring corrupt image/label: cannot identify image file '/content/custom_dataset_yolo/train/images/Mouse_127.jpg'\n",
            "\u001b[34m\u001b[1mtrain: \u001b[0m/content/custom_dataset_yolo/train/images/Mouse_13.jpg: ignoring corrupt image/label: cannot identify image file '/content/custom_dataset_yolo/train/images/Mouse_13.jpg'\n",
            "\u001b[34m\u001b[1mtrain: \u001b[0m/content/custom_dataset_yolo/train/images/Mouse_131.jpg: ignoring corrupt image/label: cannot identify image file '/content/custom_dataset_yolo/train/images/Mouse_131.jpg'\n",
            "\u001b[34m\u001b[1mtrain: \u001b[0m/content/custom_dataset_yolo/train/images/Mouse_136.jpg: ignoring corrupt image/label: cannot identify image file '/content/custom_dataset_yolo/train/images/Mouse_136.jpg'\n",
            "\u001b[34m\u001b[1mtrain: \u001b[0m/content/custom_dataset_yolo/train/images/Mouse_137.jpg: ignoring corrupt image/label: cannot identify image file '/content/custom_dataset_yolo/train/images/Mouse_137.jpg'\n",
            "\u001b[34m\u001b[1mtrain: \u001b[0m/content/custom_dataset_yolo/train/images/Mouse_142.jpg: ignoring corrupt image/label: cannot identify image file '/content/custom_dataset_yolo/train/images/Mouse_142.jpg'\n",
            "\u001b[34m\u001b[1mtrain: \u001b[0m/content/custom_dataset_yolo/train/images/Mouse_146.jpg: ignoring corrupt image/label: cannot identify image file '/content/custom_dataset_yolo/train/images/Mouse_146.jpg'\n",
            "\u001b[34m\u001b[1mtrain: \u001b[0m/content/custom_dataset_yolo/train/images/Mouse_151.jpg: ignoring corrupt image/label: cannot identify image file '/content/custom_dataset_yolo/train/images/Mouse_151.jpg'\n",
            "\u001b[34m\u001b[1mtrain: \u001b[0m/content/custom_dataset_yolo/train/images/Mouse_173.jpg: ignoring corrupt image/label: cannot identify image file '/content/custom_dataset_yolo/train/images/Mouse_173.jpg'\n",
            "\u001b[34m\u001b[1mtrain: \u001b[0m/content/custom_dataset_yolo/train/images/Mouse_175.jpg: ignoring corrupt image/label: cannot identify image file '/content/custom_dataset_yolo/train/images/Mouse_175.jpg'\n",
            "\u001b[34m\u001b[1mtrain: \u001b[0m/content/custom_dataset_yolo/train/images/Mouse_19.jpg: ignoring corrupt image/label: cannot identify image file '/content/custom_dataset_yolo/train/images/Mouse_19.jpg'\n",
            "\u001b[34m\u001b[1mtrain: \u001b[0m/content/custom_dataset_yolo/train/images/Mouse_191.jpg: ignoring corrupt image/label: cannot identify image file '/content/custom_dataset_yolo/train/images/Mouse_191.jpg'\n",
            "\u001b[34m\u001b[1mtrain: \u001b[0m/content/custom_dataset_yolo/train/images/Mouse_33.jpg: ignoring corrupt image/label: cannot identify image file '/content/custom_dataset_yolo/train/images/Mouse_33.jpg'\n",
            "\u001b[34m\u001b[1mtrain: \u001b[0m/content/custom_dataset_yolo/train/images/Mouse_35.jpg: ignoring corrupt image/label: cannot identify image file '/content/custom_dataset_yolo/train/images/Mouse_35.jpg'\n",
            "\u001b[34m\u001b[1mtrain: \u001b[0m/content/custom_dataset_yolo/train/images/Mouse_52.jpg: ignoring corrupt image/label: cannot identify image file '/content/custom_dataset_yolo/train/images/Mouse_52.jpg'\n",
            "\u001b[34m\u001b[1mtrain: \u001b[0m/content/custom_dataset_yolo/train/images/Mouse_57.jpg: ignoring corrupt image/label: cannot identify image file '/content/custom_dataset_yolo/train/images/Mouse_57.jpg'\n",
            "\u001b[34m\u001b[1mtrain: \u001b[0m/content/custom_dataset_yolo/train/images/Mouse_59.jpg: ignoring corrupt image/label: cannot identify image file '/content/custom_dataset_yolo/train/images/Mouse_59.jpg'\n",
            "\u001b[34m\u001b[1mtrain: \u001b[0m/content/custom_dataset_yolo/train/images/Mouse_61.jpg: ignoring corrupt image/label: cannot identify image file '/content/custom_dataset_yolo/train/images/Mouse_61.jpg'\n",
            "\u001b[34m\u001b[1mtrain: \u001b[0m/content/custom_dataset_yolo/train/images/Mouse_68.jpg: ignoring corrupt image/label: cannot identify image file '/content/custom_dataset_yolo/train/images/Mouse_68.jpg'\n",
            "\u001b[34m\u001b[1mtrain: \u001b[0m/content/custom_dataset_yolo/train/images/Mouse_81.jpg: ignoring corrupt image/label: cannot identify image file '/content/custom_dataset_yolo/train/images/Mouse_81.jpg'\n",
            "\u001b[34m\u001b[1mtrain: \u001b[0m/content/custom_dataset_yolo/train/images/Mouse_83.jpg: ignoring corrupt image/label: cannot identify image file '/content/custom_dataset_yolo/train/images/Mouse_83.jpg'\n",
            "\u001b[34m\u001b[1mtrain: \u001b[0m/content/custom_dataset_yolo/train/images/Mouse_85.jpg: ignoring corrupt image/label: cannot identify image file '/content/custom_dataset_yolo/train/images/Mouse_85.jpg'\n",
            "\u001b[34m\u001b[1mtrain: \u001b[0m/content/custom_dataset_yolo/train/images/Pen_111.jpg: ignoring corrupt image/label: cannot identify image file '/content/custom_dataset_yolo/train/images/Pen_111.jpg'\n",
            "\u001b[34m\u001b[1mtrain: \u001b[0m/content/custom_dataset_yolo/train/images/Pen_117.jpg: ignoring corrupt image/label: cannot identify image file '/content/custom_dataset_yolo/train/images/Pen_117.jpg'\n",
            "\u001b[34m\u001b[1mtrain: \u001b[0m/content/custom_dataset_yolo/train/images/Pen_122.jpg: ignoring corrupt image/label: cannot identify image file '/content/custom_dataset_yolo/train/images/Pen_122.jpg'\n",
            "\u001b[34m\u001b[1mtrain: \u001b[0m/content/custom_dataset_yolo/train/images/Pen_124.jpg: ignoring corrupt image/label: cannot identify image file '/content/custom_dataset_yolo/train/images/Pen_124.jpg'\n",
            "\u001b[34m\u001b[1mtrain: \u001b[0m/content/custom_dataset_yolo/train/images/Pen_128.jpg: ignoring corrupt image/label: cannot identify image file '/content/custom_dataset_yolo/train/images/Pen_128.jpg'\n",
            "\u001b[34m\u001b[1mtrain: \u001b[0m/content/custom_dataset_yolo/train/images/Pen_129.jpg: ignoring corrupt image/label: cannot identify image file '/content/custom_dataset_yolo/train/images/Pen_129.jpg'\n",
            "\u001b[34m\u001b[1mtrain: \u001b[0m/content/custom_dataset_yolo/train/images/Pen_13.jpg: ignoring corrupt image/label: cannot identify image file '/content/custom_dataset_yolo/train/images/Pen_13.jpg'\n",
            "\u001b[34m\u001b[1mtrain: \u001b[0m/content/custom_dataset_yolo/train/images/Pen_136.jpg: ignoring corrupt image/label: cannot identify image file '/content/custom_dataset_yolo/train/images/Pen_136.jpg'\n",
            "\u001b[34m\u001b[1mtrain: \u001b[0m/content/custom_dataset_yolo/train/images/Pen_14.jpg: ignoring corrupt image/label: cannot identify image file '/content/custom_dataset_yolo/train/images/Pen_14.jpg'\n",
            "\u001b[34m\u001b[1mtrain: \u001b[0m/content/custom_dataset_yolo/train/images/Pen_15.jpg: ignoring corrupt image/label: cannot identify image file '/content/custom_dataset_yolo/train/images/Pen_15.jpg'\n",
            "\u001b[34m\u001b[1mtrain: \u001b[0m/content/custom_dataset_yolo/train/images/Pen_153.jpg: ignoring corrupt image/label: cannot identify image file '/content/custom_dataset_yolo/train/images/Pen_153.jpg'\n",
            "\u001b[34m\u001b[1mtrain: \u001b[0m/content/custom_dataset_yolo/train/images/Pen_163.jpg: ignoring corrupt image/label: cannot identify image file '/content/custom_dataset_yolo/train/images/Pen_163.jpg'\n",
            "\u001b[34m\u001b[1mtrain: \u001b[0m/content/custom_dataset_yolo/train/images/Pen_180.jpg: ignoring corrupt image/label: cannot identify image file '/content/custom_dataset_yolo/train/images/Pen_180.jpg'\n",
            "\u001b[34m\u001b[1mtrain: \u001b[0m/content/custom_dataset_yolo/train/images/Pen_186.jpg: ignoring corrupt image/label: cannot identify image file '/content/custom_dataset_yolo/train/images/Pen_186.jpg'\n",
            "\u001b[34m\u001b[1mtrain: \u001b[0m/content/custom_dataset_yolo/train/images/Pen_192.jpg: ignoring corrupt image/label: cannot identify image file '/content/custom_dataset_yolo/train/images/Pen_192.jpg'\n",
            "\u001b[34m\u001b[1mtrain: \u001b[0m/content/custom_dataset_yolo/train/images/Pen_27.jpg: ignoring corrupt image/label: cannot identify image file '/content/custom_dataset_yolo/train/images/Pen_27.jpg'\n",
            "\u001b[34m\u001b[1mtrain: \u001b[0m/content/custom_dataset_yolo/train/images/Pen_32.jpg: ignoring corrupt image/label: cannot identify image file '/content/custom_dataset_yolo/train/images/Pen_32.jpg'\n",
            "\u001b[34m\u001b[1mtrain: \u001b[0m/content/custom_dataset_yolo/train/images/Pen_42.jpg: ignoring corrupt image/label: cannot identify image file '/content/custom_dataset_yolo/train/images/Pen_42.jpg'\n",
            "\u001b[34m\u001b[1mtrain: \u001b[0m/content/custom_dataset_yolo/train/images/Pen_45.jpg: ignoring corrupt image/label: cannot identify image file '/content/custom_dataset_yolo/train/images/Pen_45.jpg'\n",
            "\u001b[34m\u001b[1mtrain: \u001b[0m/content/custom_dataset_yolo/train/images/Pen_48.jpg: ignoring corrupt image/label: cannot identify image file '/content/custom_dataset_yolo/train/images/Pen_48.jpg'\n",
            "\u001b[34m\u001b[1mtrain: \u001b[0m/content/custom_dataset_yolo/train/images/Pen_49.jpg: ignoring corrupt image/label: cannot identify image file '/content/custom_dataset_yolo/train/images/Pen_49.jpg'\n",
            "\u001b[34m\u001b[1mtrain: \u001b[0m/content/custom_dataset_yolo/train/images/Pen_52.jpg: ignoring corrupt image/label: cannot identify image file '/content/custom_dataset_yolo/train/images/Pen_52.jpg'\n",
            "\u001b[34m\u001b[1mtrain: \u001b[0m/content/custom_dataset_yolo/train/images/Pen_54.jpg: ignoring corrupt image/label: cannot identify image file '/content/custom_dataset_yolo/train/images/Pen_54.jpg'\n",
            "\u001b[34m\u001b[1mtrain: \u001b[0m/content/custom_dataset_yolo/train/images/Pen_56.jpg: ignoring corrupt image/label: cannot identify image file '/content/custom_dataset_yolo/train/images/Pen_56.jpg'\n",
            "\u001b[34m\u001b[1mtrain: \u001b[0m/content/custom_dataset_yolo/train/images/Pen_65.jpg: ignoring corrupt image/label: cannot identify image file '/content/custom_dataset_yolo/train/images/Pen_65.jpg'\n",
            "\u001b[34m\u001b[1mtrain: \u001b[0m/content/custom_dataset_yolo/train/images/Pen_66.jpg: ignoring corrupt image/label: cannot identify image file '/content/custom_dataset_yolo/train/images/Pen_66.jpg'\n",
            "\u001b[34m\u001b[1mtrain: \u001b[0m/content/custom_dataset_yolo/train/images/Pen_72.jpg: ignoring corrupt image/label: cannot identify image file '/content/custom_dataset_yolo/train/images/Pen_72.jpg'\n",
            "\u001b[34m\u001b[1mtrain: \u001b[0m/content/custom_dataset_yolo/train/images/Pen_74.jpg: ignoring corrupt image/label: cannot identify image file '/content/custom_dataset_yolo/train/images/Pen_74.jpg'\n",
            "\u001b[34m\u001b[1mtrain: \u001b[0m/content/custom_dataset_yolo/train/images/Pen_80.jpg: ignoring corrupt image/label: cannot identify image file '/content/custom_dataset_yolo/train/images/Pen_80.jpg'\n",
            "\u001b[34m\u001b[1mtrain: \u001b[0m/content/custom_dataset_yolo/train/images/Pen_81.jpg: ignoring corrupt image/label: cannot identify image file '/content/custom_dataset_yolo/train/images/Pen_81.jpg'\n",
            "\u001b[34m\u001b[1mtrain: \u001b[0m/content/custom_dataset_yolo/train/images/Pen_84.jpg: ignoring corrupt image/label: cannot identify image file '/content/custom_dataset_yolo/train/images/Pen_84.jpg'\n",
            "\u001b[34m\u001b[1mtrain: \u001b[0m/content/custom_dataset_yolo/train/images/Pen_85.jpg: ignoring corrupt image/label: cannot identify image file '/content/custom_dataset_yolo/train/images/Pen_85.jpg'\n",
            "\u001b[34m\u001b[1mtrain: \u001b[0m/content/custom_dataset_yolo/train/images/Pen_89.jpg: ignoring corrupt image/label: invalid image format GIF. Supported formats are:\n",
            "images: {'mpo', 'heic', 'jpeg', 'tiff', 'jpg', 'bmp', 'pfm', 'dng', 'tif', 'webp', 'png'}\n",
            "videos: {'avi', 'ts', 'wmv', 'gif', 'mov', 'asf', 'mp4', 'mpeg', 'webm', 'mkv', 'm4v', 'mpg'}\n",
            "\u001b[34m\u001b[1mtrain: \u001b[0m/content/custom_dataset_yolo/train/images/Pen_9.jpg: ignoring corrupt image/label: cannot identify image file '/content/custom_dataset_yolo/train/images/Pen_9.jpg'\n",
            "\u001b[34m\u001b[1mtrain: \u001b[0m/content/custom_dataset_yolo/train/images/Pen_93.jpg: ignoring corrupt image/label: cannot identify image file '/content/custom_dataset_yolo/train/images/Pen_93.jpg'\n",
            "\u001b[34m\u001b[1mtrain: \u001b[0m/content/custom_dataset_yolo/train/images/Pen_94.jpg: ignoring corrupt image/label: cannot identify image file '/content/custom_dataset_yolo/train/images/Pen_94.jpg'\n",
            "\u001b[34m\u001b[1mtrain: \u001b[0m/content/custom_dataset_yolo/train/images/Phone_113.jpg: ignoring corrupt image/label: cannot identify image file '/content/custom_dataset_yolo/train/images/Phone_113.jpg'\n",
            "\u001b[34m\u001b[1mtrain: \u001b[0m/content/custom_dataset_yolo/train/images/Phone_114.jpg: ignoring corrupt image/label: cannot identify image file '/content/custom_dataset_yolo/train/images/Phone_114.jpg'\n",
            "\u001b[34m\u001b[1mtrain: \u001b[0m/content/custom_dataset_yolo/train/images/Phone_119.jpg: ignoring corrupt image/label: cannot identify image file '/content/custom_dataset_yolo/train/images/Phone_119.jpg'\n",
            "\u001b[34m\u001b[1mtrain: \u001b[0m/content/custom_dataset_yolo/train/images/Phone_12.jpg: ignoring corrupt image/label: cannot identify image file '/content/custom_dataset_yolo/train/images/Phone_12.jpg'\n",
            "\u001b[34m\u001b[1mtrain: \u001b[0m/content/custom_dataset_yolo/train/images/Phone_122.jpg: ignoring corrupt image/label: cannot identify image file '/content/custom_dataset_yolo/train/images/Phone_122.jpg'\n",
            "\u001b[34m\u001b[1mtrain: \u001b[0m/content/custom_dataset_yolo/train/images/Phone_129.jpg: ignoring corrupt image/label: cannot identify image file '/content/custom_dataset_yolo/train/images/Phone_129.jpg'\n",
            "\u001b[34m\u001b[1mtrain: \u001b[0m/content/custom_dataset_yolo/train/images/Phone_14.jpg: ignoring corrupt image/label: cannot identify image file '/content/custom_dataset_yolo/train/images/Phone_14.jpg'\n",
            "\u001b[34m\u001b[1mtrain: \u001b[0m/content/custom_dataset_yolo/train/images/Phone_141.jpg: ignoring corrupt image/label: cannot identify image file '/content/custom_dataset_yolo/train/images/Phone_141.jpg'\n",
            "\u001b[34m\u001b[1mtrain: \u001b[0m/content/custom_dataset_yolo/train/images/Phone_147.jpg: ignoring corrupt image/label: cannot identify image file '/content/custom_dataset_yolo/train/images/Phone_147.jpg'\n",
            "\u001b[34m\u001b[1mtrain: \u001b[0m/content/custom_dataset_yolo/train/images/Phone_149.jpg: ignoring corrupt image/label: cannot identify image file '/content/custom_dataset_yolo/train/images/Phone_149.jpg'\n",
            "\u001b[34m\u001b[1mtrain: \u001b[0m/content/custom_dataset_yolo/train/images/Phone_185.jpg: ignoring corrupt image/label: cannot identify image file '/content/custom_dataset_yolo/train/images/Phone_185.jpg'\n",
            "\u001b[34m\u001b[1mtrain: \u001b[0m/content/custom_dataset_yolo/train/images/Phone_22.jpg: ignoring corrupt image/label: cannot identify image file '/content/custom_dataset_yolo/train/images/Phone_22.jpg'\n",
            "\u001b[34m\u001b[1mtrain: \u001b[0m/content/custom_dataset_yolo/train/images/Phone_24.jpg: ignoring corrupt image/label: cannot identify image file '/content/custom_dataset_yolo/train/images/Phone_24.jpg'\n",
            "\u001b[34m\u001b[1mtrain: \u001b[0m/content/custom_dataset_yolo/train/images/Phone_27.jpg: ignoring corrupt image/label: cannot identify image file '/content/custom_dataset_yolo/train/images/Phone_27.jpg'\n",
            "\u001b[34m\u001b[1mtrain: \u001b[0m/content/custom_dataset_yolo/train/images/Phone_34.jpg: ignoring corrupt image/label: cannot identify image file '/content/custom_dataset_yolo/train/images/Phone_34.jpg'\n",
            "\u001b[34m\u001b[1mtrain: \u001b[0m/content/custom_dataset_yolo/train/images/Phone_35.jpg: ignoring corrupt image/label: cannot identify image file '/content/custom_dataset_yolo/train/images/Phone_35.jpg'\n",
            "\u001b[34m\u001b[1mtrain: \u001b[0m/content/custom_dataset_yolo/train/images/Phone_36.jpg: ignoring corrupt image/label: cannot identify image file '/content/custom_dataset_yolo/train/images/Phone_36.jpg'\n",
            "\u001b[34m\u001b[1mtrain: \u001b[0m/content/custom_dataset_yolo/train/images/Phone_37.jpg: ignoring corrupt image/label: cannot identify image file '/content/custom_dataset_yolo/train/images/Phone_37.jpg'\n",
            "\u001b[34m\u001b[1mtrain: \u001b[0m/content/custom_dataset_yolo/train/images/Phone_39.jpg: ignoring corrupt image/label: cannot identify image file '/content/custom_dataset_yolo/train/images/Phone_39.jpg'\n",
            "\u001b[34m\u001b[1mtrain: \u001b[0m/content/custom_dataset_yolo/train/images/Phone_40.jpg: ignoring corrupt image/label: cannot identify image file '/content/custom_dataset_yolo/train/images/Phone_40.jpg'\n",
            "\u001b[34m\u001b[1mtrain: \u001b[0m/content/custom_dataset_yolo/train/images/Phone_43.jpg: ignoring corrupt image/label: cannot identify image file '/content/custom_dataset_yolo/train/images/Phone_43.jpg'\n",
            "\u001b[34m\u001b[1mtrain: \u001b[0m/content/custom_dataset_yolo/train/images/Phone_44.jpg: ignoring corrupt image/label: cannot identify image file '/content/custom_dataset_yolo/train/images/Phone_44.jpg'\n",
            "\u001b[34m\u001b[1mtrain: \u001b[0m/content/custom_dataset_yolo/train/images/Phone_58.jpg: ignoring corrupt image/label: cannot identify image file '/content/custom_dataset_yolo/train/images/Phone_58.jpg'\n",
            "\u001b[34m\u001b[1mtrain: \u001b[0m/content/custom_dataset_yolo/train/images/Phone_61.jpg: ignoring corrupt image/label: cannot identify image file '/content/custom_dataset_yolo/train/images/Phone_61.jpg'\n",
            "\u001b[34m\u001b[1mtrain: \u001b[0m/content/custom_dataset_yolo/train/images/Phone_64.jpg: ignoring corrupt image/label: cannot identify image file '/content/custom_dataset_yolo/train/images/Phone_64.jpg'\n",
            "\u001b[34m\u001b[1mtrain: \u001b[0m/content/custom_dataset_yolo/train/images/Phone_66.jpg: ignoring corrupt image/label: cannot identify image file '/content/custom_dataset_yolo/train/images/Phone_66.jpg'\n",
            "\u001b[34m\u001b[1mtrain: \u001b[0m/content/custom_dataset_yolo/train/images/Phone_7.jpg: ignoring corrupt image/label: cannot identify image file '/content/custom_dataset_yolo/train/images/Phone_7.jpg'\n",
            "\u001b[34m\u001b[1mtrain: \u001b[0m/content/custom_dataset_yolo/train/images/Phone_71.jpg: ignoring corrupt image/label: cannot identify image file '/content/custom_dataset_yolo/train/images/Phone_71.jpg'\n",
            "\u001b[34m\u001b[1mtrain: \u001b[0m/content/custom_dataset_yolo/train/images/Phone_73.jpg: ignoring corrupt image/label: cannot identify image file '/content/custom_dataset_yolo/train/images/Phone_73.jpg'\n",
            "\u001b[34m\u001b[1mtrain: \u001b[0m/content/custom_dataset_yolo/train/images/Phone_78.jpg: ignoring corrupt image/label: cannot identify image file '/content/custom_dataset_yolo/train/images/Phone_78.jpg'\n",
            "\u001b[34m\u001b[1mtrain: \u001b[0m/content/custom_dataset_yolo/train/images/Phone_79.jpg: ignoring corrupt image/label: cannot identify image file '/content/custom_dataset_yolo/train/images/Phone_79.jpg'\n",
            "\u001b[34m\u001b[1mtrain: \u001b[0m/content/custom_dataset_yolo/train/images/Phone_93.jpg: ignoring corrupt image/label: cannot identify image file '/content/custom_dataset_yolo/train/images/Phone_93.jpg'\n",
            "\u001b[34m\u001b[1mtrain: \u001b[0m/content/custom_dataset_yolo/train/images/Phone_95.jpg: ignoring corrupt image/label: cannot identify image file '/content/custom_dataset_yolo/train/images/Phone_95.jpg'\n",
            "\u001b[34m\u001b[1mtrain: \u001b[0m/content/custom_dataset_yolo/train/images/Phone_96.jpg: ignoring corrupt image/label: cannot identify image file '/content/custom_dataset_yolo/train/images/Phone_96.jpg'\n",
            "\u001b[34m\u001b[1mtrain: \u001b[0m/content/custom_dataset_yolo/train/images/Table_111.jpg: ignoring corrupt image/label: cannot identify image file '/content/custom_dataset_yolo/train/images/Table_111.jpg'\n",
            "\u001b[34m\u001b[1mtrain: \u001b[0m/content/custom_dataset_yolo/train/images/Table_121.jpg: ignoring corrupt image/label: cannot identify image file '/content/custom_dataset_yolo/train/images/Table_121.jpg'\n",
            "\u001b[34m\u001b[1mtrain: \u001b[0m/content/custom_dataset_yolo/train/images/Table_124.jpg: ignoring corrupt image/label: cannot identify image file '/content/custom_dataset_yolo/train/images/Table_124.jpg'\n",
            "\u001b[34m\u001b[1mtrain: \u001b[0m/content/custom_dataset_yolo/train/images/Table_139.jpg: ignoring corrupt image/label: cannot identify image file '/content/custom_dataset_yolo/train/images/Table_139.jpg'\n",
            "\u001b[34m\u001b[1mtrain: \u001b[0m/content/custom_dataset_yolo/train/images/Table_149.jpg: ignoring corrupt image/label: cannot identify image file '/content/custom_dataset_yolo/train/images/Table_149.jpg'\n",
            "\u001b[34m\u001b[1mtrain: \u001b[0m/content/custom_dataset_yolo/train/images/Table_172.jpg: ignoring corrupt image/label: cannot identify image file '/content/custom_dataset_yolo/train/images/Table_172.jpg'\n",
            "\u001b[34m\u001b[1mtrain: \u001b[0m/content/custom_dataset_yolo/train/images/Table_183.jpg: ignoring corrupt image/label: cannot identify image file '/content/custom_dataset_yolo/train/images/Table_183.jpg'\n",
            "\u001b[34m\u001b[1mtrain: \u001b[0m/content/custom_dataset_yolo/train/images/Table_19.jpg: ignoring corrupt image/label: cannot identify image file '/content/custom_dataset_yolo/train/images/Table_19.jpg'\n",
            "\u001b[34m\u001b[1mtrain: \u001b[0m/content/custom_dataset_yolo/train/images/Table_2.jpg: ignoring corrupt image/label: cannot identify image file '/content/custom_dataset_yolo/train/images/Table_2.jpg'\n",
            "\u001b[34m\u001b[1mtrain: \u001b[0m/content/custom_dataset_yolo/train/images/Table_21.jpg: ignoring corrupt image/label: cannot identify image file '/content/custom_dataset_yolo/train/images/Table_21.jpg'\n",
            "\u001b[34m\u001b[1mtrain: \u001b[0m/content/custom_dataset_yolo/train/images/Table_54.jpg: ignoring corrupt image/label: cannot identify image file '/content/custom_dataset_yolo/train/images/Table_54.jpg'\n",
            "\u001b[34m\u001b[1mtrain: \u001b[0m/content/custom_dataset_yolo/train/images/Table_89.jpg: ignoring corrupt image/label: cannot identify image file '/content/custom_dataset_yolo/train/images/Table_89.jpg'\n",
            "\u001b[34m\u001b[1mtrain: \u001b[0m/content/custom_dataset_yolo/train/images/Watch_105.jpg: ignoring corrupt image/label: cannot identify image file '/content/custom_dataset_yolo/train/images/Watch_105.jpg'\n",
            "\u001b[34m\u001b[1mtrain: \u001b[0m/content/custom_dataset_yolo/train/images/Watch_110.jpg: ignoring corrupt image/label: cannot identify image file '/content/custom_dataset_yolo/train/images/Watch_110.jpg'\n",
            "\u001b[34m\u001b[1mtrain: \u001b[0m/content/custom_dataset_yolo/train/images/Watch_12.jpg: ignoring corrupt image/label: cannot identify image file '/content/custom_dataset_yolo/train/images/Watch_12.jpg'\n",
            "\u001b[34m\u001b[1mtrain: \u001b[0m/content/custom_dataset_yolo/train/images/Watch_14.jpg: ignoring corrupt image/label: cannot identify image file '/content/custom_dataset_yolo/train/images/Watch_14.jpg'\n",
            "\u001b[34m\u001b[1mtrain: \u001b[0m/content/custom_dataset_yolo/train/images/Watch_165.jpg: ignoring corrupt image/label: cannot identify image file '/content/custom_dataset_yolo/train/images/Watch_165.jpg'\n",
            "\u001b[34m\u001b[1mtrain: \u001b[0m/content/custom_dataset_yolo/train/images/Watch_17.jpg: ignoring corrupt image/label: cannot identify image file '/content/custom_dataset_yolo/train/images/Watch_17.jpg'\n",
            "\u001b[34m\u001b[1mtrain: \u001b[0m/content/custom_dataset_yolo/train/images/Watch_174.jpg: ignoring corrupt image/label: cannot identify image file '/content/custom_dataset_yolo/train/images/Watch_174.jpg'\n",
            "\u001b[34m\u001b[1mtrain: \u001b[0m/content/custom_dataset_yolo/train/images/Watch_187.jpg: ignoring corrupt image/label: cannot identify image file '/content/custom_dataset_yolo/train/images/Watch_187.jpg'\n",
            "\u001b[34m\u001b[1mtrain: \u001b[0m/content/custom_dataset_yolo/train/images/Watch_2.jpg: ignoring corrupt image/label: cannot identify image file '/content/custom_dataset_yolo/train/images/Watch_2.jpg'\n",
            "\u001b[34m\u001b[1mtrain: \u001b[0m/content/custom_dataset_yolo/train/images/Watch_25.jpg: ignoring corrupt image/label: cannot identify image file '/content/custom_dataset_yolo/train/images/Watch_25.jpg'\n",
            "\u001b[34m\u001b[1mtrain: \u001b[0m/content/custom_dataset_yolo/train/images/Watch_4.jpg: ignoring corrupt image/label: cannot identify image file '/content/custom_dataset_yolo/train/images/Watch_4.jpg'\n",
            "\u001b[34m\u001b[1mtrain: \u001b[0m/content/custom_dataset_yolo/train/images/Watch_5.jpg: ignoring corrupt image/label: cannot identify image file '/content/custom_dataset_yolo/train/images/Watch_5.jpg'\n",
            "\u001b[34m\u001b[1mtrain: \u001b[0m/content/custom_dataset_yolo/train/images/Watch_75.jpg: ignoring corrupt image/label: cannot identify image file '/content/custom_dataset_yolo/train/images/Watch_75.jpg'\n",
            "\u001b[34m\u001b[1mtrain: \u001b[0m/content/custom_dataset_yolo/train/images/Watch_78.jpg: ignoring corrupt image/label: cannot identify image file '/content/custom_dataset_yolo/train/images/Watch_78.jpg'\n",
            "\u001b[34m\u001b[1mtrain: \u001b[0m/content/custom_dataset_yolo/train/images/Watch_93.jpg: ignoring corrupt image/label: cannot identify image file '/content/custom_dataset_yolo/train/images/Watch_93.jpg'\n",
            "\u001b[34m\u001b[1malbumentations: \u001b[0mBlur(p=0.01, blur_limit=(3, 7)), MedianBlur(p=0.01, blur_limit=(3, 7)), ToGray(p=0.01, method='weighted_average', num_output_channels=3), CLAHE(p=0.01, clip_limit=(1.0, 4.0), tile_grid_size=(8, 8))\n"
          ]
        },
        {
          "output_type": "stream",
          "name": "stderr",
          "text": [
            "\n"
          ]
        },
        {
          "output_type": "stream",
          "name": "stdout",
          "text": [
            "\u001b[34m\u001b[1mval: \u001b[0mFast image access ✅ (ping: 0.0±0.0 ms, read: 322.1±255.0 MB/s, size: 122.6 KB)\n"
          ]
        },
        {
          "output_type": "stream",
          "name": "stderr",
          "text": [
            "\u001b[34m\u001b[1mval: \u001b[0mScanning /content/custom_dataset_yolo/valid/labels.cache... 299 images, 0 backgrounds, 58 corrupt: 100%|██████████| 357/357 [00:00<?, ?it/s]"
          ]
        },
        {
          "output_type": "stream",
          "name": "stdout",
          "text": [
            "\u001b[34m\u001b[1mval: \u001b[0m/content/custom_dataset_yolo/valid/images/Book_49.jpg: ignoring corrupt image/label: cannot identify image file '/content/custom_dataset_yolo/valid/images/Book_49.jpg'\n",
            "\u001b[34m\u001b[1mval: \u001b[0m/content/custom_dataset_yolo/valid/images/Book_59.jpg: ignoring corrupt image/label: cannot identify image file '/content/custom_dataset_yolo/valid/images/Book_59.jpg'\n",
            "\u001b[34m\u001b[1mval: \u001b[0m/content/custom_dataset_yolo/valid/images/Book_99.jpg: ignoring corrupt image/label: cannot identify image file '/content/custom_dataset_yolo/valid/images/Book_99.jpg'\n",
            "\u001b[34m\u001b[1mval: \u001b[0m/content/custom_dataset_yolo/valid/images/Bottle_0.jpg: ignoring corrupt image/label: cannot identify image file '/content/custom_dataset_yolo/valid/images/Bottle_0.jpg'\n",
            "\u001b[34m\u001b[1mval: \u001b[0m/content/custom_dataset_yolo/valid/images/Bottle_12.jpg: ignoring corrupt image/label: cannot identify image file '/content/custom_dataset_yolo/valid/images/Bottle_12.jpg'\n",
            "\u001b[34m\u001b[1mval: \u001b[0m/content/custom_dataset_yolo/valid/images/Bottle_140.jpg: ignoring corrupt image/label: cannot identify image file '/content/custom_dataset_yolo/valid/images/Bottle_140.jpg'\n",
            "\u001b[34m\u001b[1mval: \u001b[0m/content/custom_dataset_yolo/valid/images/Bottle_148.jpg: ignoring corrupt image/label: cannot identify image file '/content/custom_dataset_yolo/valid/images/Bottle_148.jpg'\n",
            "\u001b[34m\u001b[1mval: \u001b[0m/content/custom_dataset_yolo/valid/images/Bottle_62.jpg: ignoring corrupt image/label: cannot identify image file '/content/custom_dataset_yolo/valid/images/Bottle_62.jpg'\n",
            "\u001b[34m\u001b[1mval: \u001b[0m/content/custom_dataset_yolo/valid/images/Bottle_87.jpg: corrupt JPEG restored and saved\n",
            "\u001b[34m\u001b[1mval: \u001b[0m/content/custom_dataset_yolo/valid/images/Chair_169.jpg: ignoring corrupt image/label: cannot identify image file '/content/custom_dataset_yolo/valid/images/Chair_169.jpg'\n",
            "\u001b[34m\u001b[1mval: \u001b[0m/content/custom_dataset_yolo/valid/images/Chair_51.jpg: ignoring corrupt image/label: cannot identify image file '/content/custom_dataset_yolo/valid/images/Chair_51.jpg'\n",
            "\u001b[34m\u001b[1mval: \u001b[0m/content/custom_dataset_yolo/valid/images/Keyboard_1.jpg: ignoring corrupt image/label: cannot identify image file '/content/custom_dataset_yolo/valid/images/Keyboard_1.jpg'\n",
            "\u001b[34m\u001b[1mval: \u001b[0m/content/custom_dataset_yolo/valid/images/Keyboard_110.jpg: ignoring corrupt image/label: cannot identify image file '/content/custom_dataset_yolo/valid/images/Keyboard_110.jpg'\n",
            "\u001b[34m\u001b[1mval: \u001b[0m/content/custom_dataset_yolo/valid/images/Keyboard_116.jpg: ignoring corrupt image/label: cannot identify image file '/content/custom_dataset_yolo/valid/images/Keyboard_116.jpg'\n",
            "\u001b[34m\u001b[1mval: \u001b[0m/content/custom_dataset_yolo/valid/images/Keyboard_37.jpg: ignoring corrupt image/label: cannot identify image file '/content/custom_dataset_yolo/valid/images/Keyboard_37.jpg'\n",
            "\u001b[34m\u001b[1mval: \u001b[0m/content/custom_dataset_yolo/valid/images/Keyboard_61.jpg: ignoring corrupt image/label: cannot identify image file '/content/custom_dataset_yolo/valid/images/Keyboard_61.jpg'\n",
            "\u001b[34m\u001b[1mval: \u001b[0m/content/custom_dataset_yolo/valid/images/Laptop_0.jpg: ignoring corrupt image/label: cannot identify image file '/content/custom_dataset_yolo/valid/images/Laptop_0.jpg'\n",
            "\u001b[34m\u001b[1mval: \u001b[0m/content/custom_dataset_yolo/valid/images/Laptop_10.jpg: ignoring corrupt image/label: cannot identify image file '/content/custom_dataset_yolo/valid/images/Laptop_10.jpg'\n",
            "\u001b[34m\u001b[1mval: \u001b[0m/content/custom_dataset_yolo/valid/images/Laptop_102.jpg: ignoring corrupt image/label: cannot identify image file '/content/custom_dataset_yolo/valid/images/Laptop_102.jpg'\n",
            "\u001b[34m\u001b[1mval: \u001b[0m/content/custom_dataset_yolo/valid/images/Laptop_104.jpg: ignoring corrupt image/label: cannot identify image file '/content/custom_dataset_yolo/valid/images/Laptop_104.jpg'\n",
            "\u001b[34m\u001b[1mval: \u001b[0m/content/custom_dataset_yolo/valid/images/Laptop_115.jpg: ignoring corrupt image/label: cannot identify image file '/content/custom_dataset_yolo/valid/images/Laptop_115.jpg'\n",
            "\u001b[34m\u001b[1mval: \u001b[0m/content/custom_dataset_yolo/valid/images/Laptop_161.jpg: ignoring corrupt image/label: cannot identify image file '/content/custom_dataset_yolo/valid/images/Laptop_161.jpg'\n",
            "\u001b[34m\u001b[1mval: \u001b[0m/content/custom_dataset_yolo/valid/images/Laptop_169.jpg: ignoring corrupt image/label: cannot identify image file '/content/custom_dataset_yolo/valid/images/Laptop_169.jpg'\n",
            "\u001b[34m\u001b[1mval: \u001b[0m/content/custom_dataset_yolo/valid/images/Laptop_179.jpg: ignoring corrupt image/label: cannot identify image file '/content/custom_dataset_yolo/valid/images/Laptop_179.jpg'\n",
            "\u001b[34m\u001b[1mval: \u001b[0m/content/custom_dataset_yolo/valid/images/Laptop_184.jpg: ignoring corrupt image/label: cannot identify image file '/content/custom_dataset_yolo/valid/images/Laptop_184.jpg'\n",
            "\u001b[34m\u001b[1mval: \u001b[0m/content/custom_dataset_yolo/valid/images/Laptop_196.jpg: ignoring corrupt image/label: cannot identify image file '/content/custom_dataset_yolo/valid/images/Laptop_196.jpg'\n",
            "\u001b[34m\u001b[1mval: \u001b[0m/content/custom_dataset_yolo/valid/images/Laptop_199.jpg: ignoring corrupt image/label: cannot identify image file '/content/custom_dataset_yolo/valid/images/Laptop_199.jpg'\n",
            "\u001b[34m\u001b[1mval: \u001b[0m/content/custom_dataset_yolo/valid/images/Laptop_63.jpg: ignoring corrupt image/label: cannot identify image file '/content/custom_dataset_yolo/valid/images/Laptop_63.jpg'\n",
            "\u001b[34m\u001b[1mval: \u001b[0m/content/custom_dataset_yolo/valid/images/Mouse_164.jpg: ignoring corrupt image/label: cannot identify image file '/content/custom_dataset_yolo/valid/images/Mouse_164.jpg'\n",
            "\u001b[34m\u001b[1mval: \u001b[0m/content/custom_dataset_yolo/valid/images/Mouse_168.jpg: ignoring corrupt image/label: cannot identify image file '/content/custom_dataset_yolo/valid/images/Mouse_168.jpg'\n",
            "\u001b[34m\u001b[1mval: \u001b[0m/content/custom_dataset_yolo/valid/images/Mouse_178.jpg: ignoring corrupt image/label: cannot identify image file '/content/custom_dataset_yolo/valid/images/Mouse_178.jpg'\n",
            "\u001b[34m\u001b[1mval: \u001b[0m/content/custom_dataset_yolo/valid/images/Mouse_188.jpg: ignoring corrupt image/label: cannot identify image file '/content/custom_dataset_yolo/valid/images/Mouse_188.jpg'\n",
            "\u001b[34m\u001b[1mval: \u001b[0m/content/custom_dataset_yolo/valid/images/Mouse_32.jpg: ignoring corrupt image/label: cannot identify image file '/content/custom_dataset_yolo/valid/images/Mouse_32.jpg'\n",
            "\u001b[34m\u001b[1mval: \u001b[0m/content/custom_dataset_yolo/valid/images/Pen_114.jpg: ignoring corrupt image/label: cannot identify image file '/content/custom_dataset_yolo/valid/images/Pen_114.jpg'\n",
            "\u001b[34m\u001b[1mval: \u001b[0m/content/custom_dataset_yolo/valid/images/Pen_119.jpg: ignoring corrupt image/label: cannot identify image file '/content/custom_dataset_yolo/valid/images/Pen_119.jpg'\n",
            "\u001b[34m\u001b[1mval: \u001b[0m/content/custom_dataset_yolo/valid/images/Pen_123.jpg: ignoring corrupt image/label: cannot identify image file '/content/custom_dataset_yolo/valid/images/Pen_123.jpg'\n",
            "\u001b[34m\u001b[1mval: \u001b[0m/content/custom_dataset_yolo/valid/images/Pen_143.jpg: ignoring corrupt image/label: cannot identify image file '/content/custom_dataset_yolo/valid/images/Pen_143.jpg'\n",
            "\u001b[34m\u001b[1mval: \u001b[0m/content/custom_dataset_yolo/valid/images/Pen_177.jpg: ignoring corrupt image/label: cannot identify image file '/content/custom_dataset_yolo/valid/images/Pen_177.jpg'\n",
            "\u001b[34m\u001b[1mval: \u001b[0m/content/custom_dataset_yolo/valid/images/Pen_196.jpg: ignoring corrupt image/label: invalid image format GIF. Supported formats are:\n",
            "images: {'mpo', 'heic', 'jpeg', 'tiff', 'jpg', 'bmp', 'pfm', 'dng', 'tif', 'webp', 'png'}\n",
            "videos: {'avi', 'ts', 'wmv', 'gif', 'mov', 'asf', 'mp4', 'mpeg', 'webm', 'mkv', 'm4v', 'mpg'}\n",
            "\u001b[34m\u001b[1mval: \u001b[0m/content/custom_dataset_yolo/valid/images/Pen_24.jpg: ignoring corrupt image/label: cannot identify image file '/content/custom_dataset_yolo/valid/images/Pen_24.jpg'\n",
            "\u001b[34m\u001b[1mval: \u001b[0m/content/custom_dataset_yolo/valid/images/Pen_63.jpg: ignoring corrupt image/label: cannot identify image file '/content/custom_dataset_yolo/valid/images/Pen_63.jpg'\n",
            "\u001b[34m\u001b[1mval: \u001b[0m/content/custom_dataset_yolo/valid/images/Pen_69.jpg: ignoring corrupt image/label: cannot identify image file '/content/custom_dataset_yolo/valid/images/Pen_69.jpg'\n",
            "\u001b[34m\u001b[1mval: \u001b[0m/content/custom_dataset_yolo/valid/images/Pen_71.jpg: ignoring corrupt image/label: cannot identify image file '/content/custom_dataset_yolo/valid/images/Pen_71.jpg'\n",
            "\u001b[34m\u001b[1mval: \u001b[0m/content/custom_dataset_yolo/valid/images/Pen_77.jpg: ignoring corrupt image/label: cannot identify image file '/content/custom_dataset_yolo/valid/images/Pen_77.jpg'\n",
            "\u001b[34m\u001b[1mval: \u001b[0m/content/custom_dataset_yolo/valid/images/Pen_88.jpg: ignoring corrupt image/label: cannot identify image file '/content/custom_dataset_yolo/valid/images/Pen_88.jpg'\n",
            "\u001b[34m\u001b[1mval: \u001b[0m/content/custom_dataset_yolo/valid/images/Phone_118.jpg: ignoring corrupt image/label: cannot identify image file '/content/custom_dataset_yolo/valid/images/Phone_118.jpg'\n",
            "\u001b[34m\u001b[1mval: \u001b[0m/content/custom_dataset_yolo/valid/images/Phone_16.jpg: ignoring corrupt image/label: cannot identify image file '/content/custom_dataset_yolo/valid/images/Phone_16.jpg'\n",
            "\u001b[34m\u001b[1mval: \u001b[0m/content/custom_dataset_yolo/valid/images/Phone_195.jpg: ignoring corrupt image/label: cannot identify image file '/content/custom_dataset_yolo/valid/images/Phone_195.jpg'\n",
            "\u001b[34m\u001b[1mval: \u001b[0m/content/custom_dataset_yolo/valid/images/Phone_21.jpg: ignoring corrupt image/label: cannot identify image file '/content/custom_dataset_yolo/valid/images/Phone_21.jpg'\n",
            "\u001b[34m\u001b[1mval: \u001b[0m/content/custom_dataset_yolo/valid/images/Phone_28.jpg: ignoring corrupt image/label: cannot identify image file '/content/custom_dataset_yolo/valid/images/Phone_28.jpg'\n",
            "\u001b[34m\u001b[1mval: \u001b[0m/content/custom_dataset_yolo/valid/images/Phone_33.jpg: ignoring corrupt image/label: cannot identify image file '/content/custom_dataset_yolo/valid/images/Phone_33.jpg'\n",
            "\u001b[34m\u001b[1mval: \u001b[0m/content/custom_dataset_yolo/valid/images/Phone_57.jpg: ignoring corrupt image/label: cannot identify image file '/content/custom_dataset_yolo/valid/images/Phone_57.jpg'\n",
            "\u001b[34m\u001b[1mval: \u001b[0m/content/custom_dataset_yolo/valid/images/Phone_82.jpg: ignoring corrupt image/label: cannot identify image file '/content/custom_dataset_yolo/valid/images/Phone_82.jpg'\n",
            "\u001b[34m\u001b[1mval: \u001b[0m/content/custom_dataset_yolo/valid/images/Table_188.jpg: ignoring corrupt image/label: cannot identify image file '/content/custom_dataset_yolo/valid/images/Table_188.jpg'\n",
            "\u001b[34m\u001b[1mval: \u001b[0m/content/custom_dataset_yolo/valid/images/Table_34.jpg: ignoring corrupt image/label: cannot identify image file '/content/custom_dataset_yolo/valid/images/Table_34.jpg'\n",
            "\u001b[34m\u001b[1mval: \u001b[0m/content/custom_dataset_yolo/valid/images/Table_39.jpg: ignoring corrupt image/label: cannot identify image file '/content/custom_dataset_yolo/valid/images/Table_39.jpg'\n",
            "\u001b[34m\u001b[1mval: \u001b[0m/content/custom_dataset_yolo/valid/images/Watch_118.jpg: ignoring corrupt image/label: cannot identify image file '/content/custom_dataset_yolo/valid/images/Watch_118.jpg'\n",
            "\u001b[34m\u001b[1mval: \u001b[0m/content/custom_dataset_yolo/valid/images/Watch_21.jpg: ignoring corrupt image/label: cannot identify image file '/content/custom_dataset_yolo/valid/images/Watch_21.jpg'\n",
            "\u001b[34m\u001b[1mval: \u001b[0m/content/custom_dataset_yolo/valid/images/Watch_43.jpg: ignoring corrupt image/label: cannot identify image file '/content/custom_dataset_yolo/valid/images/Watch_43.jpg'\n"
          ]
        },
        {
          "output_type": "stream",
          "name": "stderr",
          "text": [
            "\n"
          ]
        },
        {
          "output_type": "stream",
          "name": "stdout",
          "text": [
            "Plotting labels to runs/train/custom_yolo_objects4/labels.jpg... \n",
            "\u001b[34m\u001b[1moptimizer:\u001b[0m 'optimizer=auto' found, ignoring 'lr0=0.01' and 'momentum=0.937' and determining best 'optimizer', 'lr0' and 'momentum' automatically... \n",
            "\u001b[34m\u001b[1moptimizer:\u001b[0m AdamW(lr=0.000714, momentum=0.9) with parameter groups 57 weight(decay=0.0), 64 weight(decay=0.0005), 63 bias(decay=0.0)\n",
            "Image sizes 640 train, 640 val\n",
            "Using 2 dataloader workers\n",
            "Logging results to \u001b[1mruns/train/custom_yolo_objects4\u001b[0m\n",
            "Starting training for 30 epochs...\n",
            "\n",
            "      Epoch    GPU_mem   box_loss   cls_loss   dfl_loss  Instances       Size\n"
          ]
        },
        {
          "output_type": "stream",
          "name": "stderr",
          "text": [
            "       1/30      2.23G     0.5703      3.277      1.269         14        640: 100%|██████████| 73/73 [00:43<00:00,  1.67it/s]\n",
            "                 Class     Images  Instances      Box(P          R      mAP50  mAP50-95): 100%|██████████| 10/10 [00:06<00:00,  1.44it/s]\n"
          ]
        },
        {
          "output_type": "stream",
          "name": "stdout",
          "text": [
            "                   all        299        299      0.822     0.0835      0.353      0.216\n",
            "\n",
            "      Epoch    GPU_mem   box_loss   cls_loss   dfl_loss  Instances       Size\n"
          ]
        },
        {
          "output_type": "stream",
          "name": "stderr",
          "text": [
            "       2/30      2.52G     0.3577      2.066      1.093         14        640: 100%|██████████| 73/73 [00:43<00:00,  1.69it/s]\n",
            "                 Class     Images  Instances      Box(P          R      mAP50  mAP50-95): 100%|██████████| 10/10 [00:07<00:00,  1.33it/s]"
          ]
        },
        {
          "output_type": "stream",
          "name": "stdout",
          "text": [
            "                   all        299        299      0.658      0.693      0.752      0.696\n"
          ]
        },
        {
          "output_type": "stream",
          "name": "stderr",
          "text": [
            "\n"
          ]
        },
        {
          "output_type": "stream",
          "name": "stdout",
          "text": [
            "\n",
            "      Epoch    GPU_mem   box_loss   cls_loss   dfl_loss  Instances       Size\n"
          ]
        },
        {
          "output_type": "stream",
          "name": "stderr",
          "text": [
            "       3/30      2.52G     0.3273      1.677      1.055         12        640: 100%|██████████| 73/73 [00:43<00:00,  1.68it/s]\n",
            "                 Class     Images  Instances      Box(P          R      mAP50  mAP50-95): 100%|██████████| 10/10 [00:07<00:00,  1.34it/s]"
          ]
        },
        {
          "output_type": "stream",
          "name": "stdout",
          "text": [
            "                   all        299        299      0.654      0.697      0.733      0.586\n"
          ]
        },
        {
          "output_type": "stream",
          "name": "stderr",
          "text": [
            "\n"
          ]
        },
        {
          "output_type": "stream",
          "name": "stdout",
          "text": [
            "\n",
            "      Epoch    GPU_mem   box_loss   cls_loss   dfl_loss  Instances       Size\n"
          ]
        },
        {
          "output_type": "stream",
          "name": "stderr",
          "text": [
            "       4/30      2.52G     0.3103      1.597      1.041         15        640: 100%|██████████| 73/73 [00:43<00:00,  1.68it/s]\n",
            "                 Class     Images  Instances      Box(P          R      mAP50  mAP50-95): 100%|██████████| 10/10 [00:07<00:00,  1.37it/s]"
          ]
        },
        {
          "output_type": "stream",
          "name": "stdout",
          "text": [
            "                   all        299        299      0.703      0.697      0.768      0.687\n"
          ]
        },
        {
          "output_type": "stream",
          "name": "stderr",
          "text": [
            "\n"
          ]
        },
        {
          "output_type": "stream",
          "name": "stdout",
          "text": [
            "\n",
            "      Epoch    GPU_mem   box_loss   cls_loss   dfl_loss  Instances       Size\n"
          ]
        },
        {
          "output_type": "stream",
          "name": "stderr",
          "text": [
            "       5/30      2.52G     0.3011      1.475      1.028         15        640: 100%|██████████| 73/73 [00:43<00:00,  1.68it/s]\n",
            "                 Class     Images  Instances      Box(P          R      mAP50  mAP50-95): 100%|██████████| 10/10 [00:07<00:00,  1.42it/s]"
          ]
        },
        {
          "output_type": "stream",
          "name": "stdout",
          "text": [
            "                   all        299        299      0.667       0.58      0.641      0.506\n"
          ]
        },
        {
          "output_type": "stream",
          "name": "stderr",
          "text": [
            "\n"
          ]
        },
        {
          "output_type": "stream",
          "name": "stdout",
          "text": [
            "\n",
            "      Epoch    GPU_mem   box_loss   cls_loss   dfl_loss  Instances       Size\n"
          ]
        },
        {
          "output_type": "stream",
          "name": "stderr",
          "text": [
            "       6/30      2.52G     0.2793      1.426      1.013         12        640: 100%|██████████| 73/73 [00:43<00:00,  1.69it/s]\n",
            "                 Class     Images  Instances      Box(P          R      mAP50  mAP50-95): 100%|██████████| 10/10 [00:06<00:00,  1.61it/s]"
          ]
        },
        {
          "output_type": "stream",
          "name": "stdout",
          "text": [
            "                   all        299        299      0.706      0.745      0.802      0.645\n"
          ]
        },
        {
          "output_type": "stream",
          "name": "stderr",
          "text": [
            "\n"
          ]
        },
        {
          "output_type": "stream",
          "name": "stdout",
          "text": [
            "\n",
            "      Epoch    GPU_mem   box_loss   cls_loss   dfl_loss  Instances       Size\n"
          ]
        },
        {
          "output_type": "stream",
          "name": "stderr",
          "text": [
            "       7/30      2.52G     0.2613      1.332      1.015         12        640: 100%|██████████| 73/73 [00:45<00:00,  1.62it/s]\n",
            "                 Class     Images  Instances      Box(P          R      mAP50  mAP50-95): 100%|██████████| 10/10 [00:05<00:00,  1.68it/s]"
          ]
        },
        {
          "output_type": "stream",
          "name": "stdout",
          "text": [
            "                   all        299        299      0.727      0.731       0.82      0.778\n"
          ]
        },
        {
          "output_type": "stream",
          "name": "stderr",
          "text": [
            "\n"
          ]
        },
        {
          "output_type": "stream",
          "name": "stdout",
          "text": [
            "\n",
            "      Epoch    GPU_mem   box_loss   cls_loss   dfl_loss  Instances       Size\n"
          ]
        },
        {
          "output_type": "stream",
          "name": "stderr",
          "text": [
            "       8/30      2.52G     0.2387      1.222     0.9808         14        640: 100%|██████████| 73/73 [00:43<00:00,  1.66it/s]\n",
            "                 Class     Images  Instances      Box(P          R      mAP50  mAP50-95): 100%|██████████| 10/10 [00:06<00:00,  1.55it/s]"
          ]
        },
        {
          "output_type": "stream",
          "name": "stdout",
          "text": [
            "                   all        299        299      0.758      0.765      0.826      0.784\n"
          ]
        },
        {
          "output_type": "stream",
          "name": "stderr",
          "text": [
            "\n"
          ]
        },
        {
          "output_type": "stream",
          "name": "stdout",
          "text": [
            "\n",
            "      Epoch    GPU_mem   box_loss   cls_loss   dfl_loss  Instances       Size\n"
          ]
        },
        {
          "output_type": "stream",
          "name": "stderr",
          "text": [
            "       9/30      2.52G     0.2293      1.157     0.9823         11        640: 100%|██████████| 73/73 [00:44<00:00,  1.62it/s]\n",
            "                 Class     Images  Instances      Box(P          R      mAP50  mAP50-95): 100%|██████████| 10/10 [00:05<00:00,  1.76it/s]"
          ]
        },
        {
          "output_type": "stream",
          "name": "stdout",
          "text": [
            "                   all        299        299      0.794      0.742      0.868      0.818\n"
          ]
        },
        {
          "output_type": "stream",
          "name": "stderr",
          "text": [
            "\n"
          ]
        },
        {
          "output_type": "stream",
          "name": "stdout",
          "text": [
            "\n",
            "      Epoch    GPU_mem   box_loss   cls_loss   dfl_loss  Instances       Size\n"
          ]
        },
        {
          "output_type": "stream",
          "name": "stderr",
          "text": [
            "      10/30      2.52G     0.2165      1.101     0.9683         14        640: 100%|██████████| 73/73 [00:44<00:00,  1.63it/s]\n",
            "                 Class     Images  Instances      Box(P          R      mAP50  mAP50-95): 100%|██████████| 10/10 [00:05<00:00,  1.69it/s]"
          ]
        },
        {
          "output_type": "stream",
          "name": "stdout",
          "text": [
            "                   all        299        299      0.864      0.799      0.903      0.852\n"
          ]
        },
        {
          "output_type": "stream",
          "name": "stderr",
          "text": [
            "\n"
          ]
        },
        {
          "output_type": "stream",
          "name": "stdout",
          "text": [
            "\n",
            "      Epoch    GPU_mem   box_loss   cls_loss   dfl_loss  Instances       Size\n"
          ]
        },
        {
          "output_type": "stream",
          "name": "stderr",
          "text": [
            "      11/30      2.52G     0.2205      1.057     0.9769          9        640: 100%|██████████| 73/73 [00:51<00:00,  1.41it/s]\n",
            "                 Class     Images  Instances      Box(P          R      mAP50  mAP50-95): 100%|██████████| 10/10 [00:10<00:00,  1.00s/it]"
          ]
        },
        {
          "output_type": "stream",
          "name": "stdout",
          "text": [
            "                   all        299        299      0.864      0.789      0.898      0.872\n"
          ]
        },
        {
          "output_type": "stream",
          "name": "stderr",
          "text": [
            "\n"
          ]
        },
        {
          "output_type": "stream",
          "name": "stdout",
          "text": [
            "\n",
            "      Epoch    GPU_mem   box_loss   cls_loss   dfl_loss  Instances       Size\n"
          ]
        },
        {
          "output_type": "stream",
          "name": "stderr",
          "text": [
            "      12/30      2.52G     0.2138       1.02     0.9808         15        640: 100%|██████████| 73/73 [00:53<00:00,  1.36it/s]\n",
            "                 Class     Images  Instances      Box(P          R      mAP50  mAP50-95): 100%|██████████| 10/10 [00:12<00:00,  1.22s/it]"
          ]
        },
        {
          "output_type": "stream",
          "name": "stdout",
          "text": [
            "                   all        299        299      0.854      0.782       0.88      0.846\n"
          ]
        },
        {
          "output_type": "stream",
          "name": "stderr",
          "text": [
            "\n"
          ]
        },
        {
          "output_type": "stream",
          "name": "stdout",
          "text": [
            "\n",
            "      Epoch    GPU_mem   box_loss   cls_loss   dfl_loss  Instances       Size\n"
          ]
        },
        {
          "output_type": "stream",
          "name": "stderr",
          "text": [
            "      13/30      2.52G      0.186     0.9592     0.9491         14        640: 100%|██████████| 73/73 [00:58<00:00,  1.25it/s]\n",
            "                 Class     Images  Instances      Box(P          R      mAP50  mAP50-95): 100%|██████████| 10/10 [00:10<00:00,  1.07s/it]\n"
          ]
        },
        {
          "output_type": "stream",
          "name": "stdout",
          "text": [
            "                   all        299        299      0.782      0.849      0.896      0.871\n",
            "\n",
            "      Epoch    GPU_mem   box_loss   cls_loss   dfl_loss  Instances       Size\n"
          ]
        },
        {
          "output_type": "stream",
          "name": "stderr",
          "text": [
            "      14/30      2.52G     0.1828     0.8978     0.9509         12        640: 100%|██████████| 73/73 [00:53<00:00,  1.37it/s]\n",
            "                 Class     Images  Instances      Box(P          R      mAP50  mAP50-95): 100%|██████████| 10/10 [00:08<00:00,  1.17it/s]"
          ]
        },
        {
          "output_type": "stream",
          "name": "stdout",
          "text": [
            "                   all        299        299       0.86      0.786      0.896      0.882\n"
          ]
        },
        {
          "output_type": "stream",
          "name": "stderr",
          "text": [
            "\n"
          ]
        },
        {
          "output_type": "stream",
          "name": "stdout",
          "text": [
            "\n",
            "      Epoch    GPU_mem   box_loss   cls_loss   dfl_loss  Instances       Size\n"
          ]
        },
        {
          "output_type": "stream",
          "name": "stderr",
          "text": [
            "      15/30      2.52G       0.18     0.8893     0.9505         12        640: 100%|██████████| 73/73 [00:44<00:00,  1.65it/s]\n",
            "                 Class     Images  Instances      Box(P          R      mAP50  mAP50-95): 100%|██████████| 10/10 [00:06<00:00,  1.48it/s]"
          ]
        },
        {
          "output_type": "stream",
          "name": "stdout",
          "text": [
            "                   all        299        299      0.858      0.843      0.917      0.891\n"
          ]
        },
        {
          "output_type": "stream",
          "name": "stderr",
          "text": [
            "\n"
          ]
        },
        {
          "output_type": "stream",
          "name": "stdout",
          "text": [
            "\n",
            "      Epoch    GPU_mem   box_loss   cls_loss   dfl_loss  Instances       Size\n"
          ]
        },
        {
          "output_type": "stream",
          "name": "stderr",
          "text": [
            "      16/30      2.52G     0.1699     0.8653     0.9469         12        640: 100%|██████████| 73/73 [00:47<00:00,  1.55it/s]\n",
            "                 Class     Images  Instances      Box(P          R      mAP50  mAP50-95): 100%|██████████| 10/10 [00:06<00:00,  1.44it/s]"
          ]
        },
        {
          "output_type": "stream",
          "name": "stdout",
          "text": [
            "                   all        299        299      0.905      0.838      0.909      0.882\n"
          ]
        },
        {
          "output_type": "stream",
          "name": "stderr",
          "text": [
            "\n"
          ]
        },
        {
          "output_type": "stream",
          "name": "stdout",
          "text": [
            "\n",
            "      Epoch    GPU_mem   box_loss   cls_loss   dfl_loss  Instances       Size\n"
          ]
        },
        {
          "output_type": "stream",
          "name": "stderr",
          "text": [
            "      17/30      2.52G     0.1775     0.8375     0.9439         14        640: 100%|██████████| 73/73 [00:44<00:00,  1.62it/s]\n",
            "                 Class     Images  Instances      Box(P          R      mAP50  mAP50-95): 100%|██████████| 10/10 [00:07<00:00,  1.41it/s]"
          ]
        },
        {
          "output_type": "stream",
          "name": "stdout",
          "text": [
            "                   all        299        299      0.865      0.816      0.879      0.837\n"
          ]
        },
        {
          "output_type": "stream",
          "name": "stderr",
          "text": [
            "\n"
          ]
        },
        {
          "output_type": "stream",
          "name": "stdout",
          "text": [
            "\n",
            "      Epoch    GPU_mem   box_loss   cls_loss   dfl_loss  Instances       Size\n"
          ]
        },
        {
          "output_type": "stream",
          "name": "stderr",
          "text": [
            "      18/30      2.52G     0.1702     0.8015     0.9466         10        640: 100%|██████████| 73/73 [00:47<00:00,  1.53it/s]\n",
            "                 Class     Images  Instances      Box(P          R      mAP50  mAP50-95): 100%|██████████| 10/10 [00:07<00:00,  1.37it/s]"
          ]
        },
        {
          "output_type": "stream",
          "name": "stdout",
          "text": [
            "                   all        299        299       0.82      0.859      0.906      0.883\n"
          ]
        },
        {
          "output_type": "stream",
          "name": "stderr",
          "text": [
            "\n"
          ]
        },
        {
          "output_type": "stream",
          "name": "stdout",
          "text": [
            "\n",
            "      Epoch    GPU_mem   box_loss   cls_loss   dfl_loss  Instances       Size\n"
          ]
        },
        {
          "output_type": "stream",
          "name": "stderr",
          "text": [
            "      19/30      2.52G     0.1543      0.773     0.9426         14        640: 100%|██████████| 73/73 [00:57<00:00,  1.28it/s]\n",
            "                 Class     Images  Instances      Box(P          R      mAP50  mAP50-95): 100%|██████████| 10/10 [00:13<00:00,  1.33s/it]\n"
          ]
        },
        {
          "output_type": "stream",
          "name": "stdout",
          "text": [
            "                   all        299        299      0.904      0.845      0.929      0.907\n",
            "\n",
            "      Epoch    GPU_mem   box_loss   cls_loss   dfl_loss  Instances       Size\n"
          ]
        },
        {
          "output_type": "stream",
          "name": "stderr",
          "text": [
            "      20/30      2.52G     0.1601     0.7662     0.9455         14        640: 100%|██████████| 73/73 [00:58<00:00,  1.24it/s]\n",
            "                 Class     Images  Instances      Box(P          R      mAP50  mAP50-95): 100%|██████████| 10/10 [00:06<00:00,  1.66it/s]"
          ]
        },
        {
          "output_type": "stream",
          "name": "stdout",
          "text": [
            "                   all        299        299      0.888      0.855      0.926      0.881\n"
          ]
        },
        {
          "output_type": "stream",
          "name": "stderr",
          "text": [
            "\n"
          ]
        },
        {
          "output_type": "stream",
          "name": "stdout",
          "text": [
            "Closing dataloader mosaic\n",
            "\u001b[34m\u001b[1malbumentations: \u001b[0mBlur(p=0.01, blur_limit=(3, 7)), MedianBlur(p=0.01, blur_limit=(3, 7)), ToGray(p=0.01, method='weighted_average', num_output_channels=3), CLAHE(p=0.01, clip_limit=(1.0, 4.0), tile_grid_size=(8, 8))\n",
            "\n",
            "      Epoch    GPU_mem   box_loss   cls_loss   dfl_loss  Instances       Size\n"
          ]
        },
        {
          "output_type": "stream",
          "name": "stderr",
          "text": [
            "      21/30      2.52G     0.1585     0.7939     0.9457          4        640: 100%|██████████| 73/73 [00:46<00:00,  1.57it/s]\n",
            "                 Class     Images  Instances      Box(P          R      mAP50  mAP50-95): 100%|██████████| 10/10 [00:05<00:00,  1.68it/s]"
          ]
        },
        {
          "output_type": "stream",
          "name": "stdout",
          "text": [
            "                   all        299        299      0.898      0.891      0.933      0.924\n"
          ]
        },
        {
          "output_type": "stream",
          "name": "stderr",
          "text": [
            "\n"
          ]
        },
        {
          "output_type": "stream",
          "name": "stdout",
          "text": [
            "\n",
            "      Epoch    GPU_mem   box_loss   cls_loss   dfl_loss  Instances       Size\n"
          ]
        },
        {
          "output_type": "stream",
          "name": "stderr",
          "text": [
            "      22/30      2.52G    0.09835     0.5738     0.8921          4        640: 100%|██████████| 73/73 [00:43<00:00,  1.70it/s]\n",
            "                 Class     Images  Instances      Box(P          R      mAP50  mAP50-95): 100%|██████████| 10/10 [00:05<00:00,  1.75it/s]"
          ]
        },
        {
          "output_type": "stream",
          "name": "stdout",
          "text": [
            "                   all        299        299      0.904      0.905      0.944      0.941\n"
          ]
        },
        {
          "output_type": "stream",
          "name": "stderr",
          "text": [
            "\n"
          ]
        },
        {
          "output_type": "stream",
          "name": "stdout",
          "text": [
            "\n",
            "      Epoch    GPU_mem   box_loss   cls_loss   dfl_loss  Instances       Size\n"
          ]
        },
        {
          "output_type": "stream",
          "name": "stderr",
          "text": [
            "      23/30      2.52G    0.08515     0.4819     0.8836          4        640: 100%|██████████| 73/73 [00:43<00:00,  1.68it/s]\n",
            "                 Class     Images  Instances      Box(P          R      mAP50  mAP50-95): 100%|██████████| 10/10 [00:05<00:00,  1.82it/s]"
          ]
        },
        {
          "output_type": "stream",
          "name": "stdout",
          "text": [
            "                   all        299        299      0.907      0.875      0.933      0.931\n"
          ]
        },
        {
          "output_type": "stream",
          "name": "stderr",
          "text": [
            "\n"
          ]
        },
        {
          "output_type": "stream",
          "name": "stdout",
          "text": [
            "\n",
            "      Epoch    GPU_mem   box_loss   cls_loss   dfl_loss  Instances       Size\n"
          ]
        },
        {
          "output_type": "stream",
          "name": "stderr",
          "text": [
            "      24/30      2.52G    0.07738     0.4625      0.891          4        640: 100%|██████████| 73/73 [00:42<00:00,  1.73it/s]\n",
            "                 Class     Images  Instances      Box(P          R      mAP50  mAP50-95): 100%|██████████| 10/10 [00:07<00:00,  1.42it/s]"
          ]
        },
        {
          "output_type": "stream",
          "name": "stdout",
          "text": [
            "                   all        299        299      0.926      0.865      0.948      0.947\n"
          ]
        },
        {
          "output_type": "stream",
          "name": "stderr",
          "text": [
            "\n"
          ]
        },
        {
          "output_type": "stream",
          "name": "stdout",
          "text": [
            "\n",
            "      Epoch    GPU_mem   box_loss   cls_loss   dfl_loss  Instances       Size\n"
          ]
        },
        {
          "output_type": "stream",
          "name": "stderr",
          "text": [
            "      25/30      2.52G    0.07484     0.4368     0.8809          4        640: 100%|██████████| 73/73 [00:42<00:00,  1.73it/s]\n",
            "                 Class     Images  Instances      Box(P          R      mAP50  mAP50-95): 100%|██████████| 10/10 [00:07<00:00,  1.33it/s]"
          ]
        },
        {
          "output_type": "stream",
          "name": "stdout",
          "text": [
            "                   all        299        299      0.932      0.848       0.94      0.938\n"
          ]
        },
        {
          "output_type": "stream",
          "name": "stderr",
          "text": [
            "\n"
          ]
        },
        {
          "output_type": "stream",
          "name": "stdout",
          "text": [
            "\n",
            "      Epoch    GPU_mem   box_loss   cls_loss   dfl_loss  Instances       Size\n"
          ]
        },
        {
          "output_type": "stream",
          "name": "stderr",
          "text": [
            "      26/30      2.52G    0.07187     0.3819     0.8798          4        640: 100%|██████████| 73/73 [00:42<00:00,  1.74it/s]\n",
            "                 Class     Images  Instances      Box(P          R      mAP50  mAP50-95): 100%|██████████| 10/10 [00:07<00:00,  1.38it/s]"
          ]
        },
        {
          "output_type": "stream",
          "name": "stdout",
          "text": [
            "                   all        299        299      0.917      0.869      0.939      0.938\n"
          ]
        },
        {
          "output_type": "stream",
          "name": "stderr",
          "text": [
            "\n"
          ]
        },
        {
          "output_type": "stream",
          "name": "stdout",
          "text": [
            "\n",
            "      Epoch    GPU_mem   box_loss   cls_loss   dfl_loss  Instances       Size\n"
          ]
        },
        {
          "output_type": "stream",
          "name": "stderr",
          "text": [
            "      27/30      2.52G    0.06711     0.3426     0.8818          4        640: 100%|██████████| 73/73 [00:42<00:00,  1.73it/s]\n",
            "                 Class     Images  Instances      Box(P          R      mAP50  mAP50-95): 100%|██████████| 10/10 [00:06<00:00,  1.60it/s]"
          ]
        },
        {
          "output_type": "stream",
          "name": "stdout",
          "text": [
            "                   all        299        299       0.94      0.878      0.943      0.942\n"
          ]
        },
        {
          "output_type": "stream",
          "name": "stderr",
          "text": [
            "\n"
          ]
        },
        {
          "output_type": "stream",
          "name": "stdout",
          "text": [
            "\n",
            "      Epoch    GPU_mem   box_loss   cls_loss   dfl_loss  Instances       Size\n"
          ]
        },
        {
          "output_type": "stream",
          "name": "stderr",
          "text": [
            "      28/30      2.52G    0.06348     0.3344     0.8749          4        640: 100%|██████████| 73/73 [00:43<00:00,  1.68it/s]\n",
            "                 Class     Images  Instances      Box(P          R      mAP50  mAP50-95): 100%|██████████| 10/10 [00:06<00:00,  1.63it/s]"
          ]
        },
        {
          "output_type": "stream",
          "name": "stdout",
          "text": [
            "                   all        299        299      0.909      0.916       0.95      0.949\n"
          ]
        },
        {
          "output_type": "stream",
          "name": "stderr",
          "text": [
            "\n"
          ]
        },
        {
          "output_type": "stream",
          "name": "stdout",
          "text": [
            "\n",
            "      Epoch    GPU_mem   box_loss   cls_loss   dfl_loss  Instances       Size\n"
          ]
        },
        {
          "output_type": "stream",
          "name": "stderr",
          "text": [
            "      29/30      2.52G    0.06045     0.3112     0.8798          4        640: 100%|██████████| 73/73 [00:43<00:00,  1.69it/s]\n",
            "                 Class     Images  Instances      Box(P          R      mAP50  mAP50-95): 100%|██████████| 10/10 [00:06<00:00,  1.66it/s]"
          ]
        },
        {
          "output_type": "stream",
          "name": "stdout",
          "text": [
            "                   all        299        299      0.939      0.879       0.95      0.949\n"
          ]
        },
        {
          "output_type": "stream",
          "name": "stderr",
          "text": [
            "\n"
          ]
        },
        {
          "output_type": "stream",
          "name": "stdout",
          "text": [
            "\n",
            "      Epoch    GPU_mem   box_loss   cls_loss   dfl_loss  Instances       Size\n"
          ]
        },
        {
          "output_type": "stream",
          "name": "stderr",
          "text": [
            "      30/30      2.52G    0.05793     0.2983     0.8701          4        640: 100%|██████████| 73/73 [00:43<00:00,  1.70it/s]\n",
            "                 Class     Images  Instances      Box(P          R      mAP50  mAP50-95): 100%|██████████| 10/10 [00:07<00:00,  1.32it/s]"
          ]
        },
        {
          "output_type": "stream",
          "name": "stdout",
          "text": [
            "                   all        299        299      0.943      0.884      0.949      0.949\n"
          ]
        },
        {
          "output_type": "stream",
          "name": "stderr",
          "text": [
            "\n"
          ]
        },
        {
          "output_type": "stream",
          "name": "stdout",
          "text": [
            "\n",
            "30 epochs completed in 0.456 hours.\n",
            "Optimizer stripped from runs/train/custom_yolo_objects4/weights/last.pt, 6.2MB\n",
            "Optimizer stripped from runs/train/custom_yolo_objects4/weights/best.pt, 6.2MB\n",
            "\n",
            "Validating runs/train/custom_yolo_objects4/weights/best.pt...\n",
            "Ultralytics 8.3.158 🚀 Python-3.11.13 torch-2.6.0+cu124 CUDA:0 (Tesla T4, 15095MiB)\n",
            "Model summary (fused): 72 layers, 3,007,598 parameters, 0 gradients, 8.1 GFLOPs\n"
          ]
        },
        {
          "output_type": "stream",
          "name": "stderr",
          "text": [
            "                 Class     Images  Instances      Box(P          R      mAP50  mAP50-95): 100%|██████████| 10/10 [00:08<00:00,  1.12it/s]\n"
          ]
        },
        {
          "output_type": "stream",
          "name": "stdout",
          "text": [
            "                   all        299        299      0.939      0.879       0.95      0.949\n",
            "                Laptop         17         17      0.789      0.882      0.915      0.915\n",
            "              Keyboard         29         29      0.995      0.793      0.919      0.919\n",
            "                 Mouse         29         29      0.944      0.931      0.987      0.987\n",
            "                 Phone         32         32      0.932      0.859      0.916      0.916\n",
            "                   Pen         24         24      0.946      0.735      0.868      0.868\n",
            "                 Chair         40         40      0.949      0.927      0.985      0.985\n",
            "                 Table         43         43      0.918      0.884      0.969      0.969\n",
            "                  Book         26         26      0.919      0.808      0.953      0.948\n",
            "                 Watch         31         31      0.996      0.968       0.99       0.99\n",
            "                Bottle         28         28      0.997          1      0.995      0.995\n",
            "Speed: 0.2ms preprocess, 2.5ms inference, 0.0ms loss, 3.5ms postprocess per image\n",
            "Results saved to \u001b[1mruns/train/custom_yolo_objects4\u001b[0m\n",
            "Ultralytics 8.3.158 🚀 Python-3.11.13 torch-2.6.0+cu124 CUDA:0 (Tesla T4, 15095MiB)\n",
            "Model summary (fused): 72 layers, 3,007,598 parameters, 0 gradients, 8.1 GFLOPs\n",
            "\u001b[34m\u001b[1mval: \u001b[0mFast image access ✅ (ping: 0.0±0.0 ms, read: 759.9±521.2 MB/s, size: 244.9 KB)\n"
          ]
        },
        {
          "output_type": "stream",
          "name": "stderr",
          "text": [
            "\u001b[34m\u001b[1mval: \u001b[0mScanning /content/custom_dataset_yolo/valid/labels.cache... 299 images, 0 backgrounds, 58 corrupt: 100%|██████████| 357/357 [00:00<?, ?it/s]"
          ]
        },
        {
          "output_type": "stream",
          "name": "stdout",
          "text": [
            "\u001b[34m\u001b[1mval: \u001b[0m/content/custom_dataset_yolo/valid/images/Book_49.jpg: ignoring corrupt image/label: cannot identify image file '/content/custom_dataset_yolo/valid/images/Book_49.jpg'\n",
            "\u001b[34m\u001b[1mval: \u001b[0m/content/custom_dataset_yolo/valid/images/Book_59.jpg: ignoring corrupt image/label: cannot identify image file '/content/custom_dataset_yolo/valid/images/Book_59.jpg'\n",
            "\u001b[34m\u001b[1mval: \u001b[0m/content/custom_dataset_yolo/valid/images/Book_99.jpg: ignoring corrupt image/label: cannot identify image file '/content/custom_dataset_yolo/valid/images/Book_99.jpg'\n",
            "\u001b[34m\u001b[1mval: \u001b[0m/content/custom_dataset_yolo/valid/images/Bottle_0.jpg: ignoring corrupt image/label: cannot identify image file '/content/custom_dataset_yolo/valid/images/Bottle_0.jpg'\n",
            "\u001b[34m\u001b[1mval: \u001b[0m/content/custom_dataset_yolo/valid/images/Bottle_12.jpg: ignoring corrupt image/label: cannot identify image file '/content/custom_dataset_yolo/valid/images/Bottle_12.jpg'\n",
            "\u001b[34m\u001b[1mval: \u001b[0m/content/custom_dataset_yolo/valid/images/Bottle_140.jpg: ignoring corrupt image/label: cannot identify image file '/content/custom_dataset_yolo/valid/images/Bottle_140.jpg'\n",
            "\u001b[34m\u001b[1mval: \u001b[0m/content/custom_dataset_yolo/valid/images/Bottle_148.jpg: ignoring corrupt image/label: cannot identify image file '/content/custom_dataset_yolo/valid/images/Bottle_148.jpg'\n",
            "\u001b[34m\u001b[1mval: \u001b[0m/content/custom_dataset_yolo/valid/images/Bottle_62.jpg: ignoring corrupt image/label: cannot identify image file '/content/custom_dataset_yolo/valid/images/Bottle_62.jpg'\n",
            "\u001b[34m\u001b[1mval: \u001b[0m/content/custom_dataset_yolo/valid/images/Bottle_87.jpg: corrupt JPEG restored and saved\n",
            "\u001b[34m\u001b[1mval: \u001b[0m/content/custom_dataset_yolo/valid/images/Chair_169.jpg: ignoring corrupt image/label: cannot identify image file '/content/custom_dataset_yolo/valid/images/Chair_169.jpg'\n",
            "\u001b[34m\u001b[1mval: \u001b[0m/content/custom_dataset_yolo/valid/images/Chair_51.jpg: ignoring corrupt image/label: cannot identify image file '/content/custom_dataset_yolo/valid/images/Chair_51.jpg'\n",
            "\u001b[34m\u001b[1mval: \u001b[0m/content/custom_dataset_yolo/valid/images/Keyboard_1.jpg: ignoring corrupt image/label: cannot identify image file '/content/custom_dataset_yolo/valid/images/Keyboard_1.jpg'\n",
            "\u001b[34m\u001b[1mval: \u001b[0m/content/custom_dataset_yolo/valid/images/Keyboard_110.jpg: ignoring corrupt image/label: cannot identify image file '/content/custom_dataset_yolo/valid/images/Keyboard_110.jpg'\n",
            "\u001b[34m\u001b[1mval: \u001b[0m/content/custom_dataset_yolo/valid/images/Keyboard_116.jpg: ignoring corrupt image/label: cannot identify image file '/content/custom_dataset_yolo/valid/images/Keyboard_116.jpg'\n",
            "\u001b[34m\u001b[1mval: \u001b[0m/content/custom_dataset_yolo/valid/images/Keyboard_37.jpg: ignoring corrupt image/label: cannot identify image file '/content/custom_dataset_yolo/valid/images/Keyboard_37.jpg'\n",
            "\u001b[34m\u001b[1mval: \u001b[0m/content/custom_dataset_yolo/valid/images/Keyboard_61.jpg: ignoring corrupt image/label: cannot identify image file '/content/custom_dataset_yolo/valid/images/Keyboard_61.jpg'\n",
            "\u001b[34m\u001b[1mval: \u001b[0m/content/custom_dataset_yolo/valid/images/Laptop_0.jpg: ignoring corrupt image/label: cannot identify image file '/content/custom_dataset_yolo/valid/images/Laptop_0.jpg'\n",
            "\u001b[34m\u001b[1mval: \u001b[0m/content/custom_dataset_yolo/valid/images/Laptop_10.jpg: ignoring corrupt image/label: cannot identify image file '/content/custom_dataset_yolo/valid/images/Laptop_10.jpg'\n",
            "\u001b[34m\u001b[1mval: \u001b[0m/content/custom_dataset_yolo/valid/images/Laptop_102.jpg: ignoring corrupt image/label: cannot identify image file '/content/custom_dataset_yolo/valid/images/Laptop_102.jpg'\n",
            "\u001b[34m\u001b[1mval: \u001b[0m/content/custom_dataset_yolo/valid/images/Laptop_104.jpg: ignoring corrupt image/label: cannot identify image file '/content/custom_dataset_yolo/valid/images/Laptop_104.jpg'\n",
            "\u001b[34m\u001b[1mval: \u001b[0m/content/custom_dataset_yolo/valid/images/Laptop_115.jpg: ignoring corrupt image/label: cannot identify image file '/content/custom_dataset_yolo/valid/images/Laptop_115.jpg'\n",
            "\u001b[34m\u001b[1mval: \u001b[0m/content/custom_dataset_yolo/valid/images/Laptop_161.jpg: ignoring corrupt image/label: cannot identify image file '/content/custom_dataset_yolo/valid/images/Laptop_161.jpg'\n",
            "\u001b[34m\u001b[1mval: \u001b[0m/content/custom_dataset_yolo/valid/images/Laptop_169.jpg: ignoring corrupt image/label: cannot identify image file '/content/custom_dataset_yolo/valid/images/Laptop_169.jpg'\n",
            "\u001b[34m\u001b[1mval: \u001b[0m/content/custom_dataset_yolo/valid/images/Laptop_179.jpg: ignoring corrupt image/label: cannot identify image file '/content/custom_dataset_yolo/valid/images/Laptop_179.jpg'\n",
            "\u001b[34m\u001b[1mval: \u001b[0m/content/custom_dataset_yolo/valid/images/Laptop_184.jpg: ignoring corrupt image/label: cannot identify image file '/content/custom_dataset_yolo/valid/images/Laptop_184.jpg'\n",
            "\u001b[34m\u001b[1mval: \u001b[0m/content/custom_dataset_yolo/valid/images/Laptop_196.jpg: ignoring corrupt image/label: cannot identify image file '/content/custom_dataset_yolo/valid/images/Laptop_196.jpg'\n",
            "\u001b[34m\u001b[1mval: \u001b[0m/content/custom_dataset_yolo/valid/images/Laptop_199.jpg: ignoring corrupt image/label: cannot identify image file '/content/custom_dataset_yolo/valid/images/Laptop_199.jpg'\n",
            "\u001b[34m\u001b[1mval: \u001b[0m/content/custom_dataset_yolo/valid/images/Laptop_63.jpg: ignoring corrupt image/label: cannot identify image file '/content/custom_dataset_yolo/valid/images/Laptop_63.jpg'\n",
            "\u001b[34m\u001b[1mval: \u001b[0m/content/custom_dataset_yolo/valid/images/Mouse_164.jpg: ignoring corrupt image/label: cannot identify image file '/content/custom_dataset_yolo/valid/images/Mouse_164.jpg'\n",
            "\u001b[34m\u001b[1mval: \u001b[0m/content/custom_dataset_yolo/valid/images/Mouse_168.jpg: ignoring corrupt image/label: cannot identify image file '/content/custom_dataset_yolo/valid/images/Mouse_168.jpg'\n",
            "\u001b[34m\u001b[1mval: \u001b[0m/content/custom_dataset_yolo/valid/images/Mouse_178.jpg: ignoring corrupt image/label: cannot identify image file '/content/custom_dataset_yolo/valid/images/Mouse_178.jpg'\n",
            "\u001b[34m\u001b[1mval: \u001b[0m/content/custom_dataset_yolo/valid/images/Mouse_188.jpg: ignoring corrupt image/label: cannot identify image file '/content/custom_dataset_yolo/valid/images/Mouse_188.jpg'\n",
            "\u001b[34m\u001b[1mval: \u001b[0m/content/custom_dataset_yolo/valid/images/Mouse_32.jpg: ignoring corrupt image/label: cannot identify image file '/content/custom_dataset_yolo/valid/images/Mouse_32.jpg'\n",
            "\u001b[34m\u001b[1mval: \u001b[0m/content/custom_dataset_yolo/valid/images/Pen_114.jpg: ignoring corrupt image/label: cannot identify image file '/content/custom_dataset_yolo/valid/images/Pen_114.jpg'\n",
            "\u001b[34m\u001b[1mval: \u001b[0m/content/custom_dataset_yolo/valid/images/Pen_119.jpg: ignoring corrupt image/label: cannot identify image file '/content/custom_dataset_yolo/valid/images/Pen_119.jpg'\n",
            "\u001b[34m\u001b[1mval: \u001b[0m/content/custom_dataset_yolo/valid/images/Pen_123.jpg: ignoring corrupt image/label: cannot identify image file '/content/custom_dataset_yolo/valid/images/Pen_123.jpg'\n",
            "\u001b[34m\u001b[1mval: \u001b[0m/content/custom_dataset_yolo/valid/images/Pen_143.jpg: ignoring corrupt image/label: cannot identify image file '/content/custom_dataset_yolo/valid/images/Pen_143.jpg'\n",
            "\u001b[34m\u001b[1mval: \u001b[0m/content/custom_dataset_yolo/valid/images/Pen_177.jpg: ignoring corrupt image/label: cannot identify image file '/content/custom_dataset_yolo/valid/images/Pen_177.jpg'\n",
            "\u001b[34m\u001b[1mval: \u001b[0m/content/custom_dataset_yolo/valid/images/Pen_196.jpg: ignoring corrupt image/label: invalid image format GIF. Supported formats are:\n",
            "images: {'mpo', 'heic', 'jpeg', 'tiff', 'jpg', 'bmp', 'pfm', 'dng', 'tif', 'webp', 'png'}\n",
            "videos: {'avi', 'ts', 'wmv', 'gif', 'mov', 'asf', 'mp4', 'mpeg', 'webm', 'mkv', 'm4v', 'mpg'}\n",
            "\u001b[34m\u001b[1mval: \u001b[0m/content/custom_dataset_yolo/valid/images/Pen_24.jpg: ignoring corrupt image/label: cannot identify image file '/content/custom_dataset_yolo/valid/images/Pen_24.jpg'\n",
            "\u001b[34m\u001b[1mval: \u001b[0m/content/custom_dataset_yolo/valid/images/Pen_63.jpg: ignoring corrupt image/label: cannot identify image file '/content/custom_dataset_yolo/valid/images/Pen_63.jpg'\n",
            "\u001b[34m\u001b[1mval: \u001b[0m/content/custom_dataset_yolo/valid/images/Pen_69.jpg: ignoring corrupt image/label: cannot identify image file '/content/custom_dataset_yolo/valid/images/Pen_69.jpg'\n",
            "\u001b[34m\u001b[1mval: \u001b[0m/content/custom_dataset_yolo/valid/images/Pen_71.jpg: ignoring corrupt image/label: cannot identify image file '/content/custom_dataset_yolo/valid/images/Pen_71.jpg'\n",
            "\u001b[34m\u001b[1mval: \u001b[0m/content/custom_dataset_yolo/valid/images/Pen_77.jpg: ignoring corrupt image/label: cannot identify image file '/content/custom_dataset_yolo/valid/images/Pen_77.jpg'\n",
            "\u001b[34m\u001b[1mval: \u001b[0m/content/custom_dataset_yolo/valid/images/Pen_88.jpg: ignoring corrupt image/label: cannot identify image file '/content/custom_dataset_yolo/valid/images/Pen_88.jpg'\n",
            "\u001b[34m\u001b[1mval: \u001b[0m/content/custom_dataset_yolo/valid/images/Phone_118.jpg: ignoring corrupt image/label: cannot identify image file '/content/custom_dataset_yolo/valid/images/Phone_118.jpg'\n",
            "\u001b[34m\u001b[1mval: \u001b[0m/content/custom_dataset_yolo/valid/images/Phone_16.jpg: ignoring corrupt image/label: cannot identify image file '/content/custom_dataset_yolo/valid/images/Phone_16.jpg'\n",
            "\u001b[34m\u001b[1mval: \u001b[0m/content/custom_dataset_yolo/valid/images/Phone_195.jpg: ignoring corrupt image/label: cannot identify image file '/content/custom_dataset_yolo/valid/images/Phone_195.jpg'\n",
            "\u001b[34m\u001b[1mval: \u001b[0m/content/custom_dataset_yolo/valid/images/Phone_21.jpg: ignoring corrupt image/label: cannot identify image file '/content/custom_dataset_yolo/valid/images/Phone_21.jpg'\n",
            "\u001b[34m\u001b[1mval: \u001b[0m/content/custom_dataset_yolo/valid/images/Phone_28.jpg: ignoring corrupt image/label: cannot identify image file '/content/custom_dataset_yolo/valid/images/Phone_28.jpg'\n",
            "\u001b[34m\u001b[1mval: \u001b[0m/content/custom_dataset_yolo/valid/images/Phone_33.jpg: ignoring corrupt image/label: cannot identify image file '/content/custom_dataset_yolo/valid/images/Phone_33.jpg'\n",
            "\u001b[34m\u001b[1mval: \u001b[0m/content/custom_dataset_yolo/valid/images/Phone_57.jpg: ignoring corrupt image/label: cannot identify image file '/content/custom_dataset_yolo/valid/images/Phone_57.jpg'\n",
            "\u001b[34m\u001b[1mval: \u001b[0m/content/custom_dataset_yolo/valid/images/Phone_82.jpg: ignoring corrupt image/label: cannot identify image file '/content/custom_dataset_yolo/valid/images/Phone_82.jpg'\n",
            "\u001b[34m\u001b[1mval: \u001b[0m/content/custom_dataset_yolo/valid/images/Table_188.jpg: ignoring corrupt image/label: cannot identify image file '/content/custom_dataset_yolo/valid/images/Table_188.jpg'\n",
            "\u001b[34m\u001b[1mval: \u001b[0m/content/custom_dataset_yolo/valid/images/Table_34.jpg: ignoring corrupt image/label: cannot identify image file '/content/custom_dataset_yolo/valid/images/Table_34.jpg'\n",
            "\u001b[34m\u001b[1mval: \u001b[0m/content/custom_dataset_yolo/valid/images/Table_39.jpg: ignoring corrupt image/label: cannot identify image file '/content/custom_dataset_yolo/valid/images/Table_39.jpg'\n",
            "\u001b[34m\u001b[1mval: \u001b[0m/content/custom_dataset_yolo/valid/images/Watch_118.jpg: ignoring corrupt image/label: cannot identify image file '/content/custom_dataset_yolo/valid/images/Watch_118.jpg'\n",
            "\u001b[34m\u001b[1mval: \u001b[0m/content/custom_dataset_yolo/valid/images/Watch_21.jpg: ignoring corrupt image/label: cannot identify image file '/content/custom_dataset_yolo/valid/images/Watch_21.jpg'\n",
            "\u001b[34m\u001b[1mval: \u001b[0m/content/custom_dataset_yolo/valid/images/Watch_43.jpg: ignoring corrupt image/label: cannot identify image file '/content/custom_dataset_yolo/valid/images/Watch_43.jpg'\n"
          ]
        },
        {
          "output_type": "stream",
          "name": "stderr",
          "text": [
            "\n",
            "                 Class     Images  Instances      Box(P          R      mAP50  mAP50-95): 100%|██████████| 19/19 [00:09<00:00,  1.90it/s]\n"
          ]
        },
        {
          "output_type": "stream",
          "name": "stdout",
          "text": [
            "                   all        299        299      0.947      0.877       0.95       0.95\n",
            "                Laptop         17         17      0.866      0.882      0.911      0.911\n",
            "              Keyboard         29         29      0.995      0.793      0.921      0.921\n",
            "                 Mouse         29         29      0.943      0.931      0.989      0.989\n",
            "                 Phone         32         32      0.949      0.844      0.917      0.917\n",
            "                   Pen         24         24      0.946      0.737      0.871      0.871\n",
            "                 Chair         40         40      0.949      0.928      0.984      0.984\n",
            "                 Table         43         43       0.92      0.884       0.97       0.97\n",
            "                  Book         26         26      0.917      0.808       0.95      0.945\n",
            "                 Watch         31         31      0.991      0.968      0.993      0.993\n",
            "                Bottle         28         28      0.997          1      0.995      0.995\n",
            "Speed: 0.6ms preprocess, 4.3ms inference, 0.0ms loss, 2.6ms postprocess per image\n",
            "Results saved to \u001b[1mruns/train/custom_yolo_objects42\u001b[0m\n",
            "📊 Metrics:\n",
            "ultralytics.utils.metrics.DetMetrics object with attributes:\n",
            "\n",
            "ap_class_index: array([0, 1, 2, 3, 4, 5, 6, 7, 8, 9])\n",
            "box: ultralytics.utils.metrics.Metric object\n",
            "confusion_matrix: <ultralytics.utils.metrics.ConfusionMatrix object at 0x7aca22f2b190>\n",
            "curves: ['Precision-Recall(B)', 'F1-Confidence(B)', 'Precision-Confidence(B)', 'Recall-Confidence(B)']\n",
            "curves_results: [[array([          0,    0.001001,    0.002002,    0.003003,    0.004004,    0.005005,    0.006006,    0.007007,    0.008008,    0.009009,     0.01001,    0.011011,    0.012012,    0.013013,    0.014014,    0.015015,    0.016016,    0.017017,    0.018018,    0.019019,     0.02002,    0.021021,    0.022022,    0.023023,\n",
            "          0.024024,    0.025025,    0.026026,    0.027027,    0.028028,    0.029029,     0.03003,    0.031031,    0.032032,    0.033033,    0.034034,    0.035035,    0.036036,    0.037037,    0.038038,    0.039039,     0.04004,    0.041041,    0.042042,    0.043043,    0.044044,    0.045045,    0.046046,    0.047047,\n",
            "          0.048048,    0.049049,     0.05005,    0.051051,    0.052052,    0.053053,    0.054054,    0.055055,    0.056056,    0.057057,    0.058058,    0.059059,     0.06006,    0.061061,    0.062062,    0.063063,    0.064064,    0.065065,    0.066066,    0.067067,    0.068068,    0.069069,     0.07007,    0.071071,\n",
            "          0.072072,    0.073073,    0.074074,    0.075075,    0.076076,    0.077077,    0.078078,    0.079079,     0.08008,    0.081081,    0.082082,    0.083083,    0.084084,    0.085085,    0.086086,    0.087087,    0.088088,    0.089089,     0.09009,    0.091091,    0.092092,    0.093093,    0.094094,    0.095095,\n",
            "          0.096096,    0.097097,    0.098098,    0.099099,      0.1001,      0.1011,      0.1021,      0.1031,      0.1041,     0.10511,     0.10611,     0.10711,     0.10811,     0.10911,     0.11011,     0.11111,     0.11211,     0.11311,     0.11411,     0.11512,     0.11612,     0.11712,     0.11812,     0.11912,\n",
            "           0.12012,     0.12112,     0.12212,     0.12312,     0.12412,     0.12513,     0.12613,     0.12713,     0.12813,     0.12913,     0.13013,     0.13113,     0.13213,     0.13313,     0.13413,     0.13514,     0.13614,     0.13714,     0.13814,     0.13914,     0.14014,     0.14114,     0.14214,     0.14314,\n",
            "           0.14414,     0.14515,     0.14615,     0.14715,     0.14815,     0.14915,     0.15015,     0.15115,     0.15215,     0.15315,     0.15415,     0.15516,     0.15616,     0.15716,     0.15816,     0.15916,     0.16016,     0.16116,     0.16216,     0.16316,     0.16416,     0.16517,     0.16617,     0.16717,\n",
            "           0.16817,     0.16917,     0.17017,     0.17117,     0.17217,     0.17317,     0.17417,     0.17518,     0.17618,     0.17718,     0.17818,     0.17918,     0.18018,     0.18118,     0.18218,     0.18318,     0.18418,     0.18519,     0.18619,     0.18719,     0.18819,     0.18919,     0.19019,     0.19119,\n",
            "           0.19219,     0.19319,     0.19419,      0.1952,      0.1962,      0.1972,      0.1982,      0.1992,      0.2002,      0.2012,      0.2022,      0.2032,      0.2042,     0.20521,     0.20621,     0.20721,     0.20821,     0.20921,     0.21021,     0.21121,     0.21221,     0.21321,     0.21421,     0.21522,\n",
            "           0.21622,     0.21722,     0.21822,     0.21922,     0.22022,     0.22122,     0.22222,     0.22322,     0.22422,     0.22523,     0.22623,     0.22723,     0.22823,     0.22923,     0.23023,     0.23123,     0.23223,     0.23323,     0.23423,     0.23524,     0.23624,     0.23724,     0.23824,     0.23924,\n",
            "           0.24024,     0.24124,     0.24224,     0.24324,     0.24424,     0.24525,     0.24625,     0.24725,     0.24825,     0.24925,     0.25025,     0.25125,     0.25225,     0.25325,     0.25425,     0.25526,     0.25626,     0.25726,     0.25826,     0.25926,     0.26026,     0.26126,     0.26226,     0.26326,\n",
            "           0.26426,     0.26527,     0.26627,     0.26727,     0.26827,     0.26927,     0.27027,     0.27127,     0.27227,     0.27327,     0.27427,     0.27528,     0.27628,     0.27728,     0.27828,     0.27928,     0.28028,     0.28128,     0.28228,     0.28328,     0.28428,     0.28529,     0.28629,     0.28729,\n",
            "           0.28829,     0.28929,     0.29029,     0.29129,     0.29229,     0.29329,     0.29429,      0.2953,      0.2963,      0.2973,      0.2983,      0.2993,      0.3003,      0.3013,      0.3023,      0.3033,      0.3043,     0.30531,     0.30631,     0.30731,     0.30831,     0.30931,     0.31031,     0.31131,\n",
            "           0.31231,     0.31331,     0.31431,     0.31532,     0.31632,     0.31732,     0.31832,     0.31932,     0.32032,     0.32132,     0.32232,     0.32332,     0.32432,     0.32533,     0.32633,     0.32733,     0.32833,     0.32933,     0.33033,     0.33133,     0.33233,     0.33333,     0.33433,     0.33534,\n",
            "           0.33634,     0.33734,     0.33834,     0.33934,     0.34034,     0.34134,     0.34234,     0.34334,     0.34434,     0.34535,     0.34635,     0.34735,     0.34835,     0.34935,     0.35035,     0.35135,     0.35235,     0.35335,     0.35435,     0.35536,     0.35636,     0.35736,     0.35836,     0.35936,\n",
            "           0.36036,     0.36136,     0.36236,     0.36336,     0.36436,     0.36537,     0.36637,     0.36737,     0.36837,     0.36937,     0.37037,     0.37137,     0.37237,     0.37337,     0.37437,     0.37538,     0.37638,     0.37738,     0.37838,     0.37938,     0.38038,     0.38138,     0.38238,     0.38338,\n",
            "           0.38438,     0.38539,     0.38639,     0.38739,     0.38839,     0.38939,     0.39039,     0.39139,     0.39239,     0.39339,     0.39439,      0.3954,      0.3964,      0.3974,      0.3984,      0.3994,      0.4004,      0.4014,      0.4024,      0.4034,      0.4044,     0.40541,     0.40641,     0.40741,\n",
            "           0.40841,     0.40941,     0.41041,     0.41141,     0.41241,     0.41341,     0.41441,     0.41542,     0.41642,     0.41742,     0.41842,     0.41942,     0.42042,     0.42142,     0.42242,     0.42342,     0.42442,     0.42543,     0.42643,     0.42743,     0.42843,     0.42943,     0.43043,     0.43143,\n",
            "           0.43243,     0.43343,     0.43443,     0.43544,     0.43644,     0.43744,     0.43844,     0.43944,     0.44044,     0.44144,     0.44244,     0.44344,     0.44444,     0.44545,     0.44645,     0.44745,     0.44845,     0.44945,     0.45045,     0.45145,     0.45245,     0.45345,     0.45445,     0.45546,\n",
            "           0.45646,     0.45746,     0.45846,     0.45946,     0.46046,     0.46146,     0.46246,     0.46346,     0.46446,     0.46547,     0.46647,     0.46747,     0.46847,     0.46947,     0.47047,     0.47147,     0.47247,     0.47347,     0.47447,     0.47548,     0.47648,     0.47748,     0.47848,     0.47948,\n",
            "           0.48048,     0.48148,     0.48248,     0.48348,     0.48448,     0.48549,     0.48649,     0.48749,     0.48849,     0.48949,     0.49049,     0.49149,     0.49249,     0.49349,     0.49449,      0.4955,      0.4965,      0.4975,      0.4985,      0.4995,      0.5005,      0.5015,      0.5025,      0.5035,\n",
            "            0.5045,     0.50551,     0.50651,     0.50751,     0.50851,     0.50951,     0.51051,     0.51151,     0.51251,     0.51351,     0.51451,     0.51552,     0.51652,     0.51752,     0.51852,     0.51952,     0.52052,     0.52152,     0.52252,     0.52352,     0.52452,     0.52553,     0.52653,     0.52753,\n",
            "           0.52853,     0.52953,     0.53053,     0.53153,     0.53253,     0.53353,     0.53453,     0.53554,     0.53654,     0.53754,     0.53854,     0.53954,     0.54054,     0.54154,     0.54254,     0.54354,     0.54454,     0.54555,     0.54655,     0.54755,     0.54855,     0.54955,     0.55055,     0.55155,\n",
            "           0.55255,     0.55355,     0.55455,     0.55556,     0.55656,     0.55756,     0.55856,     0.55956,     0.56056,     0.56156,     0.56256,     0.56356,     0.56456,     0.56557,     0.56657,     0.56757,     0.56857,     0.56957,     0.57057,     0.57157,     0.57257,     0.57357,     0.57457,     0.57558,\n",
            "           0.57658,     0.57758,     0.57858,     0.57958,     0.58058,     0.58158,     0.58258,     0.58358,     0.58458,     0.58559,     0.58659,     0.58759,     0.58859,     0.58959,     0.59059,     0.59159,     0.59259,     0.59359,     0.59459,      0.5956,      0.5966,      0.5976,      0.5986,      0.5996,\n",
            "            0.6006,      0.6016,      0.6026,      0.6036,      0.6046,     0.60561,     0.60661,     0.60761,     0.60861,     0.60961,     0.61061,     0.61161,     0.61261,     0.61361,     0.61461,     0.61562,     0.61662,     0.61762,     0.61862,     0.61962,     0.62062,     0.62162,     0.62262,     0.62362,\n",
            "           0.62462,     0.62563,     0.62663,     0.62763,     0.62863,     0.62963,     0.63063,     0.63163,     0.63263,     0.63363,     0.63463,     0.63564,     0.63664,     0.63764,     0.63864,     0.63964,     0.64064,     0.64164,     0.64264,     0.64364,     0.64464,     0.64565,     0.64665,     0.64765,\n",
            "           0.64865,     0.64965,     0.65065,     0.65165,     0.65265,     0.65365,     0.65465,     0.65566,     0.65666,     0.65766,     0.65866,     0.65966,     0.66066,     0.66166,     0.66266,     0.66366,     0.66466,     0.66567,     0.66667,     0.66767,     0.66867,     0.66967,     0.67067,     0.67167,\n",
            "           0.67267,     0.67367,     0.67467,     0.67568,     0.67668,     0.67768,     0.67868,     0.67968,     0.68068,     0.68168,     0.68268,     0.68368,     0.68468,     0.68569,     0.68669,     0.68769,     0.68869,     0.68969,     0.69069,     0.69169,     0.69269,     0.69369,     0.69469,      0.6957,\n",
            "            0.6967,      0.6977,      0.6987,      0.6997,      0.7007,      0.7017,      0.7027,      0.7037,      0.7047,     0.70571,     0.70671,     0.70771,     0.70871,     0.70971,     0.71071,     0.71171,     0.71271,     0.71371,     0.71471,     0.71572,     0.71672,     0.71772,     0.71872,     0.71972,\n",
            "           0.72072,     0.72172,     0.72272,     0.72372,     0.72472,     0.72573,     0.72673,     0.72773,     0.72873,     0.72973,     0.73073,     0.73173,     0.73273,     0.73373,     0.73473,     0.73574,     0.73674,     0.73774,     0.73874,     0.73974,     0.74074,     0.74174,     0.74274,     0.74374,\n",
            "           0.74474,     0.74575,     0.74675,     0.74775,     0.74875,     0.74975,     0.75075,     0.75175,     0.75275,     0.75375,     0.75475,     0.75576,     0.75676,     0.75776,     0.75876,     0.75976,     0.76076,     0.76176,     0.76276,     0.76376,     0.76476,     0.76577,     0.76677,     0.76777,\n",
            "           0.76877,     0.76977,     0.77077,     0.77177,     0.77277,     0.77377,     0.77477,     0.77578,     0.77678,     0.77778,     0.77878,     0.77978,     0.78078,     0.78178,     0.78278,     0.78378,     0.78478,     0.78579,     0.78679,     0.78779,     0.78879,     0.78979,     0.79079,     0.79179,\n",
            "           0.79279,     0.79379,     0.79479,      0.7958,      0.7968,      0.7978,      0.7988,      0.7998,      0.8008,      0.8018,      0.8028,      0.8038,      0.8048,     0.80581,     0.80681,     0.80781,     0.80881,     0.80981,     0.81081,     0.81181,     0.81281,     0.81381,     0.81481,     0.81582,\n",
            "           0.81682,     0.81782,     0.81882,     0.81982,     0.82082,     0.82182,     0.82282,     0.82382,     0.82482,     0.82583,     0.82683,     0.82783,     0.82883,     0.82983,     0.83083,     0.83183,     0.83283,     0.83383,     0.83483,     0.83584,     0.83684,     0.83784,     0.83884,     0.83984,\n",
            "           0.84084,     0.84184,     0.84284,     0.84384,     0.84484,     0.84585,     0.84685,     0.84785,     0.84885,     0.84985,     0.85085,     0.85185,     0.85285,     0.85385,     0.85485,     0.85586,     0.85686,     0.85786,     0.85886,     0.85986,     0.86086,     0.86186,     0.86286,     0.86386,\n",
            "           0.86486,     0.86587,     0.86687,     0.86787,     0.86887,     0.86987,     0.87087,     0.87187,     0.87287,     0.87387,     0.87487,     0.87588,     0.87688,     0.87788,     0.87888,     0.87988,     0.88088,     0.88188,     0.88288,     0.88388,     0.88488,     0.88589,     0.88689,     0.88789,\n",
            "           0.88889,     0.88989,     0.89089,     0.89189,     0.89289,     0.89389,     0.89489,      0.8959,      0.8969,      0.8979,      0.8989,      0.8999,      0.9009,      0.9019,      0.9029,      0.9039,      0.9049,     0.90591,     0.90691,     0.90791,     0.90891,     0.90991,     0.91091,     0.91191,\n",
            "           0.91291,     0.91391,     0.91491,     0.91592,     0.91692,     0.91792,     0.91892,     0.91992,     0.92092,     0.92192,     0.92292,     0.92392,     0.92492,     0.92593,     0.92693,     0.92793,     0.92893,     0.92993,     0.93093,     0.93193,     0.93293,     0.93393,     0.93493,     0.93594,\n",
            "           0.93694,     0.93794,     0.93894,     0.93994,     0.94094,     0.94194,     0.94294,     0.94394,     0.94494,     0.94595,     0.94695,     0.94795,     0.94895,     0.94995,     0.95095,     0.95195,     0.95295,     0.95395,     0.95495,     0.95596,     0.95696,     0.95796,     0.95896,     0.95996,\n",
            "           0.96096,     0.96196,     0.96296,     0.96396,     0.96496,     0.96597,     0.96697,     0.96797,     0.96897,     0.96997,     0.97097,     0.97197,     0.97297,     0.97397,     0.97497,     0.97598,     0.97698,     0.97798,     0.97898,     0.97998,     0.98098,     0.98198,     0.98298,     0.98398,\n",
            "           0.98498,     0.98599,     0.98699,     0.98799,     0.98899,     0.98999,     0.99099,     0.99199,     0.99299,     0.99399,     0.99499,       0.996,       0.997,       0.998,       0.999,           1]), array([[          1,           1,           1, ...,     0.37778,     0.37778,           0],\n",
            "       [          1,           1,           1, ...,     0.30851,     0.30851,           0],\n",
            "       [          1,           1,           1, ...,     0.90625,     0.90625,           0],\n",
            "       ...,\n",
            "       [          1,           1,           1, ...,     0.55319,     0.55319,           0],\n",
            "       [          1,           1,           1, ...,     0.93939,     0.93939,           0],\n",
            "       [          1,           1,           1, ...,           1,           1,           0]]), 'Recall', 'Precision'], [array([          0,    0.001001,    0.002002,    0.003003,    0.004004,    0.005005,    0.006006,    0.007007,    0.008008,    0.009009,     0.01001,    0.011011,    0.012012,    0.013013,    0.014014,    0.015015,    0.016016,    0.017017,    0.018018,    0.019019,     0.02002,    0.021021,    0.022022,    0.023023,\n",
            "          0.024024,    0.025025,    0.026026,    0.027027,    0.028028,    0.029029,     0.03003,    0.031031,    0.032032,    0.033033,    0.034034,    0.035035,    0.036036,    0.037037,    0.038038,    0.039039,     0.04004,    0.041041,    0.042042,    0.043043,    0.044044,    0.045045,    0.046046,    0.047047,\n",
            "          0.048048,    0.049049,     0.05005,    0.051051,    0.052052,    0.053053,    0.054054,    0.055055,    0.056056,    0.057057,    0.058058,    0.059059,     0.06006,    0.061061,    0.062062,    0.063063,    0.064064,    0.065065,    0.066066,    0.067067,    0.068068,    0.069069,     0.07007,    0.071071,\n",
            "          0.072072,    0.073073,    0.074074,    0.075075,    0.076076,    0.077077,    0.078078,    0.079079,     0.08008,    0.081081,    0.082082,    0.083083,    0.084084,    0.085085,    0.086086,    0.087087,    0.088088,    0.089089,     0.09009,    0.091091,    0.092092,    0.093093,    0.094094,    0.095095,\n",
            "          0.096096,    0.097097,    0.098098,    0.099099,      0.1001,      0.1011,      0.1021,      0.1031,      0.1041,     0.10511,     0.10611,     0.10711,     0.10811,     0.10911,     0.11011,     0.11111,     0.11211,     0.11311,     0.11411,     0.11512,     0.11612,     0.11712,     0.11812,     0.11912,\n",
            "           0.12012,     0.12112,     0.12212,     0.12312,     0.12412,     0.12513,     0.12613,     0.12713,     0.12813,     0.12913,     0.13013,     0.13113,     0.13213,     0.13313,     0.13413,     0.13514,     0.13614,     0.13714,     0.13814,     0.13914,     0.14014,     0.14114,     0.14214,     0.14314,\n",
            "           0.14414,     0.14515,     0.14615,     0.14715,     0.14815,     0.14915,     0.15015,     0.15115,     0.15215,     0.15315,     0.15415,     0.15516,     0.15616,     0.15716,     0.15816,     0.15916,     0.16016,     0.16116,     0.16216,     0.16316,     0.16416,     0.16517,     0.16617,     0.16717,\n",
            "           0.16817,     0.16917,     0.17017,     0.17117,     0.17217,     0.17317,     0.17417,     0.17518,     0.17618,     0.17718,     0.17818,     0.17918,     0.18018,     0.18118,     0.18218,     0.18318,     0.18418,     0.18519,     0.18619,     0.18719,     0.18819,     0.18919,     0.19019,     0.19119,\n",
            "           0.19219,     0.19319,     0.19419,      0.1952,      0.1962,      0.1972,      0.1982,      0.1992,      0.2002,      0.2012,      0.2022,      0.2032,      0.2042,     0.20521,     0.20621,     0.20721,     0.20821,     0.20921,     0.21021,     0.21121,     0.21221,     0.21321,     0.21421,     0.21522,\n",
            "           0.21622,     0.21722,     0.21822,     0.21922,     0.22022,     0.22122,     0.22222,     0.22322,     0.22422,     0.22523,     0.22623,     0.22723,     0.22823,     0.22923,     0.23023,     0.23123,     0.23223,     0.23323,     0.23423,     0.23524,     0.23624,     0.23724,     0.23824,     0.23924,\n",
            "           0.24024,     0.24124,     0.24224,     0.24324,     0.24424,     0.24525,     0.24625,     0.24725,     0.24825,     0.24925,     0.25025,     0.25125,     0.25225,     0.25325,     0.25425,     0.25526,     0.25626,     0.25726,     0.25826,     0.25926,     0.26026,     0.26126,     0.26226,     0.26326,\n",
            "           0.26426,     0.26527,     0.26627,     0.26727,     0.26827,     0.26927,     0.27027,     0.27127,     0.27227,     0.27327,     0.27427,     0.27528,     0.27628,     0.27728,     0.27828,     0.27928,     0.28028,     0.28128,     0.28228,     0.28328,     0.28428,     0.28529,     0.28629,     0.28729,\n",
            "           0.28829,     0.28929,     0.29029,     0.29129,     0.29229,     0.29329,     0.29429,      0.2953,      0.2963,      0.2973,      0.2983,      0.2993,      0.3003,      0.3013,      0.3023,      0.3033,      0.3043,     0.30531,     0.30631,     0.30731,     0.30831,     0.30931,     0.31031,     0.31131,\n",
            "           0.31231,     0.31331,     0.31431,     0.31532,     0.31632,     0.31732,     0.31832,     0.31932,     0.32032,     0.32132,     0.32232,     0.32332,     0.32432,     0.32533,     0.32633,     0.32733,     0.32833,     0.32933,     0.33033,     0.33133,     0.33233,     0.33333,     0.33433,     0.33534,\n",
            "           0.33634,     0.33734,     0.33834,     0.33934,     0.34034,     0.34134,     0.34234,     0.34334,     0.34434,     0.34535,     0.34635,     0.34735,     0.34835,     0.34935,     0.35035,     0.35135,     0.35235,     0.35335,     0.35435,     0.35536,     0.35636,     0.35736,     0.35836,     0.35936,\n",
            "           0.36036,     0.36136,     0.36236,     0.36336,     0.36436,     0.36537,     0.36637,     0.36737,     0.36837,     0.36937,     0.37037,     0.37137,     0.37237,     0.37337,     0.37437,     0.37538,     0.37638,     0.37738,     0.37838,     0.37938,     0.38038,     0.38138,     0.38238,     0.38338,\n",
            "           0.38438,     0.38539,     0.38639,     0.38739,     0.38839,     0.38939,     0.39039,     0.39139,     0.39239,     0.39339,     0.39439,      0.3954,      0.3964,      0.3974,      0.3984,      0.3994,      0.4004,      0.4014,      0.4024,      0.4034,      0.4044,     0.40541,     0.40641,     0.40741,\n",
            "           0.40841,     0.40941,     0.41041,     0.41141,     0.41241,     0.41341,     0.41441,     0.41542,     0.41642,     0.41742,     0.41842,     0.41942,     0.42042,     0.42142,     0.42242,     0.42342,     0.42442,     0.42543,     0.42643,     0.42743,     0.42843,     0.42943,     0.43043,     0.43143,\n",
            "           0.43243,     0.43343,     0.43443,     0.43544,     0.43644,     0.43744,     0.43844,     0.43944,     0.44044,     0.44144,     0.44244,     0.44344,     0.44444,     0.44545,     0.44645,     0.44745,     0.44845,     0.44945,     0.45045,     0.45145,     0.45245,     0.45345,     0.45445,     0.45546,\n",
            "           0.45646,     0.45746,     0.45846,     0.45946,     0.46046,     0.46146,     0.46246,     0.46346,     0.46446,     0.46547,     0.46647,     0.46747,     0.46847,     0.46947,     0.47047,     0.47147,     0.47247,     0.47347,     0.47447,     0.47548,     0.47648,     0.47748,     0.47848,     0.47948,\n",
            "           0.48048,     0.48148,     0.48248,     0.48348,     0.48448,     0.48549,     0.48649,     0.48749,     0.48849,     0.48949,     0.49049,     0.49149,     0.49249,     0.49349,     0.49449,      0.4955,      0.4965,      0.4975,      0.4985,      0.4995,      0.5005,      0.5015,      0.5025,      0.5035,\n",
            "            0.5045,     0.50551,     0.50651,     0.50751,     0.50851,     0.50951,     0.51051,     0.51151,     0.51251,     0.51351,     0.51451,     0.51552,     0.51652,     0.51752,     0.51852,     0.51952,     0.52052,     0.52152,     0.52252,     0.52352,     0.52452,     0.52553,     0.52653,     0.52753,\n",
            "           0.52853,     0.52953,     0.53053,     0.53153,     0.53253,     0.53353,     0.53453,     0.53554,     0.53654,     0.53754,     0.53854,     0.53954,     0.54054,     0.54154,     0.54254,     0.54354,     0.54454,     0.54555,     0.54655,     0.54755,     0.54855,     0.54955,     0.55055,     0.55155,\n",
            "           0.55255,     0.55355,     0.55455,     0.55556,     0.55656,     0.55756,     0.55856,     0.55956,     0.56056,     0.56156,     0.56256,     0.56356,     0.56456,     0.56557,     0.56657,     0.56757,     0.56857,     0.56957,     0.57057,     0.57157,     0.57257,     0.57357,     0.57457,     0.57558,\n",
            "           0.57658,     0.57758,     0.57858,     0.57958,     0.58058,     0.58158,     0.58258,     0.58358,     0.58458,     0.58559,     0.58659,     0.58759,     0.58859,     0.58959,     0.59059,     0.59159,     0.59259,     0.59359,     0.59459,      0.5956,      0.5966,      0.5976,      0.5986,      0.5996,\n",
            "            0.6006,      0.6016,      0.6026,      0.6036,      0.6046,     0.60561,     0.60661,     0.60761,     0.60861,     0.60961,     0.61061,     0.61161,     0.61261,     0.61361,     0.61461,     0.61562,     0.61662,     0.61762,     0.61862,     0.61962,     0.62062,     0.62162,     0.62262,     0.62362,\n",
            "           0.62462,     0.62563,     0.62663,     0.62763,     0.62863,     0.62963,     0.63063,     0.63163,     0.63263,     0.63363,     0.63463,     0.63564,     0.63664,     0.63764,     0.63864,     0.63964,     0.64064,     0.64164,     0.64264,     0.64364,     0.64464,     0.64565,     0.64665,     0.64765,\n",
            "           0.64865,     0.64965,     0.65065,     0.65165,     0.65265,     0.65365,     0.65465,     0.65566,     0.65666,     0.65766,     0.65866,     0.65966,     0.66066,     0.66166,     0.66266,     0.66366,     0.66466,     0.66567,     0.66667,     0.66767,     0.66867,     0.66967,     0.67067,     0.67167,\n",
            "           0.67267,     0.67367,     0.67467,     0.67568,     0.67668,     0.67768,     0.67868,     0.67968,     0.68068,     0.68168,     0.68268,     0.68368,     0.68468,     0.68569,     0.68669,     0.68769,     0.68869,     0.68969,     0.69069,     0.69169,     0.69269,     0.69369,     0.69469,      0.6957,\n",
            "            0.6967,      0.6977,      0.6987,      0.6997,      0.7007,      0.7017,      0.7027,      0.7037,      0.7047,     0.70571,     0.70671,     0.70771,     0.70871,     0.70971,     0.71071,     0.71171,     0.71271,     0.71371,     0.71471,     0.71572,     0.71672,     0.71772,     0.71872,     0.71972,\n",
            "           0.72072,     0.72172,     0.72272,     0.72372,     0.72472,     0.72573,     0.72673,     0.72773,     0.72873,     0.72973,     0.73073,     0.73173,     0.73273,     0.73373,     0.73473,     0.73574,     0.73674,     0.73774,     0.73874,     0.73974,     0.74074,     0.74174,     0.74274,     0.74374,\n",
            "           0.74474,     0.74575,     0.74675,     0.74775,     0.74875,     0.74975,     0.75075,     0.75175,     0.75275,     0.75375,     0.75475,     0.75576,     0.75676,     0.75776,     0.75876,     0.75976,     0.76076,     0.76176,     0.76276,     0.76376,     0.76476,     0.76577,     0.76677,     0.76777,\n",
            "           0.76877,     0.76977,     0.77077,     0.77177,     0.77277,     0.77377,     0.77477,     0.77578,     0.77678,     0.77778,     0.77878,     0.77978,     0.78078,     0.78178,     0.78278,     0.78378,     0.78478,     0.78579,     0.78679,     0.78779,     0.78879,     0.78979,     0.79079,     0.79179,\n",
            "           0.79279,     0.79379,     0.79479,      0.7958,      0.7968,      0.7978,      0.7988,      0.7998,      0.8008,      0.8018,      0.8028,      0.8038,      0.8048,     0.80581,     0.80681,     0.80781,     0.80881,     0.80981,     0.81081,     0.81181,     0.81281,     0.81381,     0.81481,     0.81582,\n",
            "           0.81682,     0.81782,     0.81882,     0.81982,     0.82082,     0.82182,     0.82282,     0.82382,     0.82482,     0.82583,     0.82683,     0.82783,     0.82883,     0.82983,     0.83083,     0.83183,     0.83283,     0.83383,     0.83483,     0.83584,     0.83684,     0.83784,     0.83884,     0.83984,\n",
            "           0.84084,     0.84184,     0.84284,     0.84384,     0.84484,     0.84585,     0.84685,     0.84785,     0.84885,     0.84985,     0.85085,     0.85185,     0.85285,     0.85385,     0.85485,     0.85586,     0.85686,     0.85786,     0.85886,     0.85986,     0.86086,     0.86186,     0.86286,     0.86386,\n",
            "           0.86486,     0.86587,     0.86687,     0.86787,     0.86887,     0.86987,     0.87087,     0.87187,     0.87287,     0.87387,     0.87487,     0.87588,     0.87688,     0.87788,     0.87888,     0.87988,     0.88088,     0.88188,     0.88288,     0.88388,     0.88488,     0.88589,     0.88689,     0.88789,\n",
            "           0.88889,     0.88989,     0.89089,     0.89189,     0.89289,     0.89389,     0.89489,      0.8959,      0.8969,      0.8979,      0.8989,      0.8999,      0.9009,      0.9019,      0.9029,      0.9039,      0.9049,     0.90591,     0.90691,     0.90791,     0.90891,     0.90991,     0.91091,     0.91191,\n",
            "           0.91291,     0.91391,     0.91491,     0.91592,     0.91692,     0.91792,     0.91892,     0.91992,     0.92092,     0.92192,     0.92292,     0.92392,     0.92492,     0.92593,     0.92693,     0.92793,     0.92893,     0.92993,     0.93093,     0.93193,     0.93293,     0.93393,     0.93493,     0.93594,\n",
            "           0.93694,     0.93794,     0.93894,     0.93994,     0.94094,     0.94194,     0.94294,     0.94394,     0.94494,     0.94595,     0.94695,     0.94795,     0.94895,     0.94995,     0.95095,     0.95195,     0.95295,     0.95395,     0.95495,     0.95596,     0.95696,     0.95796,     0.95896,     0.95996,\n",
            "           0.96096,     0.96196,     0.96296,     0.96396,     0.96496,     0.96597,     0.96697,     0.96797,     0.96897,     0.96997,     0.97097,     0.97197,     0.97297,     0.97397,     0.97497,     0.97598,     0.97698,     0.97798,     0.97898,     0.97998,     0.98098,     0.98198,     0.98298,     0.98398,\n",
            "           0.98498,     0.98599,     0.98699,     0.98799,     0.98899,     0.98999,     0.99099,     0.99199,     0.99299,     0.99399,     0.99499,       0.996,       0.997,       0.998,       0.999,           1]), array([[   0.097701,    0.098071,     0.21541, ...,     0.33109,     0.21586,           0],\n",
            "       [    0.11765,     0.11772,      0.2717, ...,     0.34272,     0.18867,           0],\n",
            "       [   0.059305,    0.059519,     0.35147, ...,     0.67572,      0.3669,           0],\n",
            "       ...,\n",
            "       [   0.074286,    0.074825,     0.25674, ...,     0.18917,    0.085999,           0],\n",
            "       [    0.12253,     0.12254,     0.28223, ...,     0.74421,     0.59628,           0],\n",
            "       [    0.12121,     0.12154,     0.32529, ...,     0.52467,     0.44553,           0]]), 'Confidence', 'F1'], [array([          0,    0.001001,    0.002002,    0.003003,    0.004004,    0.005005,    0.006006,    0.007007,    0.008008,    0.009009,     0.01001,    0.011011,    0.012012,    0.013013,    0.014014,    0.015015,    0.016016,    0.017017,    0.018018,    0.019019,     0.02002,    0.021021,    0.022022,    0.023023,\n",
            "          0.024024,    0.025025,    0.026026,    0.027027,    0.028028,    0.029029,     0.03003,    0.031031,    0.032032,    0.033033,    0.034034,    0.035035,    0.036036,    0.037037,    0.038038,    0.039039,     0.04004,    0.041041,    0.042042,    0.043043,    0.044044,    0.045045,    0.046046,    0.047047,\n",
            "          0.048048,    0.049049,     0.05005,    0.051051,    0.052052,    0.053053,    0.054054,    0.055055,    0.056056,    0.057057,    0.058058,    0.059059,     0.06006,    0.061061,    0.062062,    0.063063,    0.064064,    0.065065,    0.066066,    0.067067,    0.068068,    0.069069,     0.07007,    0.071071,\n",
            "          0.072072,    0.073073,    0.074074,    0.075075,    0.076076,    0.077077,    0.078078,    0.079079,     0.08008,    0.081081,    0.082082,    0.083083,    0.084084,    0.085085,    0.086086,    0.087087,    0.088088,    0.089089,     0.09009,    0.091091,    0.092092,    0.093093,    0.094094,    0.095095,\n",
            "          0.096096,    0.097097,    0.098098,    0.099099,      0.1001,      0.1011,      0.1021,      0.1031,      0.1041,     0.10511,     0.10611,     0.10711,     0.10811,     0.10911,     0.11011,     0.11111,     0.11211,     0.11311,     0.11411,     0.11512,     0.11612,     0.11712,     0.11812,     0.11912,\n",
            "           0.12012,     0.12112,     0.12212,     0.12312,     0.12412,     0.12513,     0.12613,     0.12713,     0.12813,     0.12913,     0.13013,     0.13113,     0.13213,     0.13313,     0.13413,     0.13514,     0.13614,     0.13714,     0.13814,     0.13914,     0.14014,     0.14114,     0.14214,     0.14314,\n",
            "           0.14414,     0.14515,     0.14615,     0.14715,     0.14815,     0.14915,     0.15015,     0.15115,     0.15215,     0.15315,     0.15415,     0.15516,     0.15616,     0.15716,     0.15816,     0.15916,     0.16016,     0.16116,     0.16216,     0.16316,     0.16416,     0.16517,     0.16617,     0.16717,\n",
            "           0.16817,     0.16917,     0.17017,     0.17117,     0.17217,     0.17317,     0.17417,     0.17518,     0.17618,     0.17718,     0.17818,     0.17918,     0.18018,     0.18118,     0.18218,     0.18318,     0.18418,     0.18519,     0.18619,     0.18719,     0.18819,     0.18919,     0.19019,     0.19119,\n",
            "           0.19219,     0.19319,     0.19419,      0.1952,      0.1962,      0.1972,      0.1982,      0.1992,      0.2002,      0.2012,      0.2022,      0.2032,      0.2042,     0.20521,     0.20621,     0.20721,     0.20821,     0.20921,     0.21021,     0.21121,     0.21221,     0.21321,     0.21421,     0.21522,\n",
            "           0.21622,     0.21722,     0.21822,     0.21922,     0.22022,     0.22122,     0.22222,     0.22322,     0.22422,     0.22523,     0.22623,     0.22723,     0.22823,     0.22923,     0.23023,     0.23123,     0.23223,     0.23323,     0.23423,     0.23524,     0.23624,     0.23724,     0.23824,     0.23924,\n",
            "           0.24024,     0.24124,     0.24224,     0.24324,     0.24424,     0.24525,     0.24625,     0.24725,     0.24825,     0.24925,     0.25025,     0.25125,     0.25225,     0.25325,     0.25425,     0.25526,     0.25626,     0.25726,     0.25826,     0.25926,     0.26026,     0.26126,     0.26226,     0.26326,\n",
            "           0.26426,     0.26527,     0.26627,     0.26727,     0.26827,     0.26927,     0.27027,     0.27127,     0.27227,     0.27327,     0.27427,     0.27528,     0.27628,     0.27728,     0.27828,     0.27928,     0.28028,     0.28128,     0.28228,     0.28328,     0.28428,     0.28529,     0.28629,     0.28729,\n",
            "           0.28829,     0.28929,     0.29029,     0.29129,     0.29229,     0.29329,     0.29429,      0.2953,      0.2963,      0.2973,      0.2983,      0.2993,      0.3003,      0.3013,      0.3023,      0.3033,      0.3043,     0.30531,     0.30631,     0.30731,     0.30831,     0.30931,     0.31031,     0.31131,\n",
            "           0.31231,     0.31331,     0.31431,     0.31532,     0.31632,     0.31732,     0.31832,     0.31932,     0.32032,     0.32132,     0.32232,     0.32332,     0.32432,     0.32533,     0.32633,     0.32733,     0.32833,     0.32933,     0.33033,     0.33133,     0.33233,     0.33333,     0.33433,     0.33534,\n",
            "           0.33634,     0.33734,     0.33834,     0.33934,     0.34034,     0.34134,     0.34234,     0.34334,     0.34434,     0.34535,     0.34635,     0.34735,     0.34835,     0.34935,     0.35035,     0.35135,     0.35235,     0.35335,     0.35435,     0.35536,     0.35636,     0.35736,     0.35836,     0.35936,\n",
            "           0.36036,     0.36136,     0.36236,     0.36336,     0.36436,     0.36537,     0.36637,     0.36737,     0.36837,     0.36937,     0.37037,     0.37137,     0.37237,     0.37337,     0.37437,     0.37538,     0.37638,     0.37738,     0.37838,     0.37938,     0.38038,     0.38138,     0.38238,     0.38338,\n",
            "           0.38438,     0.38539,     0.38639,     0.38739,     0.38839,     0.38939,     0.39039,     0.39139,     0.39239,     0.39339,     0.39439,      0.3954,      0.3964,      0.3974,      0.3984,      0.3994,      0.4004,      0.4014,      0.4024,      0.4034,      0.4044,     0.40541,     0.40641,     0.40741,\n",
            "           0.40841,     0.40941,     0.41041,     0.41141,     0.41241,     0.41341,     0.41441,     0.41542,     0.41642,     0.41742,     0.41842,     0.41942,     0.42042,     0.42142,     0.42242,     0.42342,     0.42442,     0.42543,     0.42643,     0.42743,     0.42843,     0.42943,     0.43043,     0.43143,\n",
            "           0.43243,     0.43343,     0.43443,     0.43544,     0.43644,     0.43744,     0.43844,     0.43944,     0.44044,     0.44144,     0.44244,     0.44344,     0.44444,     0.44545,     0.44645,     0.44745,     0.44845,     0.44945,     0.45045,     0.45145,     0.45245,     0.45345,     0.45445,     0.45546,\n",
            "           0.45646,     0.45746,     0.45846,     0.45946,     0.46046,     0.46146,     0.46246,     0.46346,     0.46446,     0.46547,     0.46647,     0.46747,     0.46847,     0.46947,     0.47047,     0.47147,     0.47247,     0.47347,     0.47447,     0.47548,     0.47648,     0.47748,     0.47848,     0.47948,\n",
            "           0.48048,     0.48148,     0.48248,     0.48348,     0.48448,     0.48549,     0.48649,     0.48749,     0.48849,     0.48949,     0.49049,     0.49149,     0.49249,     0.49349,     0.49449,      0.4955,      0.4965,      0.4975,      0.4985,      0.4995,      0.5005,      0.5015,      0.5025,      0.5035,\n",
            "            0.5045,     0.50551,     0.50651,     0.50751,     0.50851,     0.50951,     0.51051,     0.51151,     0.51251,     0.51351,     0.51451,     0.51552,     0.51652,     0.51752,     0.51852,     0.51952,     0.52052,     0.52152,     0.52252,     0.52352,     0.52452,     0.52553,     0.52653,     0.52753,\n",
            "           0.52853,     0.52953,     0.53053,     0.53153,     0.53253,     0.53353,     0.53453,     0.53554,     0.53654,     0.53754,     0.53854,     0.53954,     0.54054,     0.54154,     0.54254,     0.54354,     0.54454,     0.54555,     0.54655,     0.54755,     0.54855,     0.54955,     0.55055,     0.55155,\n",
            "           0.55255,     0.55355,     0.55455,     0.55556,     0.55656,     0.55756,     0.55856,     0.55956,     0.56056,     0.56156,     0.56256,     0.56356,     0.56456,     0.56557,     0.56657,     0.56757,     0.56857,     0.56957,     0.57057,     0.57157,     0.57257,     0.57357,     0.57457,     0.57558,\n",
            "           0.57658,     0.57758,     0.57858,     0.57958,     0.58058,     0.58158,     0.58258,     0.58358,     0.58458,     0.58559,     0.58659,     0.58759,     0.58859,     0.58959,     0.59059,     0.59159,     0.59259,     0.59359,     0.59459,      0.5956,      0.5966,      0.5976,      0.5986,      0.5996,\n",
            "            0.6006,      0.6016,      0.6026,      0.6036,      0.6046,     0.60561,     0.60661,     0.60761,     0.60861,     0.60961,     0.61061,     0.61161,     0.61261,     0.61361,     0.61461,     0.61562,     0.61662,     0.61762,     0.61862,     0.61962,     0.62062,     0.62162,     0.62262,     0.62362,\n",
            "           0.62462,     0.62563,     0.62663,     0.62763,     0.62863,     0.62963,     0.63063,     0.63163,     0.63263,     0.63363,     0.63463,     0.63564,     0.63664,     0.63764,     0.63864,     0.63964,     0.64064,     0.64164,     0.64264,     0.64364,     0.64464,     0.64565,     0.64665,     0.64765,\n",
            "           0.64865,     0.64965,     0.65065,     0.65165,     0.65265,     0.65365,     0.65465,     0.65566,     0.65666,     0.65766,     0.65866,     0.65966,     0.66066,     0.66166,     0.66266,     0.66366,     0.66466,     0.66567,     0.66667,     0.66767,     0.66867,     0.66967,     0.67067,     0.67167,\n",
            "           0.67267,     0.67367,     0.67467,     0.67568,     0.67668,     0.67768,     0.67868,     0.67968,     0.68068,     0.68168,     0.68268,     0.68368,     0.68468,     0.68569,     0.68669,     0.68769,     0.68869,     0.68969,     0.69069,     0.69169,     0.69269,     0.69369,     0.69469,      0.6957,\n",
            "            0.6967,      0.6977,      0.6987,      0.6997,      0.7007,      0.7017,      0.7027,      0.7037,      0.7047,     0.70571,     0.70671,     0.70771,     0.70871,     0.70971,     0.71071,     0.71171,     0.71271,     0.71371,     0.71471,     0.71572,     0.71672,     0.71772,     0.71872,     0.71972,\n",
            "           0.72072,     0.72172,     0.72272,     0.72372,     0.72472,     0.72573,     0.72673,     0.72773,     0.72873,     0.72973,     0.73073,     0.73173,     0.73273,     0.73373,     0.73473,     0.73574,     0.73674,     0.73774,     0.73874,     0.73974,     0.74074,     0.74174,     0.74274,     0.74374,\n",
            "           0.74474,     0.74575,     0.74675,     0.74775,     0.74875,     0.74975,     0.75075,     0.75175,     0.75275,     0.75375,     0.75475,     0.75576,     0.75676,     0.75776,     0.75876,     0.75976,     0.76076,     0.76176,     0.76276,     0.76376,     0.76476,     0.76577,     0.76677,     0.76777,\n",
            "           0.76877,     0.76977,     0.77077,     0.77177,     0.77277,     0.77377,     0.77477,     0.77578,     0.77678,     0.77778,     0.77878,     0.77978,     0.78078,     0.78178,     0.78278,     0.78378,     0.78478,     0.78579,     0.78679,     0.78779,     0.78879,     0.78979,     0.79079,     0.79179,\n",
            "           0.79279,     0.79379,     0.79479,      0.7958,      0.7968,      0.7978,      0.7988,      0.7998,      0.8008,      0.8018,      0.8028,      0.8038,      0.8048,     0.80581,     0.80681,     0.80781,     0.80881,     0.80981,     0.81081,     0.81181,     0.81281,     0.81381,     0.81481,     0.81582,\n",
            "           0.81682,     0.81782,     0.81882,     0.81982,     0.82082,     0.82182,     0.82282,     0.82382,     0.82482,     0.82583,     0.82683,     0.82783,     0.82883,     0.82983,     0.83083,     0.83183,     0.83283,     0.83383,     0.83483,     0.83584,     0.83684,     0.83784,     0.83884,     0.83984,\n",
            "           0.84084,     0.84184,     0.84284,     0.84384,     0.84484,     0.84585,     0.84685,     0.84785,     0.84885,     0.84985,     0.85085,     0.85185,     0.85285,     0.85385,     0.85485,     0.85586,     0.85686,     0.85786,     0.85886,     0.85986,     0.86086,     0.86186,     0.86286,     0.86386,\n",
            "           0.86486,     0.86587,     0.86687,     0.86787,     0.86887,     0.86987,     0.87087,     0.87187,     0.87287,     0.87387,     0.87487,     0.87588,     0.87688,     0.87788,     0.87888,     0.87988,     0.88088,     0.88188,     0.88288,     0.88388,     0.88488,     0.88589,     0.88689,     0.88789,\n",
            "           0.88889,     0.88989,     0.89089,     0.89189,     0.89289,     0.89389,     0.89489,      0.8959,      0.8969,      0.8979,      0.8989,      0.8999,      0.9009,      0.9019,      0.9029,      0.9039,      0.9049,     0.90591,     0.90691,     0.90791,     0.90891,     0.90991,     0.91091,     0.91191,\n",
            "           0.91291,     0.91391,     0.91491,     0.91592,     0.91692,     0.91792,     0.91892,     0.91992,     0.92092,     0.92192,     0.92292,     0.92392,     0.92492,     0.92593,     0.92693,     0.92793,     0.92893,     0.92993,     0.93093,     0.93193,     0.93293,     0.93393,     0.93493,     0.93594,\n",
            "           0.93694,     0.93794,     0.93894,     0.93994,     0.94094,     0.94194,     0.94294,     0.94394,     0.94494,     0.94595,     0.94695,     0.94795,     0.94895,     0.94995,     0.95095,     0.95195,     0.95295,     0.95395,     0.95495,     0.95596,     0.95696,     0.95796,     0.95896,     0.95996,\n",
            "           0.96096,     0.96196,     0.96296,     0.96396,     0.96496,     0.96597,     0.96697,     0.96797,     0.96897,     0.96997,     0.97097,     0.97197,     0.97297,     0.97397,     0.97497,     0.97598,     0.97698,     0.97798,     0.97898,     0.97998,     0.98098,     0.98198,     0.98298,     0.98398,\n",
            "           0.98498,     0.98599,     0.98699,     0.98799,     0.98899,     0.98999,     0.99099,     0.99199,     0.99299,     0.99399,     0.99499,       0.996,       0.997,       0.998,       0.999,           1]), array([[    0.05136,    0.051564,     0.12071, ...,           1,           1,           1],\n",
            "       [     0.0625,    0.062542,     0.15721, ...,           1,           1,           1],\n",
            "       [   0.030558,    0.030672,      0.2132, ...,           1,           1,           1],\n",
            "       ...,\n",
            "       [   0.038576,    0.038867,     0.14728, ...,           1,           1,           1],\n",
            "       [   0.065263,    0.065269,      0.1643, ...,           1,           1,           1],\n",
            "       [   0.064516,    0.064701,     0.19424, ...,           1,           1,           1]]), 'Confidence', 'Precision'], [array([          0,    0.001001,    0.002002,    0.003003,    0.004004,    0.005005,    0.006006,    0.007007,    0.008008,    0.009009,     0.01001,    0.011011,    0.012012,    0.013013,    0.014014,    0.015015,    0.016016,    0.017017,    0.018018,    0.019019,     0.02002,    0.021021,    0.022022,    0.023023,\n",
            "          0.024024,    0.025025,    0.026026,    0.027027,    0.028028,    0.029029,     0.03003,    0.031031,    0.032032,    0.033033,    0.034034,    0.035035,    0.036036,    0.037037,    0.038038,    0.039039,     0.04004,    0.041041,    0.042042,    0.043043,    0.044044,    0.045045,    0.046046,    0.047047,\n",
            "          0.048048,    0.049049,     0.05005,    0.051051,    0.052052,    0.053053,    0.054054,    0.055055,    0.056056,    0.057057,    0.058058,    0.059059,     0.06006,    0.061061,    0.062062,    0.063063,    0.064064,    0.065065,    0.066066,    0.067067,    0.068068,    0.069069,     0.07007,    0.071071,\n",
            "          0.072072,    0.073073,    0.074074,    0.075075,    0.076076,    0.077077,    0.078078,    0.079079,     0.08008,    0.081081,    0.082082,    0.083083,    0.084084,    0.085085,    0.086086,    0.087087,    0.088088,    0.089089,     0.09009,    0.091091,    0.092092,    0.093093,    0.094094,    0.095095,\n",
            "          0.096096,    0.097097,    0.098098,    0.099099,      0.1001,      0.1011,      0.1021,      0.1031,      0.1041,     0.10511,     0.10611,     0.10711,     0.10811,     0.10911,     0.11011,     0.11111,     0.11211,     0.11311,     0.11411,     0.11512,     0.11612,     0.11712,     0.11812,     0.11912,\n",
            "           0.12012,     0.12112,     0.12212,     0.12312,     0.12412,     0.12513,     0.12613,     0.12713,     0.12813,     0.12913,     0.13013,     0.13113,     0.13213,     0.13313,     0.13413,     0.13514,     0.13614,     0.13714,     0.13814,     0.13914,     0.14014,     0.14114,     0.14214,     0.14314,\n",
            "           0.14414,     0.14515,     0.14615,     0.14715,     0.14815,     0.14915,     0.15015,     0.15115,     0.15215,     0.15315,     0.15415,     0.15516,     0.15616,     0.15716,     0.15816,     0.15916,     0.16016,     0.16116,     0.16216,     0.16316,     0.16416,     0.16517,     0.16617,     0.16717,\n",
            "           0.16817,     0.16917,     0.17017,     0.17117,     0.17217,     0.17317,     0.17417,     0.17518,     0.17618,     0.17718,     0.17818,     0.17918,     0.18018,     0.18118,     0.18218,     0.18318,     0.18418,     0.18519,     0.18619,     0.18719,     0.18819,     0.18919,     0.19019,     0.19119,\n",
            "           0.19219,     0.19319,     0.19419,      0.1952,      0.1962,      0.1972,      0.1982,      0.1992,      0.2002,      0.2012,      0.2022,      0.2032,      0.2042,     0.20521,     0.20621,     0.20721,     0.20821,     0.20921,     0.21021,     0.21121,     0.21221,     0.21321,     0.21421,     0.21522,\n",
            "           0.21622,     0.21722,     0.21822,     0.21922,     0.22022,     0.22122,     0.22222,     0.22322,     0.22422,     0.22523,     0.22623,     0.22723,     0.22823,     0.22923,     0.23023,     0.23123,     0.23223,     0.23323,     0.23423,     0.23524,     0.23624,     0.23724,     0.23824,     0.23924,\n",
            "           0.24024,     0.24124,     0.24224,     0.24324,     0.24424,     0.24525,     0.24625,     0.24725,     0.24825,     0.24925,     0.25025,     0.25125,     0.25225,     0.25325,     0.25425,     0.25526,     0.25626,     0.25726,     0.25826,     0.25926,     0.26026,     0.26126,     0.26226,     0.26326,\n",
            "           0.26426,     0.26527,     0.26627,     0.26727,     0.26827,     0.26927,     0.27027,     0.27127,     0.27227,     0.27327,     0.27427,     0.27528,     0.27628,     0.27728,     0.27828,     0.27928,     0.28028,     0.28128,     0.28228,     0.28328,     0.28428,     0.28529,     0.28629,     0.28729,\n",
            "           0.28829,     0.28929,     0.29029,     0.29129,     0.29229,     0.29329,     0.29429,      0.2953,      0.2963,      0.2973,      0.2983,      0.2993,      0.3003,      0.3013,      0.3023,      0.3033,      0.3043,     0.30531,     0.30631,     0.30731,     0.30831,     0.30931,     0.31031,     0.31131,\n",
            "           0.31231,     0.31331,     0.31431,     0.31532,     0.31632,     0.31732,     0.31832,     0.31932,     0.32032,     0.32132,     0.32232,     0.32332,     0.32432,     0.32533,     0.32633,     0.32733,     0.32833,     0.32933,     0.33033,     0.33133,     0.33233,     0.33333,     0.33433,     0.33534,\n",
            "           0.33634,     0.33734,     0.33834,     0.33934,     0.34034,     0.34134,     0.34234,     0.34334,     0.34434,     0.34535,     0.34635,     0.34735,     0.34835,     0.34935,     0.35035,     0.35135,     0.35235,     0.35335,     0.35435,     0.35536,     0.35636,     0.35736,     0.35836,     0.35936,\n",
            "           0.36036,     0.36136,     0.36236,     0.36336,     0.36436,     0.36537,     0.36637,     0.36737,     0.36837,     0.36937,     0.37037,     0.37137,     0.37237,     0.37337,     0.37437,     0.37538,     0.37638,     0.37738,     0.37838,     0.37938,     0.38038,     0.38138,     0.38238,     0.38338,\n",
            "           0.38438,     0.38539,     0.38639,     0.38739,     0.38839,     0.38939,     0.39039,     0.39139,     0.39239,     0.39339,     0.39439,      0.3954,      0.3964,      0.3974,      0.3984,      0.3994,      0.4004,      0.4014,      0.4024,      0.4034,      0.4044,     0.40541,     0.40641,     0.40741,\n",
            "           0.40841,     0.40941,     0.41041,     0.41141,     0.41241,     0.41341,     0.41441,     0.41542,     0.41642,     0.41742,     0.41842,     0.41942,     0.42042,     0.42142,     0.42242,     0.42342,     0.42442,     0.42543,     0.42643,     0.42743,     0.42843,     0.42943,     0.43043,     0.43143,\n",
            "           0.43243,     0.43343,     0.43443,     0.43544,     0.43644,     0.43744,     0.43844,     0.43944,     0.44044,     0.44144,     0.44244,     0.44344,     0.44444,     0.44545,     0.44645,     0.44745,     0.44845,     0.44945,     0.45045,     0.45145,     0.45245,     0.45345,     0.45445,     0.45546,\n",
            "           0.45646,     0.45746,     0.45846,     0.45946,     0.46046,     0.46146,     0.46246,     0.46346,     0.46446,     0.46547,     0.46647,     0.46747,     0.46847,     0.46947,     0.47047,     0.47147,     0.47247,     0.47347,     0.47447,     0.47548,     0.47648,     0.47748,     0.47848,     0.47948,\n",
            "           0.48048,     0.48148,     0.48248,     0.48348,     0.48448,     0.48549,     0.48649,     0.48749,     0.48849,     0.48949,     0.49049,     0.49149,     0.49249,     0.49349,     0.49449,      0.4955,      0.4965,      0.4975,      0.4985,      0.4995,      0.5005,      0.5015,      0.5025,      0.5035,\n",
            "            0.5045,     0.50551,     0.50651,     0.50751,     0.50851,     0.50951,     0.51051,     0.51151,     0.51251,     0.51351,     0.51451,     0.51552,     0.51652,     0.51752,     0.51852,     0.51952,     0.52052,     0.52152,     0.52252,     0.52352,     0.52452,     0.52553,     0.52653,     0.52753,\n",
            "           0.52853,     0.52953,     0.53053,     0.53153,     0.53253,     0.53353,     0.53453,     0.53554,     0.53654,     0.53754,     0.53854,     0.53954,     0.54054,     0.54154,     0.54254,     0.54354,     0.54454,     0.54555,     0.54655,     0.54755,     0.54855,     0.54955,     0.55055,     0.55155,\n",
            "           0.55255,     0.55355,     0.55455,     0.55556,     0.55656,     0.55756,     0.55856,     0.55956,     0.56056,     0.56156,     0.56256,     0.56356,     0.56456,     0.56557,     0.56657,     0.56757,     0.56857,     0.56957,     0.57057,     0.57157,     0.57257,     0.57357,     0.57457,     0.57558,\n",
            "           0.57658,     0.57758,     0.57858,     0.57958,     0.58058,     0.58158,     0.58258,     0.58358,     0.58458,     0.58559,     0.58659,     0.58759,     0.58859,     0.58959,     0.59059,     0.59159,     0.59259,     0.59359,     0.59459,      0.5956,      0.5966,      0.5976,      0.5986,      0.5996,\n",
            "            0.6006,      0.6016,      0.6026,      0.6036,      0.6046,     0.60561,     0.60661,     0.60761,     0.60861,     0.60961,     0.61061,     0.61161,     0.61261,     0.61361,     0.61461,     0.61562,     0.61662,     0.61762,     0.61862,     0.61962,     0.62062,     0.62162,     0.62262,     0.62362,\n",
            "           0.62462,     0.62563,     0.62663,     0.62763,     0.62863,     0.62963,     0.63063,     0.63163,     0.63263,     0.63363,     0.63463,     0.63564,     0.63664,     0.63764,     0.63864,     0.63964,     0.64064,     0.64164,     0.64264,     0.64364,     0.64464,     0.64565,     0.64665,     0.64765,\n",
            "           0.64865,     0.64965,     0.65065,     0.65165,     0.65265,     0.65365,     0.65465,     0.65566,     0.65666,     0.65766,     0.65866,     0.65966,     0.66066,     0.66166,     0.66266,     0.66366,     0.66466,     0.66567,     0.66667,     0.66767,     0.66867,     0.66967,     0.67067,     0.67167,\n",
            "           0.67267,     0.67367,     0.67467,     0.67568,     0.67668,     0.67768,     0.67868,     0.67968,     0.68068,     0.68168,     0.68268,     0.68368,     0.68468,     0.68569,     0.68669,     0.68769,     0.68869,     0.68969,     0.69069,     0.69169,     0.69269,     0.69369,     0.69469,      0.6957,\n",
            "            0.6967,      0.6977,      0.6987,      0.6997,      0.7007,      0.7017,      0.7027,      0.7037,      0.7047,     0.70571,     0.70671,     0.70771,     0.70871,     0.70971,     0.71071,     0.71171,     0.71271,     0.71371,     0.71471,     0.71572,     0.71672,     0.71772,     0.71872,     0.71972,\n",
            "           0.72072,     0.72172,     0.72272,     0.72372,     0.72472,     0.72573,     0.72673,     0.72773,     0.72873,     0.72973,     0.73073,     0.73173,     0.73273,     0.73373,     0.73473,     0.73574,     0.73674,     0.73774,     0.73874,     0.73974,     0.74074,     0.74174,     0.74274,     0.74374,\n",
            "           0.74474,     0.74575,     0.74675,     0.74775,     0.74875,     0.74975,     0.75075,     0.75175,     0.75275,     0.75375,     0.75475,     0.75576,     0.75676,     0.75776,     0.75876,     0.75976,     0.76076,     0.76176,     0.76276,     0.76376,     0.76476,     0.76577,     0.76677,     0.76777,\n",
            "           0.76877,     0.76977,     0.77077,     0.77177,     0.77277,     0.77377,     0.77477,     0.77578,     0.77678,     0.77778,     0.77878,     0.77978,     0.78078,     0.78178,     0.78278,     0.78378,     0.78478,     0.78579,     0.78679,     0.78779,     0.78879,     0.78979,     0.79079,     0.79179,\n",
            "           0.79279,     0.79379,     0.79479,      0.7958,      0.7968,      0.7978,      0.7988,      0.7998,      0.8008,      0.8018,      0.8028,      0.8038,      0.8048,     0.80581,     0.80681,     0.80781,     0.80881,     0.80981,     0.81081,     0.81181,     0.81281,     0.81381,     0.81481,     0.81582,\n",
            "           0.81682,     0.81782,     0.81882,     0.81982,     0.82082,     0.82182,     0.82282,     0.82382,     0.82482,     0.82583,     0.82683,     0.82783,     0.82883,     0.82983,     0.83083,     0.83183,     0.83283,     0.83383,     0.83483,     0.83584,     0.83684,     0.83784,     0.83884,     0.83984,\n",
            "           0.84084,     0.84184,     0.84284,     0.84384,     0.84484,     0.84585,     0.84685,     0.84785,     0.84885,     0.84985,     0.85085,     0.85185,     0.85285,     0.85385,     0.85485,     0.85586,     0.85686,     0.85786,     0.85886,     0.85986,     0.86086,     0.86186,     0.86286,     0.86386,\n",
            "           0.86486,     0.86587,     0.86687,     0.86787,     0.86887,     0.86987,     0.87087,     0.87187,     0.87287,     0.87387,     0.87487,     0.87588,     0.87688,     0.87788,     0.87888,     0.87988,     0.88088,     0.88188,     0.88288,     0.88388,     0.88488,     0.88589,     0.88689,     0.88789,\n",
            "           0.88889,     0.88989,     0.89089,     0.89189,     0.89289,     0.89389,     0.89489,      0.8959,      0.8969,      0.8979,      0.8989,      0.8999,      0.9009,      0.9019,      0.9029,      0.9039,      0.9049,     0.90591,     0.90691,     0.90791,     0.90891,     0.90991,     0.91091,     0.91191,\n",
            "           0.91291,     0.91391,     0.91491,     0.91592,     0.91692,     0.91792,     0.91892,     0.91992,     0.92092,     0.92192,     0.92292,     0.92392,     0.92492,     0.92593,     0.92693,     0.92793,     0.92893,     0.92993,     0.93093,     0.93193,     0.93293,     0.93393,     0.93493,     0.93594,\n",
            "           0.93694,     0.93794,     0.93894,     0.93994,     0.94094,     0.94194,     0.94294,     0.94394,     0.94494,     0.94595,     0.94695,     0.94795,     0.94895,     0.94995,     0.95095,     0.95195,     0.95295,     0.95395,     0.95495,     0.95596,     0.95696,     0.95796,     0.95896,     0.95996,\n",
            "           0.96096,     0.96196,     0.96296,     0.96396,     0.96496,     0.96597,     0.96697,     0.96797,     0.96897,     0.96997,     0.97097,     0.97197,     0.97297,     0.97397,     0.97497,     0.97598,     0.97698,     0.97798,     0.97898,     0.97998,     0.98098,     0.98198,     0.98298,     0.98398,\n",
            "           0.98498,     0.98599,     0.98699,     0.98799,     0.98899,     0.98999,     0.99099,     0.99199,     0.99299,     0.99399,     0.99499,       0.996,       0.997,       0.998,       0.999,           1]), array([[          1,           1,           1, ...,     0.19839,     0.12099,           0],\n",
            "       [          1,           1,           1, ...,      0.2068,     0.10416,           0],\n",
            "       [          1,           1,           1, ...,     0.51025,     0.22467,           0],\n",
            "       ...,\n",
            "       [          1,           1,           1, ...,     0.10447,    0.044931,           0],\n",
            "       [          1,           1,           1, ...,     0.59263,     0.42478,           0],\n",
            "       [          1,           1,           1, ...,     0.35563,     0.28661,           0]]), 'Confidence', 'Recall']]\n",
            "fitness: np.float64(0.9496013384274166)\n",
            "keys: ['metrics/precision(B)', 'metrics/recall(B)', 'metrics/mAP50(B)', 'metrics/mAP50-95(B)']\n",
            "maps: array([    0.91065,      0.9209,     0.98937,     0.91685,     0.87125,     0.98365,     0.96997,     0.94467,     0.99318,       0.995])\n",
            "names: {0: 'Laptop', 1: 'Keyboard', 2: 'Mouse', 3: 'Phone', 4: 'Pen', 5: 'Chair', 6: 'Table', 7: 'Book', 8: 'Watch', 9: 'Bottle'}\n",
            "nt_per_class: array([17, 29, 29, 32, 24, 40, 43, 26, 31, 28])\n",
            "nt_per_image: array([17, 29, 29, 32, 24, 40, 43, 26, 31, 28])\n",
            "results_dict: {'metrics/precision(B)': np.float64(0.9472839604751174), 'metrics/recall(B)': np.float64(0.877398422969048), 'metrics/mAP50(B)': np.float64(0.9500620314365349), 'metrics/mAP50-95(B)': np.float64(0.9495501503152923), 'fitness': np.float64(0.9496013384274166)}\n",
            "speed: {'preprocess': 0.5852134280937502, 'inference': 4.309241484957376, 'loss': 0.0007384983245931632, 'postprocess': 2.601970929764658}\n",
            "stats: {'tp': [], 'conf': [], 'pred_cls': [], 'target_cls': [], 'target_img': []}\n",
            "task: 'detect'\n"
          ]
        }
      ]
    },
    {
      "cell_type": "code",
      "metadata": {
        "colab": {
          "base_uri": "https://localhost:8080/",
          "height": 238
        },
        "id": "c42e7f4f",
        "outputId": "b2945dc6-aa7d-4a71-dc38-c7fe002166f0"
      },
      "source": [
        "import matplotlib.pyplot as plt\n",
        "import os\n",
        "import pandas as pd\n",
        "\n",
        "# ✅ Langkah 3: Visualisasi Hasil Training\n",
        "def plot_metrics(results_dir):\n",
        "    metrics_file = os.path.join(results_dir, 'results.csv')\n",
        "    if not os.path.exists(metrics_file):\n",
        "        print(\"⚠️ File metrics tidak ditemukan.\")\n",
        "        return\n",
        "\n",
        "    df = pd.read_csv(metrics_file)\n",
        "\n",
        "    # Menghapus spasi di awal nama kolom\n",
        "    df.columns = df.columns.str.strip()\n",
        "\n",
        "    plt.figure(figsize=(14, 5))\n",
        "\n",
        "    # Plot Loss\n",
        "    plt.subplot(1, 3, 1)\n",
        "    # Menggunakan nama kolom yang benar berdasarkan output sebelumnya\n",
        "    plt.plot(df['train/box_loss'], label='Box Loss')\n",
        "    plt.plot(df['train/cls_loss'], label='Class Loss')\n",
        "    plt.title(\"Training Loss\")\n",
        "    plt.xlabel(\"Epoch\")\n",
        "    plt.legend()\n",
        "\n",
        "    # Plot mAP\n",
        "    plt.subplot(1, 3, 2)\n",
        "    # Menggunakan nama kolom yang benar berdasarkan output sebelumnya\n",
        "    plt.plot(df['metrics/mAP50(B)'], label='mAP@0.5')\n",
        "    plt.plot(df['metrics/mAP50-95(B)'], label='mAP@0.5:0.95')\n",
        "    plt.title(\"Mean Average Precision\")\n",
        "    plt.xlabel(\"Epoch\")\n",
        "    plt.legend()\n",
        "\n",
        "    # Plot Precision & Recall\n",
        "    plt.subplot(1, 3, 3)\n",
        "    # Menggunakan nama kolom yang benar berdasarkan output sebelumnya\n",
        "    plt.plot(df['metrics/precision(B)'], label='Precision')\n",
        "    plt.plot(df['metrics/recall(B)'], label='Recall')\n",
        "    plt.title(\"Precision & Recall\")\n",
        "    plt.xlabel(\"Epoch\")\n",
        "    plt.legend()\n",
        "\n",
        "    plt.tight_layout()\n",
        "    plt.show()\n",
        "\n",
        "# Tentukan path hasil training (sesuai nama di atas)\n",
        "plot_metrics('runs/train/custom_yolo_objects')"
      ],
      "execution_count": null,
      "outputs": [
        {
          "output_type": "display_data",
          "data": {
            "text/plain": [
              "<Figure size 1400x500 with 3 Axes>"
            ],
            "image/png": "[encoded data removed]"
          },
          "metadata": {}
        }
      ]
    },
    {
      "cell_type": "code",
      "metadata": {
        "colab": {
          "base_uri": "https://localhost:8080/"
        },
        "id": "526aac40",
        "outputId": "1d327b45-0da9-4c08-83ec-3b7943d0f1d9"
      },
      "source": [
        "import pandas as pd\n",
        "import os\n",
        "\n",
        "results_path = 'runs/train/custom_yolo_objects/results.csv'\n",
        "\n",
        "if os.path.exists(results_path):\n",
        "    df_results = pd.read_csv(results_path)\n",
        "    print(\"Columns in results.csv:\")\n",
        "    print(df_results.columns)\n",
        "else:\n",
        "    print(f\"Error: {results_path} not found.\")"
      ],
      "execution_count": null,
      "outputs": [
        {
          "output_type": "stream",
          "name": "stdout",
          "text": [
            "Columns in results.csv:\n",
            "Index(['epoch', 'time', 'train/box_loss', 'train/cls_loss', 'train/dfl_loss',\n",
            "       'metrics/precision(B)', 'metrics/recall(B)', 'metrics/mAP50(B)',\n",
            "       'metrics/mAP50-95(B)', 'val/box_loss', 'val/cls_loss', 'val/dfl_loss',\n",
            "       'lr/pg0', 'lr/pg1', 'lr/pg2'],\n",
            "      dtype='object')\n"
          ]
        }
      ]
    }
  ]
}